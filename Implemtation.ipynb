{
 "cells": [
  {
   "attachments": {},
   "cell_type": "markdown",
   "metadata": {},
   "source": [
    "# Dependable AI - Minor 1\n",
    "\n",
    "## Implementation of the Research Paper: \"Sparse and Imperceivable Adversarial Attacks\" by Francesco Croce and Matthias Hein - University of Tubingen\n",
    "\n",
    "    Ayush Abrol B20AI052\n",
    "\n",
    "---"
   ]
  },
  {
   "attachments": {},
   "cell_type": "markdown",
   "metadata": {},
   "source": [
    "### Importing necessary libraries and modules"
   ]
  },
  {
   "cell_type": "code",
   "execution_count": 30,
   "metadata": {},
   "outputs": [],
   "source": [
    "import pandas as pd\n",
    "import numpy as np\n",
    "import matplotlib.pyplot as plt\n",
    "%matplotlib inline\n",
    "import torch\n",
    "torch.cuda.empty_cache()\n",
    "import torchvision\n",
    "import torch.utils.data\n",
    "from torch import nn, optim\n",
    "from torch.nn import functional as F\n",
    "from torchvision import datasets, transforms\n",
    "from torchvision.utils import save_image\n",
    "import warnings\n",
    "warnings.filterwarnings('ignore')\n",
    "import argparse"
   ]
  },
  {
   "attachments": {},
   "cell_type": "markdown",
   "metadata": {},
   "source": [
    "### Setting up the environment to GPU"
   ]
  },
  {
   "cell_type": "code",
   "execution_count": 31,
   "metadata": {},
   "outputs": [
    {
     "data": {
      "text/plain": [
       "device(type='cuda')"
      ]
     },
     "execution_count": 31,
     "metadata": {},
     "output_type": "execute_result"
    }
   ],
   "source": [
    "device = torch.device(\"cuda\"  if  torch.cuda.is_available()  else  \"cpu\")\n",
    "device"
   ]
  },
  {
   "attachments": {},
   "cell_type": "markdown",
   "metadata": {},
   "source": [
    "### Clearing my GPU cache"
   ]
  },
  {
   "cell_type": "code",
   "execution_count": 32,
   "metadata": {},
   "outputs": [],
   "source": [
    "torch.cuda.empty_cache()"
   ]
  },
  {
   "attachments": {},
   "cell_type": "markdown",
   "metadata": {},
   "source": [
    "### Implementing some utility functions"
   ]
  },
  {
   "attachments": {},
   "cell_type": "markdown",
   "metadata": {},
   "source": [
    "#### Calcualting Logits"
   ]
  },
  {
   "cell_type": "code",
   "execution_count": 33,
   "metadata": {},
   "outputs": [],
   "source": [
    "def get_logits(model, x_nat):   # x_nat is a numpy array of shape (N, 32, 32, 3)\n",
    "    x = torch.from_numpy(x_nat).permute(0, 3, 1, 2).float() # Converting to torch tensor and permute dimensions\n",
    "    \n",
    "    with torch.no_grad(): \n",
    "        output = model(x.to(device)) # Forward pass\n",
    "    \n",
    "    return output.cpu().numpy() # Return logits"
   ]
  },
  {
   "attachments": {},
   "cell_type": "markdown",
   "metadata": {},
   "source": [
    "#### Function to return the predictions of the model"
   ]
  },
  {
   "cell_type": "code",
   "execution_count": 34,
   "metadata": {},
   "outputs": [],
   "source": [
    "def get_predictions(model, x_nat, y_nat): \n",
    "    x = torch.from_numpy(x_nat).permute(0, 3, 1, 2).float()\n",
    "    y = torch.from_numpy(y_nat)\n",
    "    with torch.no_grad():\n",
    "        output = model(x.to(device))\n",
    "    return (output.cpu().max(dim=-1)[1] == y).numpy()"
   ]
  },
  {
   "attachments": {},
   "cell_type": "markdown",
   "metadata": {},
   "source": [
    "#### Function to return the predictions and the gradients of the model using Cross Entropy Loss"
   ]
  },
  {
   "cell_type": "code",
   "execution_count": 35,
   "metadata": {},
   "outputs": [],
   "source": [
    "def get_predictions_and_gradients(model, x_nat, y_nat):\n",
    "    x = torch.from_numpy(x_nat).permute(0, 3, 1, 2).float()\n",
    "    x.requires_grad_()\n",
    "    y = torch.from_numpy(y_nat)\n",
    "\n",
    "    with torch.enable_grad():\n",
    "        output = model(x.to(device))\n",
    "        loss = nn.CrossEntropyLoss()(output, y.to(device))\n",
    "\n",
    "    grad = torch.autograd.grad(loss, x)[0]\n",
    "    grad = grad.detach().permute(0, 2, 3, 1).numpy()\n",
    "\n",
    "    pred = (output.detach().cpu().max(dim=-1)[1] == y).numpy()\n",
    "\n",
    "    return pred, grad"
   ]
  },
  {
   "attachments": {},
   "cell_type": "markdown",
   "metadata": {},
   "source": [
    "### Loading dataset function\n",
    "\n",
    "Note: We can use CIFAR10, MNIST or the FashionMNIST dataset"
   ]
  },
  {
   "cell_type": "code",
   "execution_count": 36,
   "metadata": {},
   "outputs": [],
   "source": [
    "def load_data(dataset, n_examples, data_dir='./data'):\n",
    "    if dataset == 'cifar10':\n",
    "        transform_chain = transforms.Compose([transforms.ToTensor()])\n",
    "        item = datasets.CIFAR10(root=data_dir, train=False, transform=transform_chain, download=True)\n",
    "        test_loader = torch.utils.data.DataLoader(item, batch_size=1, shuffle=False, num_workers=0)\n",
    "    \n",
    "    elif dataset == 'mnist':\n",
    "        transform_chain = transforms.Compose([transforms.Grayscale(3),\n",
    "                                              transforms.ToTensor(),])\n",
    "        image_dataset = datasets.MNIST(root=data_dir, train=False, transform=transform_chain, download=True)\n",
    "        test_loader = torch.utils.data.DataLoader(image_dataset, batch_size=1, shuffle=False, num_workers=0)\n",
    "    \n",
    "    elif dataset == 'FashionMNIST':\n",
    "        transform_chain = transforms.Compose([transforms.Grayscale(3),\n",
    "                                              transforms.ToTensor(),])\n",
    "        image_dataset = datasets.FashionMNIST(root=data_dir, train=False, transform=transform_chain, download=True)\n",
    "        test_loader = torch.utils.data.DataLoader(image_dataset, batch_size=1, shuffle=False, num_workers=0)\n",
    "    \n",
    "    x_test = torch.cat([x for (x, y) in test_loader], 0)[:n_examples].permute(0, 2, 3, 1)  # (N, 32, 32, 3)\n",
    "    y_test = torch.cat([y for (x, y) in test_loader], 0)[:n_examples]\n",
    "    \n",
    "    return x_test.numpy(), y_test.numpy()"
   ]
  },
  {
   "attachments": {},
   "cell_type": "markdown",
   "metadata": {},
   "source": [
    "### Creating ResNet models"
   ]
  },
  {
   "attachments": {},
   "cell_type": "markdown",
   "metadata": {},
   "source": [
    "#### Basic ResNet Block (Residual Block) with Batch Normalization and ReLU"
   ]
  },
  {
   "cell_type": "code",
   "execution_count": 37,
   "metadata": {},
   "outputs": [],
   "source": [
    "class BasicBlock(nn.Module):\n",
    "    expansion = 1\n",
    "\n",
    "    def __init__(self, in_planes, planes, stride=1):\n",
    "        super(BasicBlock, self).__init__()\n",
    "        self.conv1 = nn.Conv2d(in_planes, planes, kernel_size=3, stride=stride, padding=1, bias=False)\n",
    "        self.bn1 = nn.BatchNorm2d(planes)\n",
    "        self.conv2 = nn.Conv2d(planes, planes, kernel_size=3, stride=1, padding=1, bias=False)\n",
    "        self.bn2 = nn.BatchNorm2d(planes)\n",
    "\n",
    "        self.shortcut = nn.Sequential()\n",
    "        if stride != 1 or in_planes != self.expansion * planes:\n",
    "            self.shortcut = nn.Sequential(\n",
    "                nn.Conv2d(in_planes, self.expansion * planes, kernel_size=1, stride=stride, bias=False),\n",
    "                nn.BatchNorm2d(self.expansion * planes)\n",
    "            )\n",
    "\n",
    "    def forward(self, x):\n",
    "        out = F.relu(self.bn1(self.conv1(x)))\n",
    "        out = self.bn2(self.conv2(out))\n",
    "        out += self.shortcut(x)\n",
    "        out = F.relu(out)\n",
    "        return out"
   ]
  },
  {
   "attachments": {},
   "cell_type": "markdown",
   "metadata": {},
   "source": [
    "#### BottleNeck ResNet Block (Residual Block) with Batch Normalization and ReLU"
   ]
  },
  {
   "cell_type": "code",
   "execution_count": 38,
   "metadata": {},
   "outputs": [],
   "source": [
    "class Bottleneck(nn.Module):\n",
    "    expansion = 4\n",
    "\n",
    "    def __init__(self, in_planes, planes, stride=1):\n",
    "        super(Bottleneck, self).__init__()\n",
    "        self.conv1 = nn.Conv2d(in_planes, planes, kernel_size=1, bias=False)\n",
    "        self.bn1 = nn.BatchNorm2d(planes)\n",
    "        self.conv2 = nn.Conv2d(planes, planes, kernel_size=3, stride=stride, \n",
    "                               padding=1, bias=False)\n",
    "        self.bn2 = nn.BatchNorm2d(planes)\n",
    "        self.conv3 = nn.Conv2d(planes, self.expansion * planes, kernel_size=1, \n",
    "                               bias=False)\n",
    "        self.bn3 = nn.BatchNorm2d(self.expansion * planes)\n",
    "\n",
    "        self.shortcut = nn.Sequential()\n",
    "        if stride != 1 or in_planes != self.expansion * planes:\n",
    "            self.shortcut = nn.Sequential(\n",
    "                nn.Conv2d(in_planes, self.expansion * planes, kernel_size=1, \n",
    "                          stride=stride, bias=False),\n",
    "                nn.BatchNorm2d(self.expansion * planes)\n",
    "            )\n",
    "\n",
    "    def forward(self, x):\n",
    "        out = F.relu(self.bn1(self.conv1(x)))\n",
    "        out = F.relu(self.bn2(self.conv2(out)))\n",
    "        out = self.bn3(self.conv3(out))\n",
    "        out += self.shortcut(x)\n",
    "        out = F.relu(out)\n",
    "        return out"
   ]
  },
  {
   "attachments": {},
   "cell_type": "markdown",
   "metadata": {},
   "source": [
    "#### ResNet Model which can be used to create ResNet models of different depths."
   ]
  },
  {
   "cell_type": "code",
   "execution_count": 39,
   "metadata": {},
   "outputs": [],
   "source": [
    "class ResNet(nn.Module):\n",
    "    def __init__(self, block, num_blocks, num_classes=10):\n",
    "        super(ResNet, self).__init__()\n",
    "        self.in_planes = 64\n",
    "\n",
    "        self.conv1 = nn.Conv2d(3, 64, kernel_size=3, stride=1, padding=1, bias=False)\n",
    "        self.bn1 = nn.BatchNorm2d(64)\n",
    "        self.layer1 = self._make_layer(block, 64, num_blocks[0], stride=1)\n",
    "        self.layer2 = self._make_layer(block, 128, num_blocks[1], stride=2)\n",
    "        self.layer3 = self._make_layer(block, 256, num_blocks[2], stride=2)\n",
    "        self.layer4 = self._make_layer(block, 512, num_blocks[3], stride=2)\n",
    "        self.linear = nn.Linear(512 * block.expansion, num_classes)\n",
    "\n",
    "    def _make_layer(self, block, planes, num_blocks, stride):\n",
    "        strides = [stride] + [1] * (num_blocks - 1)\n",
    "        layers = []\n",
    "        for stride in strides:\n",
    "            layers.append(block(self.in_planes, planes, stride))\n",
    "            self.in_planes = planes * block.expansion\n",
    "        return nn.Sequential(*layers)\n",
    "\n",
    "    def forward(self, x):\n",
    "        out = F.relu(self.bn1(self.conv1(x)))\n",
    "        out = self.layer1(out)\n",
    "        out = self.layer2(out)\n",
    "        out = self.layer3(out)\n",
    "        out = self.layer4(out)\n",
    "        out = F.avg_pool2d(out, 4)\n",
    "        out = out.view(out.size(0), -1)\n",
    "        out = self.linear(out)\n",
    "        return out"
   ]
  },
  {
   "attachments": {},
   "cell_type": "markdown",
   "metadata": {},
   "source": [
    "#### Now we will create ResNet models of different depths using Basic ResNet Blocks and BottleNeck ResNet Blocks"
   ]
  },
  {
   "cell_type": "code",
   "execution_count": 40,
   "metadata": {},
   "outputs": [],
   "source": [
    "def ResNet18():\n",
    "    return ResNet(BasicBlock, [2, 2, 2, 2])\n",
    "\n",
    "\n",
    "def ResNet34():\n",
    "    return ResNet(BasicBlock, [3, 4, 6, 3])\n",
    "\n",
    "\n",
    "def ResNet50():\n",
    "    return ResNet(Bottleneck, [3, 4, 6, 3])\n",
    "\n",
    "\n",
    "def ResNet101():\n",
    "    return ResNet(Bottleneck, [3, 4, 23, 3])\n",
    "\n",
    "\n",
    "def ResNet152():\n",
    "    return ResNet(Bottleneck, [3, 8, 36, 3])"
   ]
  },
  {
   "attachments": {},
   "cell_type": "markdown",
   "metadata": {},
   "source": [
    "#### Defining the test function to test the model with ResNet18."
   ]
  },
  {
   "cell_type": "code",
   "execution_count": 41,
   "metadata": {},
   "outputs": [],
   "source": [
    "def test():\n",
    "    net = ResNet18()\n",
    "    y = net(torch.randn(1, 3, 32, 32))\n",
    "    print(y.size())"
   ]
  },
  {
   "attachments": {},
   "cell_type": "markdown",
   "metadata": {},
   "source": [
    "### Defining the CornerSearch attacks"
   ]
  },
  {
   "attachments": {},
   "cell_type": "markdown",
   "metadata": {},
   "source": [
    "#### One-pixel modifications to the image using the CornerSearch attack"
   ]
  },
  {
   "cell_type": "code",
   "execution_count": 42,
   "metadata": {},
   "outputs": [],
   "source": [
    "def onepixel_perturbation(attack, orig_x, pos, sigma):\n",
    "  ''' returns a batch with the possible perturbations of the pixel in position pos '''\n",
    "    \n",
    "  if attack.type_attack == 'L0':\n",
    "    if orig_x.shape[-1] == 3:\n",
    "      batch_x = np.tile(orig_x,(8,1,1,1))\n",
    "      t = np.zeros([3])\n",
    "      for counter in range(8):\n",
    "        t2 = counter + 0\n",
    "        for c in range(3):\n",
    "          t[c] = t2 % 2\n",
    "          t2 = (t2 - t[c])/2\n",
    "        batch_x[counter,pos[0],pos[1]] = t.astype(np.float32)\n",
    "    elif orig_x.shape[-1] == 1:\n",
    "      batch_x = np.tile(orig_x,(2,1,1,1))\n",
    "      batch_x[0,pos[0],pos[1],0] = 0.0\n",
    "      batch_x[1,pos[0],pos[1],0] = 1.0\n",
    "  \n",
    "  elif attack.type_attack == 'L0+Linf':\n",
    "    if orig_x.shape[-1] == 3:\n",
    "      batch_x = np.tile(orig_x,(8,1,1,1))\n",
    "      t = np.zeros([3])\n",
    "      for counter in range(8):\n",
    "        t2 = counter + 0\n",
    "        for c in range(3):\n",
    "          t3 = t2 % 2\n",
    "          t[c] = (t3*2.0 - 1.0)*attack.epsilon\n",
    "          t2 = (t2 - t3)/2\n",
    "        batch_x[counter,pos[0],pos[1]] = np.clip(t.astype(np.float32) + orig_x[pos[0],pos[1]], 0.0, 1.0)\n",
    "    elif orig_x.shape[-1] == 1:\n",
    "      batch_x = np.tile(orig_x,(2,1,1,1))\n",
    "      batch_x[0,pos[0],pos[1],0] = np.clip(batch_x[0,pos[0],pos[1],0] - attack.epsilon, 0.0, 1.0)\n",
    "      batch_x[1,pos[0],pos[1],0] = np.clip(batch_x[1,pos[0],pos[1],0] + attack.epsilon, 0.0, 1.0)\n",
    "  \n",
    "  elif attack.type_attack == 'L0+sigma':\n",
    "    batch_x = np.tile(orig_x,(2,1,1,1))\n",
    "    if orig_x.shape[-1] == 3:\n",
    "      batch_x[0,pos[0],pos[1]] = np.clip(batch_x[0,pos[0],pos[1]]*(1.0 - attack.kappa*sigma[pos[0],pos[1]]), 0.0, 1.0)\n",
    "      batch_x[1,pos[0],pos[1]] = np.clip(batch_x[0,pos[0],pos[1]]*(1.0 + attack.kappa*sigma[pos[0],pos[1]]), 0.0, 1.0)\n",
    "    \n",
    "    elif orig_x.shape[-1] == 1:\n",
    "      batch_x[0,pos[0],pos[1]] = np.clip(batch_x[0,pos[0],pos[1]] - attack.kappa*sigma[pos[0],pos[1]], 0.0, 1.0)\n",
    "      batch_x[1,pos[0],pos[1]] = np.clip(batch_x[0,pos[0],pos[1]] + attack.kappa*sigma[pos[0],pos[1]], 0.0, 1.0)\n",
    "    \n",
    "  else:\n",
    "    raise ValueError('unknown attack')\n",
    "  \n",
    "  return batch_x"
   ]
  },
  {
   "attachments": {},
   "cell_type": "markdown",
   "metadata": {},
   "source": [
    "#### Returning the batch of images with the one-pixel modifications using the CornerSearch attack"
   ]
  },
  {
   "cell_type": "code",
   "execution_count": 43,
   "metadata": {},
   "outputs": [],
   "source": [
    "def onepixel_perturbation_image(attack, orig_x, sigma):\n",
    "  ''' returns a batch with all the possible perturbations of the image orig_x '''\n",
    "  \n",
    "  n_channels = orig_x.shape[-1]\n",
    "  assert n_channels in [1, 3]\n",
    "  n_corners = 2**n_channels if attack.type_attack in ['L0', 'L0+Linf'] else 2\n",
    "  \n",
    "  batch_x = np.zeros([n_corners*orig_x.shape[0]*orig_x.shape[1], orig_x.shape[0], orig_x.shape[1], orig_x.shape[2]])\n",
    "  for counter in range(orig_x.shape[0]):\n",
    "      for counter2 in range(orig_x.shape[1]):\n",
    "        batch_x[(counter*orig_x.shape[0]+counter2)*n_corners:(counter*orig_x.shape[1]+counter2)*n_corners+n_corners] = np.clip(onepixel_perturbation(attack, orig_x, [counter,counter2], sigma), 0.0, 1.0)\n",
    "  \n",
    "  return batch_x"
   ]
  },
  {
   "attachments": {},
   "cell_type": "markdown",
   "metadata": {},
   "source": [
    "#### Returning the position and the perturbation given the index of an image of the batch of all the possible perturbations"
   ]
  },
  {
   "cell_type": "code",
   "execution_count": 44,
   "metadata": {},
   "outputs": [],
   "source": [
    "def flat2square(attack, ind):\n",
    "  ''' returns the position and the perturbation given the index of an image\n",
    "      of the batch of all the possible perturbations '''\n",
    "  \n",
    "  if attack.type_attack in ['L0', 'L0+Linf']:\n",
    "    if attack.shape_img[-1] == 3:\n",
    "      new_pixel = ind % 8\n",
    "      ind = (ind - new_pixel)//8\n",
    "      c = ind % attack.shape_img[1]\n",
    "      r = (ind - c)//attack.shape_img[1]\n",
    "      t = np.zeros([ind.shape[0],3])\n",
    "      for counter in range(3):\n",
    "        t[:,counter] = new_pixel % 2\n",
    "        new_pixel = (new_pixel - t[:,counter])/2\n",
    "    elif attack.shape_img[-1] == 1:\n",
    "      t = ind % 2\n",
    "      ind = (ind-t)//2\n",
    "      c = ind % attack.shape_img[1]\n",
    "      r = (ind-c)//attack.shape_img[1]\n",
    "  \n",
    "  elif attack.type_attack == 'L0+sigma':\n",
    "      t = ind % 2\n",
    "      c = ((ind - t)//2) % attack.shape_img[1]\n",
    "      r = ((ind - t)//2 - c)//attack.shape_img[1]\n",
    "    \n",
    "  return r, c, t"
   ]
  },
  {
   "attachments": {},
   "cell_type": "markdown",
   "metadata": {},
   "source": [
    "#### Creating n_iter images which differ from original in at most k pixels"
   ]
  },
  {
   "cell_type": "code",
   "execution_count": 45,
   "metadata": {},
   "outputs": [],
   "source": [
    "def npixels_perturbation(attack, orig_x, ind, k, sigma):\n",
    "  ''' creates n_iter images which differ from orig_x in at most k pixels '''\n",
    "  \n",
    "  # sampling the n_iter k-pixels perturbations\n",
    "  ind2 = np.random.randint(0, attack.n_max**2, (attack.n_iter, k))\n",
    "  ind2 = attack.n_max - np.floor(ind2**0.5).astype(int) - 1\n",
    "  \n",
    "  # creating the n_iter k-pixels perturbed images\n",
    "  batch_x = np.tile(orig_x,(attack.n_iter,1,1,1))\n",
    "  if attack.type_attack == 'L0':\n",
    "    for counter in range(attack.n_iter):\n",
    "      p11, p12, d1 = flat2square(attack, ind[ind2[counter]])\n",
    "      batch_x[counter,p11,p12] = d1 + 0 if attack.shape_img[-1] == 3 else np.expand_dims(d1 + 0, 1)\n",
    "  \n",
    "  elif attack.type_attack == 'L0+Linf':\n",
    "    for counter in range(attack.n_iter):\n",
    "      p11, p12, d1 = flat2square(attack, ind[ind2[counter]])\n",
    "      d1 = d1 + 0 if attack.shape_img[-1] == 3 else np.expand_dims(d1 + 0, 1)\n",
    "      batch_x[counter,p11,p12] = np.clip(batch_x[counter,p11,p12]+(2.0*d1 - 1.0)*attack.epsilon, 0.0, 1.0)\n",
    "  \n",
    "  elif attack.type_attack == 'L0+sigma':\n",
    "    for counter in range(attack.n_iter):\n",
    "      p11, p12, d1 = flat2square(attack, ind[ind2[counter]])\n",
    "      d1 = np.expand_dims(d1,1)\n",
    "      if attack.shape_img[-1] == 3: batch_x[counter,p11,p12] = np.clip(batch_x[counter,p11,p12] - attack.kappa*sigma[p11,p12]*(1-d1) + attack.kappa*sigma[p11,p12]*d1, 0.0, 1.0)\n",
    "      elif attack.shape_img[-1] == 1: batch_x[counter,p11,p12] = np.clip(batch_x[counter,p11,p12] - attack.kappa*sigma[p11,p12]*(1-d1) + attack.kappa*sigma[p11,p12]*d1, 0.0, 1.0)\n",
    "      \n",
    "  return batch_x"
   ]
  },
  {
   "attachments": {},
   "cell_type": "markdown",
   "metadata": {},
   "source": [
    "#### Creating the sigma-map for a batch x. \n",
    "\n",
    "Note: This map would be used in both CornerSearch and PGD attacks."
   ]
  },
  {
   "cell_type": "code",
   "execution_count": 46,
   "metadata": {},
   "outputs": [],
   "source": [
    "def sigma_map(x):\n",
    "  ''' creates the sigma-map for the batch x '''\n",
    "  \n",
    "  sh = [4]\n",
    "  sh.extend(x.shape)\n",
    "  t = np.zeros(sh)\n",
    "  t[0,:,:-1] = x[:,1:]\n",
    "  t[0,:,-1] = x[:,-1]\n",
    "  t[1,:,1:] = x[:,:-1]\n",
    "  t[1,:,0] = x[:,0]\n",
    "  t[2,:,:,:-1] = x[:,:,1:]\n",
    "  t[2,:,:,-1] = x[:,:,-1]\n",
    "  t[3,:,:,1:] = x[:,:,:-1]\n",
    "  t[3,:,:,0] = x[:,:,0]\n",
    "\n",
    "  mean1 = (t[0] + x + t[1])/3\n",
    "  sd1 = np.sqrt(((t[0]-mean1)**2 + (x-mean1)**2 + (t[1]-mean1)**2)/3)\n",
    "\n",
    "  mean2 = (t[2] + x + t[3])/3\n",
    "  sd2 = np.sqrt(((t[2]-mean2)**2 + (x-mean2)**2 + (t[3]-mean2)**2)/3)\n",
    "\n",
    "  sd = np.minimum(sd1, sd2)\n",
    "  sd = np.sqrt(sd)\n",
    "  \n",
    "  return sd"
   ]
  },
  {
   "attachments": {},
   "cell_type": "markdown",
   "metadata": {},
   "source": [
    "#### Defining the class CornerSearch which would be used to create the CornerSearch attack"
   ]
  },
  {
   "cell_type": "code",
   "execution_count": 47,
   "metadata": {},
   "outputs": [],
   "source": [
    "class CSattack():\n",
    "  def __init__(self, model, args):\n",
    "    self.model = model\n",
    "    self.type_attack = args['type_attack'] # 'L0', 'L0+Linf', 'L0+sigma'\n",
    "    self.n_iter = args['n_iter']           # number of iterations (N_iter in the paper)\n",
    "    self.n_max = args['n_max']             # the modifications for k-pixels perturbations are sampled among the best n_max (N in the paper)\n",
    "    self.epsilon = args['epsilon']         # for L0+Linf, the bound on the Linf-norm of the perturbation\n",
    "    self.kappa = args['kappa']             # for L0+sigma (see kappa in the paper), larger kappa means easier and more visible attacks\n",
    "    self.k = args['sparsity']              # maximum number of pixels that can be modified (k_max in the paper)\n",
    "    self.size_incr = args['size_incr']     # size of progressive increment of sparsity levels to check  \n",
    "  \n",
    "  def perturb(self, x_nat, y_nat):\n",
    "    adv = np.copy(x_nat)\n",
    "    fl_success = np.ones([x_nat.shape[0]])\n",
    "    self.shape_img = x_nat.shape[1:]\n",
    "    self.sigma = sigma_map(x_nat)\n",
    "    self.n_classes = 10\n",
    "    self.n_corners = 2**self.shape_img[2] if self.type_attack in ['L0', 'L0+Linf'] else 2\n",
    "    #corr_pred = sess.run(self.model.correct_prediction, {self.model.x_input: x_nat, self.model.y_input: y_nat})\n",
    "    corr_pred = get_predictions(self.model, x_nat, y_nat)\n",
    "    bs = self.shape_img[0]*self.shape_img[1]\n",
    "    \n",
    "    for c in range(x_nat.shape[0]):\n",
    "      if corr_pred[c]:\n",
    "        sigma = np.copy(self.sigma[c])\n",
    "        batch_x = onepixel_perturbation_image(self, x_nat[c], sigma)\n",
    "        batch_y = np.squeeze(y_nat[c])\n",
    "        logit_2 = np.zeros([batch_x.shape[0], self.n_classes])\n",
    "        found = False\n",
    "        \n",
    "        # checks one-pixels modifications\n",
    "        for counter in range(self.n_corners):\n",
    "          #logit_2[counter*bs:(counter+1)*bs], pred = sess.run([self.model.y, self.model.correct_prediction], feed_dict={self.model.x_input: batch_x[counter*bs:(counter+1)*bs], self.model.y_input: np.tile(batch_y,(bs))})\n",
    "          logit_2[counter*bs:(counter+1)*bs] = get_logits(self.model, batch_x[counter*bs:(counter+1)*bs])\n",
    "          pred = logit_2[counter*bs:(counter+1)*bs].argmax(axis=-1) == np.tile(batch_y,(bs))\n",
    "          if not pred.all() and not found:\n",
    "            ind_adv = np.where(pred.astype(int)==0)\n",
    "            adv[c] = batch_x[counter*bs + ind_adv[0][0]]\n",
    "            found = True\n",
    "            print('Point {} - adversarial example found changing 1 pixel'.format(c))\n",
    "        \n",
    "        # creates the orderings\n",
    "        t1 = np.copy(logit_2[:, batch_y])\n",
    "        logit_2[:, batch_y] = -1000.0*np.ones(np.shape(logit_2[:, batch_y]))\n",
    "        t2 = np.amax(logit_2, axis=1)\n",
    "        t3 = t1 - t2\n",
    "        logit_3 = np.tile(np.expand_dims(t1,axis=1),(1,self.n_classes))-logit_2\n",
    "        logit_3[:, batch_y] = t3\n",
    "        ind = np.argsort(logit_3, axis=0)\n",
    "        \n",
    "        # checks multiple-pixels modifications\n",
    "        for n3 in range(1 + self.size_incr, self.k + 1, self.size_incr):\n",
    "          if not found:\n",
    "             for c2 in range(self.n_classes):\n",
    "               if not found:\n",
    "                 ind_cl = np.copy(ind[:, c2])\n",
    "\n",
    "                 batch_x = npixels_perturbation(self, x_nat[c], ind_cl, n3, sigma)\n",
    "                 #pred = sess.run(self.model.correct_prediction, feed_dict={self.model.x_input: batch_x, self.model.y_input: np.tile(batch_y,(batch_x.shape[0]))})\n",
    "                 pred = get_predictions(self.model, batch_x, np.tile(batch_y,(batch_x.shape[0])))\n",
    "                 \n",
    "                 if np.sum(pred.astype(np.int32)) < self.n_iter and not found:\n",
    "                   found = True\n",
    "                   ind_adv = np.where(pred.astype(int)==0)\n",
    "                   adv[c] = batch_x[ind_adv[0][0]]\n",
    "                   print('Point {} - adversarial example found changing {} pixels'.format(c, np.sum(np.amax(np.abs(adv[c] - x_nat[c]) > 1e-10, axis=-1), axis=(0,1))))\n",
    "        \n",
    "        if not found:\n",
    "          fl_success[c] = 0\n",
    "          print('Point {} - adversarial example not found'.format(c))\n",
    "      \n",
    "      else:\n",
    "        print('Point {} - misclassified'.format(c))\n",
    "    \n",
    "    pixels_changed = np.sum(np.amax(np.abs(adv - x_nat) > 1e-10, axis=-1), axis=(1,2))\n",
    "    print('Pixels changed: ', pixels_changed)\n",
    "    #print('attack successful: ', fl_success)\n",
    "    #print('attack successful: {:.2f}%'.format((1.0 - np.mean(fl_success))*100.0))\n",
    "    #corr_pred = sess.run(self.model.correct_prediction, {self.model.x_input: adv, self.model.y_input: y_nat})\n",
    "    corr_pred = get_predictions(self.model, adv, y_nat)\n",
    "    print('Robust accuracy at {} pixels: {:.2f}%'.format(self.k, np.sum(corr_pred)/x_nat.shape[0]*100.0))\n",
    "    print('Maximum perturbation size: {:.5f}'.format(np.amax(np.abs(adv - x_nat))))\n",
    "    \n",
    "    return adv, pixels_changed, fl_success"
   ]
  },
  {
   "attachments": {},
   "cell_type": "markdown",
   "metadata": {},
   "source": [
    "### PGD attacks (Projected Gradient Descent Attacks)"
   ]
  },
  {
   "attachments": {},
   "cell_type": "markdown",
   "metadata": {},
   "source": [
    "#### Projection of the batch y to a batch x such that: \n",
    "    1. Each image of the batch x has at most k pixels with non-zero channels \n",
    "    2. - lb <= x <= ub"
   ]
  },
  {
   "cell_type": "code",
   "execution_count": 48,
   "metadata": {},
   "outputs": [],
   "source": [
    "def project_L0_box(y, k, lb, ub):\n",
    "  ''' projection of the batch y to a batch x such that:\n",
    "        - each image of the batch x has at most k pixels with non-zero channels\n",
    "        - lb <= x <= ub '''\n",
    "      \n",
    "  x = np.copy(y)\n",
    "  p1 = np.sum(x**2, axis=-1)\n",
    "  p2 = np.minimum(np.minimum(ub - x, x - lb), 0)\n",
    "  p2 = np.sum(p2**2, axis=-1)\n",
    "  p3 = np.sort(np.reshape(p1-p2, [p2.shape[0],-1]))[:,-k]\n",
    "  x = x*(np.logical_and(lb <=x, x <= ub)) + lb*(lb > x) + ub*(x > ub)\n",
    "  x *= np.expand_dims((p1 - p2) >= p3.reshape([-1, 1, 1]), -1)\n",
    "    \n",
    "  return x"
   ]
  },
  {
   "attachments": {},
   "cell_type": "markdown",
   "metadata": {},
   "source": [
    "#### Projection of the batch y to a batch x such that: \n",
    "    1. 0 <= x <= 1 \n",
    "    2. Each image of the batch x differs from the corresponding one of x_nat in at most k pixels\n",
    "    3. (1 - kappa*sigma)*x_nat <= x <= (1 + kappa*sigma)*x_nat"
   ]
  },
  {
   "cell_type": "code",
   "execution_count": 49,
   "metadata": {},
   "outputs": [],
   "source": [
    "def project_L0_sigma(y, k, sigma, kappa, x_nat):\n",
    "  ''' projection of the batch y to a batch x such that:\n",
    "        - 0 <= x <= 1\n",
    "        - each image of the batch x differs from the corresponding one of\n",
    "          x_nat in at most k pixels\n",
    "        - (1 - kappa*sigma)*x_nat <= x <= (1 + kappa*sigma)*x_nat '''\n",
    "  \n",
    "  x = np.copy(y)\n",
    "  p1 = 1.0/np.maximum(1e-12, sigma)*(x_nat > 0).astype(float) + 1e12*(x_nat == 0).astype(float)\n",
    "  p2 = 1.0/np.maximum(1e-12, sigma)*(1.0/np.maximum(1e-12, x_nat) - 1)*(x_nat > 0).astype(float) + 1e12*(x_nat == 0).astype(float) + 1e12*(sigma == 0).astype(float)\n",
    "  lmbd_l = np.maximum(-kappa, np.amax(-p1, axis=-1, keepdims=True))\n",
    "  lmbd_u = np.minimum(kappa, np.amin(p2, axis=-1, keepdims=True))\n",
    "  \n",
    "  lmbd_unconstr = np.sum((y - x_nat)*sigma*x_nat, axis=-1, keepdims=True)/np.maximum(1e-12, np.sum((sigma*x_nat)**2, axis=-1, keepdims=True))\n",
    "  lmbd = np.maximum(lmbd_l, np.minimum(lmbd_unconstr, lmbd_u))\n",
    "  \n",
    "  p12 = np.sum((y - x_nat)**2, axis=-1, keepdims=True)\n",
    "  p22 = np.sum((y - (1 + lmbd*sigma)*x_nat)**2, axis=-1, keepdims=True)\n",
    "  p3 = np.sort(np.reshape(p12 - p22, [x.shape[0],-1]))[:,-k]\n",
    "  \n",
    "  x  = x_nat + lmbd*sigma*x_nat*((p12 - p22) >= p3.reshape([-1, 1, 1, 1]))\n",
    "  \n",
    "  return x"
   ]
  },
  {
   "attachments": {},
   "cell_type": "markdown",
   "metadata": {},
   "source": [
    "#### PGD attack wrt L0-norm + box constraints. It returns adversarial examples (if found) adv for the images x_nat, with correct labels y_nat, such that:\n",
    "\n",
    "    1. Each image of the batch adv differs from the corresponding one of x_nat in at most k pixels\n",
    "    2. - lb <= adv - x_nat <= ub\n",
    "    3. It returns also a vector of flags where 1 means no adversarial example found (in this case the original image is returned in adv)."
   ]
  },
  {
   "cell_type": "code",
   "execution_count": 50,
   "metadata": {},
   "outputs": [],
   "source": [
    "def perturb_L0_box(attack, x_nat, y_nat, lb, ub):\n",
    "  ''' PGD attack wrt L0-norm + box constraints\n",
    "  \n",
    "      it returns adversarial examples (if found) adv for the images x_nat, with correct labels y_nat,\n",
    "      such that:\n",
    "        - each image of the batch adv differs from the corresponding one of\n",
    "          x_nat in at most k pixels\n",
    "        - lb <= adv - x_nat <= ub\n",
    "      \n",
    "      it returns also a vector of flags where 1 means no adversarial example found\n",
    "      (in this case the original image is returned in adv) '''\n",
    "  \n",
    "  if attack.rs:\n",
    "    x2 = x_nat + np.random.uniform(lb, ub, x_nat.shape)\n",
    "    x2 = np.clip(x2, 0, 1)\n",
    "  else:\n",
    "    x2 = np.copy(x_nat)\n",
    "      \n",
    "  adv_not_found = np.ones(y_nat.shape)\n",
    "  adv = np.zeros(x_nat.shape)\n",
    "\n",
    "  for i in range(attack.num_steps):\n",
    "    if i > 0:\n",
    "      #pred, grad = sess.run([attack.model.correct_prediction, attack.model.grad], feed_dict={attack.model.x_input: x2, attack.model.y_input: y_nat})\n",
    "      pred, grad = get_predictions_and_gradients(attack.model, x2, y_nat)\n",
    "      adv_not_found = np.minimum(adv_not_found, pred.astype(int))\n",
    "      adv[np.logical_not(pred)] = np.copy(x2[np.logical_not(pred)])\n",
    "      \n",
    "      grad /= (1e-10 + np.sum(np.abs(grad), axis=(1,2,3), keepdims=True))\n",
    "      x2 = np.add(x2, (np.random.random_sample(grad.shape)-0.5)*1e-12 + attack.step_size * grad, casting='unsafe')\n",
    "      \n",
    "    x2 = x_nat + project_L0_box(x2 - x_nat, attack.k, lb, ub)\n",
    "    \n",
    "  return adv, adv_not_found"
   ]
  },
  {
   "attachments": {},
   "cell_type": "markdown",
   "metadata": {},
   "source": [
    "#### PGD attack wrt L0-norm + sigma-map constraints. It returns adversarial examples (if found) adv for the images x_nat, with correct labels y_nat, such that:\n",
    "\n",
    "    1. each image of the batch adv differs from the corresponding one of x_nat in at most k pixels\n",
    "    2. (1 - kappa*sigma)*x_nat <= adv <= (1 + kappa*sigma)*x_nat\n",
    "    3. It returns also a vector of flags where 1 means no adversarial example found (in this case the original image is returned in adv)"
   ]
  },
  {
   "cell_type": "code",
   "execution_count": 51,
   "metadata": {},
   "outputs": [],
   "source": [
    "def perturb_L0_sigma(attack, x_nat, y_nat):\n",
    "  ''' PGD attack wrt L0-norm + sigma-map constraints\n",
    "  \n",
    "      it returns adversarial examples (if found) adv for the images x_nat, with correct labels y_nat,\n",
    "      such that:\n",
    "        - each image of the batch adv differs from the corresponding one of\n",
    "          x_nat in at most k pixels\n",
    "        - (1 - kappa*sigma)*x_nat <= adv <= (1 + kappa*sigma)*x_nat\n",
    "      \n",
    "      it returns also a vector of flags where 1 means no adversarial example found\n",
    "      (in this case the original image is returned in adv) '''\n",
    "  \n",
    "  if attack.rs:\n",
    "    x2 = x_nat + np.random.uniform(-attack.kappa, attack.kappa, x_nat.shape)\n",
    "    x2 = np.clip(x2, 0, 1)\n",
    "  else:\n",
    "    x2 = np.copy(x_nat)\n",
    "      \n",
    "  adv_not_found = np.ones(y_nat.shape)\n",
    "  adv = np.zeros(x_nat.shape)\n",
    "\n",
    "  for i in range(attack.num_steps):\n",
    "    if i > 0:\n",
    "      #pred, grad = sess.run([attack.model.correct_prediction, attack.model.grad], feed_dict={attack.model.x_input: x2, attack.model.y_input: y_nat})\n",
    "      pred, grad = get_predictions_and_gradients(attack.model, x2, y_nat)\n",
    "      adv_not_found = np.minimum(adv_not_found, pred.astype(int))\n",
    "      adv[np.logical_not(pred)] = np.copy(x2[np.logical_not(pred)])\n",
    "      \n",
    "      grad /= (1e-10 + np.sum(np.abs(grad), axis=(1,2,3), keepdims=True))\n",
    "      x2 = np.add(x2, (np.random.random_sample(grad.shape)-0.5)*1e-12 + attack.step_size * grad, casting='unsafe')\n",
    "      \n",
    "    x2 = project_L0_sigma(x2, attack.k, attack.sigma, attack.kappa, x_nat)\n",
    "    \n",
    "  return adv, adv_not_found"
   ]
  },
  {
   "attachments": {},
   "cell_type": "markdown",
   "metadata": {},
   "source": [
    "#### Defining the class PGD attack which would be used to create the PGD attack using L0-norm + box constraints, L0-norm + L_inf constraints and L0-norm + sigma-map constraints."
   ]
  },
  {
   "cell_type": "code",
   "execution_count": 52,
   "metadata": {},
   "outputs": [],
   "source": [
    "class PGDattack():\n",
    "  def __init__(self, model, args):\n",
    "    self.model = model\n",
    "    self.type_attack = args['type_attack'] # 'L0', 'L0+Linf', 'L0+sigma'\n",
    "    self.num_steps = args['num_steps']     # number of iterations of gradient descent for each restart\n",
    "    self.step_size = args['step_size']     # step size for gradient descent (\\eta in the paper)\n",
    "    self.n_restarts = args['n_restarts']   # number of random restarts to perform\n",
    "    self.rs = True                         # random starting point\n",
    "    self.epsilon = args['epsilon']         # for L0+Linf, the bound on the Linf-norm of the perturbation\n",
    "    self.kappa = args['kappa']             # for L0+sigma (see kappa in the paper), larger kappa means easier and more visible attacks\n",
    "    self.k = args['sparsity']              # maximum number of pixels that can be modified (k_max in the paper)\n",
    "    \n",
    "  def perturb(self, x_nat, y_nat):\n",
    "    adv = np.copy(x_nat)\n",
    "    \n",
    "    if self.type_attack == 'L0+sigma': self.sigma = sigma_map(x_nat)\n",
    "      \n",
    "    for counter in range(self.n_restarts):\n",
    "      if counter == 0:\n",
    "        #corr_pred = sess.run(self.model.correct_prediction, {self.model.x_input: x_nat, self.model.y_input: y_nat})\n",
    "        corr_pred = get_predictions(self.model, x_nat, y_nat)\n",
    "        pgd_adv_acc = np.copy(corr_pred)\n",
    "        \n",
    "      if self.type_attack == 'L0':\n",
    "        x_batch_adv, curr_pgd_adv_acc = perturb_L0_box(self, x_nat, y_nat, -x_nat, 1.0 - x_nat)\n",
    "      \n",
    "      elif self.type_attack == 'L0+Linf':\n",
    "        x_batch_adv, curr_pgd_adv_acc = perturb_L0_box(self, x_nat, y_nat, np.maximum(-self.epsilon, -x_nat), np.minimum(self.epsilon, 1.0 - x_nat))\n",
    "      \n",
    "      elif self.type_attack == 'L0+sigma' and x_nat.shape[3] == 3:\n",
    "        x_batch_adv, curr_pgd_adv_acc = perturb_L0_sigma(self, x_nat, y_nat)\n",
    "      \n",
    "      elif self.type_attack == 'L0+sigma' and x_nat.shape[3] == 1:\n",
    "        x_batch_adv, curr_pgd_adv_acc = perturb_L0_box(self, x_nat, y_nat, np.maximum(-self.kappa*self.sigma, -x_nat), np.minimum(self.kappa*self.sigma, 1.0 - x_nat))\n",
    "      \n",
    "      \n",
    "      pgd_adv_acc = np.minimum(pgd_adv_acc, curr_pgd_adv_acc)\n",
    "\n",
    "      print(\"Restart {} - Robust accuracy: {}\".format(counter + 1, np.sum(pgd_adv_acc)/x_nat.shape[0]))\n",
    "      adv[np.logical_not(curr_pgd_adv_acc)] = x_batch_adv[np.logical_not(curr_pgd_adv_acc)]\n",
    "    \n",
    "    pixels_changed = np.sum(np.amax(np.abs(adv - x_nat) > 1e-10, axis=-1), axis=(1,2))\n",
    "    print('Pixels changed: ', pixels_changed)\n",
    "    #corr_pred = sess.run(self.model.correct_prediction, {self.model.x_input: adv, self.model.y_input: y_nat})\n",
    "    corr_pred = get_predictions(self.model, adv, y_nat)\n",
    "    print('Robust accuracy at {} pixels: {:.2f}%'.format(self.k, np.sum(corr_pred)/x_nat.shape[0]*100.0))\n",
    "    print('Maximum perturbation size: {:.5f}'.format(np.amax(np.abs(adv - x_nat))))\n",
    "    \n",
    "    return adv, pixels_changed, pgd_adv_acc"
   ]
  },
  {
   "attachments": {},
   "cell_type": "markdown",
   "metadata": {},
   "source": [
    "### Running attacks on the models with CIFAR-10 dataset and evaluating the results\n",
    "\n",
    "Note: In the research paper itself, the authors have used the CIFAR-100 dataset for their experiments with PyTorch implemtation of the code. Along with that, the authors have used CIFAR-10 and MNIST datasets for their experiments with Tensorflow implementation of the code. \n",
    "\n",
    "Therefore, I will be using CIFAR-10 dataset for my experiments and reproducing the results of the paper with CIFAR-10 dataset.\n",
    "\n",
    "Later on, I will also try to reproduce the results of the paper with FashionMNIST dataset."
   ]
  },
  {
   "cell_type": "code",
   "execution_count": 243,
   "metadata": {},
   "outputs": [
    {
     "name": "stdout",
     "output_type": "stream",
     "text": [
      "Files already downloaded and verified\n",
      "X_test shape:  (100, 32, 32, 3)\n",
      "y_test shape:  (100,)\n"
     ]
    }
   ],
   "source": [
    "X_test, y_test = load_data(dataset = 'cifar10',n_examples = 100, data_dir = 'data')\n",
    "\n",
    "print('X_test shape: ', X_test.shape)\n",
    "print('y_test shape: ', y_test.shape)"
   ]
  },
  {
   "cell_type": "code",
   "execution_count": 244,
   "metadata": {},
   "outputs": [
    {
     "data": {
      "text/plain": [
       "ResNet(\n",
       "  (conv1): Conv2d(3, 64, kernel_size=(3, 3), stride=(1, 1), padding=(1, 1), bias=False)\n",
       "  (bn1): BatchNorm2d(64, eps=1e-05, momentum=0.1, affine=True, track_running_stats=True)\n",
       "  (layer1): Sequential(\n",
       "    (0): BasicBlock(\n",
       "      (conv1): Conv2d(64, 64, kernel_size=(3, 3), stride=(1, 1), padding=(1, 1), bias=False)\n",
       "      (bn1): BatchNorm2d(64, eps=1e-05, momentum=0.1, affine=True, track_running_stats=True)\n",
       "      (conv2): Conv2d(64, 64, kernel_size=(3, 3), stride=(1, 1), padding=(1, 1), bias=False)\n",
       "      (bn2): BatchNorm2d(64, eps=1e-05, momentum=0.1, affine=True, track_running_stats=True)\n",
       "      (shortcut): Sequential()\n",
       "    )\n",
       "    (1): BasicBlock(\n",
       "      (conv1): Conv2d(64, 64, kernel_size=(3, 3), stride=(1, 1), padding=(1, 1), bias=False)\n",
       "      (bn1): BatchNorm2d(64, eps=1e-05, momentum=0.1, affine=True, track_running_stats=True)\n",
       "      (conv2): Conv2d(64, 64, kernel_size=(3, 3), stride=(1, 1), padding=(1, 1), bias=False)\n",
       "      (bn2): BatchNorm2d(64, eps=1e-05, momentum=0.1, affine=True, track_running_stats=True)\n",
       "      (shortcut): Sequential()\n",
       "    )\n",
       "  )\n",
       "  (layer2): Sequential(\n",
       "    (0): BasicBlock(\n",
       "      (conv1): Conv2d(64, 128, kernel_size=(3, 3), stride=(2, 2), padding=(1, 1), bias=False)\n",
       "      (bn1): BatchNorm2d(128, eps=1e-05, momentum=0.1, affine=True, track_running_stats=True)\n",
       "      (conv2): Conv2d(128, 128, kernel_size=(3, 3), stride=(1, 1), padding=(1, 1), bias=False)\n",
       "      (bn2): BatchNorm2d(128, eps=1e-05, momentum=0.1, affine=True, track_running_stats=True)\n",
       "      (shortcut): Sequential(\n",
       "        (0): Conv2d(64, 128, kernel_size=(1, 1), stride=(2, 2), bias=False)\n",
       "        (1): BatchNorm2d(128, eps=1e-05, momentum=0.1, affine=True, track_running_stats=True)\n",
       "      )\n",
       "    )\n",
       "    (1): BasicBlock(\n",
       "      (conv1): Conv2d(128, 128, kernel_size=(3, 3), stride=(1, 1), padding=(1, 1), bias=False)\n",
       "      (bn1): BatchNorm2d(128, eps=1e-05, momentum=0.1, affine=True, track_running_stats=True)\n",
       "      (conv2): Conv2d(128, 128, kernel_size=(3, 3), stride=(1, 1), padding=(1, 1), bias=False)\n",
       "      (bn2): BatchNorm2d(128, eps=1e-05, momentum=0.1, affine=True, track_running_stats=True)\n",
       "      (shortcut): Sequential()\n",
       "    )\n",
       "  )\n",
       "  (layer3): Sequential(\n",
       "    (0): BasicBlock(\n",
       "      (conv1): Conv2d(128, 256, kernel_size=(3, 3), stride=(2, 2), padding=(1, 1), bias=False)\n",
       "      (bn1): BatchNorm2d(256, eps=1e-05, momentum=0.1, affine=True, track_running_stats=True)\n",
       "      (conv2): Conv2d(256, 256, kernel_size=(3, 3), stride=(1, 1), padding=(1, 1), bias=False)\n",
       "      (bn2): BatchNorm2d(256, eps=1e-05, momentum=0.1, affine=True, track_running_stats=True)\n",
       "      (shortcut): Sequential(\n",
       "        (0): Conv2d(128, 256, kernel_size=(1, 1), stride=(2, 2), bias=False)\n",
       "        (1): BatchNorm2d(256, eps=1e-05, momentum=0.1, affine=True, track_running_stats=True)\n",
       "      )\n",
       "    )\n",
       "    (1): BasicBlock(\n",
       "      (conv1): Conv2d(256, 256, kernel_size=(3, 3), stride=(1, 1), padding=(1, 1), bias=False)\n",
       "      (bn1): BatchNorm2d(256, eps=1e-05, momentum=0.1, affine=True, track_running_stats=True)\n",
       "      (conv2): Conv2d(256, 256, kernel_size=(3, 3), stride=(1, 1), padding=(1, 1), bias=False)\n",
       "      (bn2): BatchNorm2d(256, eps=1e-05, momentum=0.1, affine=True, track_running_stats=True)\n",
       "      (shortcut): Sequential()\n",
       "    )\n",
       "  )\n",
       "  (layer4): Sequential(\n",
       "    (0): BasicBlock(\n",
       "      (conv1): Conv2d(256, 512, kernel_size=(3, 3), stride=(2, 2), padding=(1, 1), bias=False)\n",
       "      (bn1): BatchNorm2d(512, eps=1e-05, momentum=0.1, affine=True, track_running_stats=True)\n",
       "      (conv2): Conv2d(512, 512, kernel_size=(3, 3), stride=(1, 1), padding=(1, 1), bias=False)\n",
       "      (bn2): BatchNorm2d(512, eps=1e-05, momentum=0.1, affine=True, track_running_stats=True)\n",
       "      (shortcut): Sequential(\n",
       "        (0): Conv2d(256, 512, kernel_size=(1, 1), stride=(2, 2), bias=False)\n",
       "        (1): BatchNorm2d(512, eps=1e-05, momentum=0.1, affine=True, track_running_stats=True)\n",
       "      )\n",
       "    )\n",
       "    (1): BasicBlock(\n",
       "      (conv1): Conv2d(512, 512, kernel_size=(3, 3), stride=(1, 1), padding=(1, 1), bias=False)\n",
       "      (bn1): BatchNorm2d(512, eps=1e-05, momentum=0.1, affine=True, track_running_stats=True)\n",
       "      (conv2): Conv2d(512, 512, kernel_size=(3, 3), stride=(1, 1), padding=(1, 1), bias=False)\n",
       "      (bn2): BatchNorm2d(512, eps=1e-05, momentum=0.1, affine=True, track_running_stats=True)\n",
       "      (shortcut): Sequential()\n",
       "    )\n",
       "  )\n",
       "  (linear): Linear(in_features=512, out_features=10, bias=True)\n",
       ")"
      ]
     },
     "execution_count": 244,
     "metadata": {},
     "output_type": "execute_result"
    }
   ],
   "source": [
    "model = ResNet18().to(device)\n",
    "ckpt = torch.load('./models/model_test.pt')\n",
    "model.load_state_dict(ckpt)\n",
    "model.eval()"
   ]
  },
  {
   "attachments": {},
   "cell_type": "markdown",
   "metadata": {},
   "source": [
    "### Printing my GPU memory summary"
   ]
  },
  {
   "cell_type": "code",
   "execution_count": 245,
   "metadata": {},
   "outputs": [
    {
     "name": "stdout",
     "output_type": "stream",
     "text": [
      "|===========================================================================|\n",
      "|                  PyTorch CUDA memory summary, device ID 0                 |\n",
      "|---------------------------------------------------------------------------|\n",
      "|            CUDA OOMs: 14           |        cudaMalloc retries: 17        |\n",
      "|===========================================================================|\n",
      "|        Metric         | Cur Usage  | Peak Usage | Tot Alloc  | Tot Freed  |\n",
      "|---------------------------------------------------------------------------|\n",
      "| Allocated memory      |  585441 KB |    3473 MB |    2151 GB |    2151 GB |\n",
      "|       from large pool |  555008 KB |    3450 MB |    2142 GB |    2142 GB |\n",
      "|       from small pool |   30433 KB |      33 MB |       9 GB |       9 GB |\n",
      "|---------------------------------------------------------------------------|\n",
      "| Active memory         |  585441 KB |    3473 MB |    2151 GB |    2151 GB |\n",
      "|       from large pool |  555008 KB |    3450 MB |    2142 GB |    2142 GB |\n",
      "|       from small pool |   30433 KB |      33 MB |       9 GB |       9 GB |\n",
      "|---------------------------------------------------------------------------|\n",
      "| GPU reserved memory   |    3224 MB |    3522 MB |    5746 MB |    2522 MB |\n",
      "|       from large pool |    3190 MB |    3494 MB |    5710 MB |    2520 MB |\n",
      "|       from small pool |      34 MB |      34 MB |      36 MB |       2 MB |\n",
      "|---------------------------------------------------------------------------|\n",
      "| Non-releasable memory |  135454 KB |  236676 KB |    1879 GB |    1879 GB |\n",
      "|       from large pool |  131072 KB |  231680 KB |    1870 GB |    1870 GB |\n",
      "|       from small pool |    4382 KB |    5716 KB |       9 GB |       9 GB |\n",
      "|---------------------------------------------------------------------------|\n",
      "| Allocations           |    1106    |    1228    |  245721    |  244615    |\n",
      "|       from large pool |      80    |     109    |  181347    |  181267    |\n",
      "|       from small pool |    1026    |    1140    |   64374    |   63348    |\n",
      "|---------------------------------------------------------------------------|\n",
      "| Active allocs         |    1106    |    1228    |  245721    |  244615    |\n",
      "|       from large pool |      80    |     109    |  181347    |  181267    |\n",
      "|       from small pool |    1026    |    1140    |   64374    |   63348    |\n",
      "|---------------------------------------------------------------------------|\n",
      "| GPU reserved segments |      37    |      46    |      81    |      44    |\n",
      "|       from large pool |      20    |      30    |      63    |      43    |\n",
      "|       from small pool |      17    |      17    |      18    |       1    |\n",
      "|---------------------------------------------------------------------------|\n",
      "| Non-releasable allocs |      24    |      34    |  109849    |  109825    |\n",
      "|       from large pool |      10    |      21    |   96415    |   96405    |\n",
      "|       from small pool |      14    |      14    |   13434    |   13420    |\n",
      "|---------------------------------------------------------------------------|\n",
      "| Oversize allocations  |       0    |       0    |       0    |       0    |\n",
      "|---------------------------------------------------------------------------|\n",
      "| Oversize GPU segments |       0    |       0    |       0    |       0    |\n",
      "|===========================================================================|\n",
      "\n"
     ]
    }
   ],
   "source": [
    "print(torch.cuda.memory_summary(device=None, abbreviated=False))"
   ]
  },
  {
   "attachments": {},
   "cell_type": "markdown",
   "metadata": {},
   "source": [
    "### PGD attack with L0 norm with k = 5 pixels"
   ]
  },
  {
   "cell_type": "code",
   "execution_count": 272,
   "metadata": {},
   "outputs": [
    {
     "name": "stdout",
     "output_type": "stream",
     "text": [
      "Restart 1 - Robust accuracy: 0.36\n",
      "Restart 2 - Robust accuracy: 0.3\n",
      "Restart 3 - Robust accuracy: 0.26\n",
      "Restart 4 - Robust accuracy: 0.24\n",
      "Restart 5 - Robust accuracy: 0.23\n",
      "Pixels changed:  [5 5 5 5 5 5 5 5 5 5 5 0 5 0 0 5 5 5 5 0 5 5 5 0 5 5 5 0 5 5 5 5 5 5 0 5 5\n",
      " 5 0 5 5 5 5 5 0 0 5 5 0 5 0 5 5 5 5 5 0 5 5 5 0 5 5 5 5 5 5 5 5 5 5 5 5 5\n",
      " 5 0 5 5 5 5 5 0 0 0 5 5 5 5 0 0 0 5 5 5 5 5 5 0 0 5]\n",
      "Robust accuracy at 5 pixels: 23.00%\n",
      "Maximum perturbation size: 1.00000\n"
     ]
    }
   ],
   "source": [
    "args = {'type_attack': 'L0',\n",
    "                'n_restarts': 5,\n",
    "                'num_steps': 100,\n",
    "                'step_size': 120000.0/255.0,\n",
    "                'kappa': -1,\n",
    "                'epsilon': -1,\n",
    "                'sparsity': 5}\n",
    "attack = PGDattack(model, args)\n",
    "adv_PGD, pixels_changed_PGD, pgd_adv_acc_PGD = attack.perturb(X_test, y_test)\n",
    "\n",
    "# Save the results in the results folder\n",
    "np.save('./results/adv_PGD.npy', adv_PGD)"
   ]
  },
  {
   "attachments": {},
   "cell_type": "markdown",
   "metadata": {},
   "source": [
    "### PGD attack with L0 norm with k = 10 pixels"
   ]
  },
  {
   "cell_type": "code",
   "execution_count": 279,
   "metadata": {},
   "outputs": [
    {
     "name": "stdout",
     "output_type": "stream",
     "text": [
      "Restart 1 - Robust accuracy: 0.12\n",
      "Restart 2 - Robust accuracy: 0.07\n",
      "Restart 3 - Robust accuracy: 0.06\n",
      "Restart 4 - Robust accuracy: 0.05\n",
      "Restart 5 - Robust accuracy: 0.05\n",
      "Pixels changed:  [10 10 10 10 10 10 10 10 10 10 10  0 10 10 10 10 10 10 10 10 10 10 10  0\n",
      " 10 10 10 10 10 10 10 10 10 10 10 10 10 10  0 10 10 10 10 10 10  0 10 10\n",
      " 10 10 10 10 10 10 10 10 10 10 10 10 10 10 10 10 10 10 10 10 10 10 10 10\n",
      " 10 10 10 10 10 10 10 10 10 10 10 10 10 10 10 10 10 10  0 10 10 10 10 10\n",
      " 10 10 10 10]\n",
      "Robust accuracy at 10 pixels: 5.00%\n",
      "Maximum perturbation size: 1.00000\n"
     ]
    }
   ],
   "source": [
    "args = {'type_attack': 'L0',\n",
    "                'n_restarts': 5,\n",
    "                'num_steps': 100,\n",
    "                'step_size': 120000.0/255.0,\n",
    "                'kappa': -1,\n",
    "                'epsilon': -1,\n",
    "                'sparsity': 10}\n",
    "attack = PGDattack(model, args)\n",
    "adv_PGD_k10, pixels_changed_PGD_k10, pgd_adv_acc_PGD_k10 = attack.perturb(X_test, y_test)\n",
    "\n",
    "# Save the results in the results folder\n",
    "np.save('./results/adv_PGD_k10.npy', adv_PGD_k10)"
   ]
  },
  {
   "attachments": {},
   "cell_type": "markdown",
   "metadata": {},
   "source": [
    "### PGD attack with L0 norm with changing pixels from 1-50 with n-restarts = 1"
   ]
  },
  {
   "cell_type": "code",
   "execution_count": 281,
   "metadata": {},
   "outputs": [
    {
     "name": "stdout",
     "output_type": "stream",
     "text": [
      "Restart 1 - Robust accuracy: 0.82\n",
      "Pixels changed:  [0 0 1 0 0 0 0 0 0 0 0 0 0 0 0 0 0 0 0 0 0 0 1 0 0 0 0 0 0 0 0 0 1 0 0 1 0\n",
      " 1 0 0 0 0 0 0 0 0 1 1 0 1 0 0 1 1 0 0 0 1 1 1 0 1 0 0 0 0 0 0 0 0 1 0 0 0\n",
      " 0 0 0 0 1 0 0 0 0 0 1 0 0 1 0 0 0 0 0 0 0 0 0 0 0 0]\n",
      "Robust accuracy at 1 pixels: 82.00%\n",
      "Maximum perturbation size: 0.94902\n",
      "Restart 1 - Robust accuracy: 0.7\n",
      "Pixels changed:  [0 0 2 0 0 0 0 0 2 0 0 0 0 0 0 2 2 0 0 0 2 0 2 0 0 0 0 0 0 0 2 2 2 2 0 0 2\n",
      " 2 0 0 0 0 2 0 0 0 2 2 0 2 0 0 2 2 0 0 0 2 2 2 0 2 0 0 0 0 0 0 0 0 2 0 0 0\n",
      " 0 0 0 0 2 0 0 0 0 0 2 2 2 2 0 0 0 0 0 0 0 2 2 0 0 0]\n",
      "Robust accuracy at 2 pixels: 70.00%\n",
      "Maximum perturbation size: 0.99608\n",
      "Restart 1 - Robust accuracy: 0.64\n",
      "Pixels changed:  [0 0 3 0 0 0 0 3 3 0 0 0 0 0 0 3 0 3 0 0 3 0 3 0 0 0 0 0 0 0 3 3 3 3 0 0 0\n",
      " 3 0 0 3 0 3 0 0 0 3 3 0 3 0 0 3 3 0 0 0 3 3 3 0 3 0 3 3 0 0 0 0 0 3 3 0 0\n",
      " 0 0 0 0 3 0 0 0 0 0 3 3 3 3 0 0 0 3 0 0 3 3 3 0 0 0]\n",
      "Robust accuracy at 3 pixels: 64.00%\n",
      "Maximum perturbation size: 0.97255\n",
      "Restart 1 - Robust accuracy: 0.49\n",
      "Pixels changed:  [0 0 4 4 0 4 0 4 4 0 0 0 4 0 0 4 4 0 0 0 4 0 4 0 4 4 0 0 0 0 4 4 4 4 0 4 4\n",
      " 0 0 0 4 0 4 0 0 0 4 4 0 4 0 4 4 4 4 4 0 4 4 4 0 4 0 4 4 0 0 0 0 0 4 4 4 0\n",
      " 0 0 0 4 4 4 4 0 0 0 4 4 4 4 0 0 0 4 0 0 0 4 4 4 0 4]\n",
      "Robust accuracy at 4 pixels: 49.00%\n",
      "Maximum perturbation size: 0.99608\n",
      "Restart 1 - Robust accuracy: 0.39\n",
      "Pixels changed:  [0 0 5 5 0 5 0 5 5 0 0 0 5 0 0 5 5 0 0 0 5 0 5 0 5 5 5 0 0 0 5 5 5 5 0 5 5\n",
      " 5 0 0 5 0 5 5 0 0 5 5 0 5 0 5 5 5 5 5 0 5 5 5 0 5 0 5 0 5 5 0 5 5 5 5 5 5\n",
      " 0 0 5 5 5 5 5 0 0 0 5 5 5 5 0 0 0 5 5 5 5 5 5 5 0 5]\n",
      "Robust accuracy at 5 pixels: 39.00%\n",
      "Maximum perturbation size: 1.00000\n",
      "Restart 1 - Robust accuracy: 0.32\n",
      "Pixels changed:  [6 0 6 6 0 6 6 6 6 6 0 0 6 0 0 6 6 0 0 0 6 6 6 0 6 6 6 0 0 0 6 6 6 6 0 6 6\n",
      " 6 0 6 6 0 6 6 6 0 6 6 0 6 0 0 6 6 6 6 0 6 6 6 0 6 6 6 6 0 6 0 6 6 6 6 6 6\n",
      " 0 0 6 6 6 6 6 0 0 6 6 6 6 6 0 0 0 6 6 6 6 6 6 6 0 6]\n",
      "Robust accuracy at 6 pixels: 32.00%\n",
      "Maximum perturbation size: 1.00000\n",
      "Restart 1 - Robust accuracy: 0.25\n",
      "Pixels changed:  [7 0 7 7 0 7 7 7 7 0 7 0 7 0 0 7 7 7 7 7 7 7 7 0 7 7 7 0 7 7 7 7 7 7 0 7 7\n",
      " 7 0 7 7 0 7 7 0 0 7 7 0 7 0 7 7 7 7 7 0 7 7 7 0 7 7 7 7 7 7 7 7 7 7 7 7 7\n",
      " 0 0 7 7 7 7 7 0 0 7 7 7 7 7 7 0 0 7 7 7 7 7 7 0 0 7]\n",
      "Robust accuracy at 7 pixels: 25.00%\n",
      "Maximum perturbation size: 1.00000\n",
      "Restart 1 - Robust accuracy: 0.22\n",
      "Pixels changed:  [8 8 8 8 8 8 8 8 8 8 0 0 8 0 8 8 8 8 8 0 8 8 8 0 8 8 8 8 8 8 8 8 8 8 0 8 8\n",
      " 8 0 8 8 0 8 8 8 0 8 8 0 8 0 8 8 8 8 8 0 8 8 8 0 8 8 8 8 0 8 8 8 8 8 8 8 8\n",
      " 0 0 8 8 8 8 8 0 0 8 8 8 8 8 0 0 0 8 8 8 8 8 8 8 0 8]\n",
      "Robust accuracy at 8 pixels: 22.00%\n",
      "Maximum perturbation size: 1.00000\n",
      "Restart 1 - Robust accuracy: 0.15\n",
      "Pixels changed:  [9 9 9 9 9 9 9 9 9 9 0 0 9 9 9 9 9 9 9 9 9 9 9 0 9 9 9 0 9 9 9 9 9 9 0 9 9\n",
      " 9 0 9 9 0 9 9 9 0 9 9 9 9 9 9 9 9 9 9 0 9 9 9 0 9 9 9 9 9 9 9 9 9 9 9 9 9\n",
      " 9 0 9 9 9 9 9 0 0 9 9 9 9 9 0 9 0 9 9 9 9 9 9 9 9 9]\n",
      "Robust accuracy at 9 pixels: 15.00%\n",
      "Maximum perturbation size: 1.00000\n",
      "Restart 1 - Robust accuracy: 0.15\n",
      "Pixels changed:  [10 10 10 10 10 10 10 10 10 10  0  0 10 10 10 10 10 10 10  0 10 10 10  0\n",
      " 10 10 10  0 10 10 10 10 10 10 10 10 10 10  0 10 10  0 10 10 10  0 10 10\n",
      " 10 10  0 10 10 10 10 10  0 10 10 10  0 10 10 10 10 10 10 10 10 10 10 10\n",
      " 10 10 10  0 10 10 10 10 10 10  0 10 10 10 10 10 10  0  0 10 10 10 10 10\n",
      " 10 10 10 10]\n",
      "Robust accuracy at 10 pixels: 15.00%\n",
      "Maximum perturbation size: 1.00000\n",
      "Restart 1 - Robust accuracy: 0.11\n",
      "Pixels changed:  [11 11 11 11 11 11 11 11 11 11  0  0 11 11 11 11 11 11 11 11 11 11 11  0\n",
      " 11 11 11 11 11 11 11 11 11 11  0 11 11 11  0 11 11  0 11 11 11 11 11 11\n",
      " 11 11  0 11 11 11 11 11  0 11 11 11  0 11 11 11 11 11 11 11 11 11 11 11\n",
      " 11 11 11 11 11 11 11 11 11  0 11 11 11 11 11 11 11 11  0 11 11 11 11 11\n",
      " 11 11 11 11]\n",
      "Robust accuracy at 11 pixels: 11.00%\n",
      "Maximum perturbation size: 1.00000\n",
      "Restart 1 - Robust accuracy: 0.08\n",
      "Pixels changed:  [12 12 12 12 12 12 12 12 12 12 12  0 12 12 12 12 12 12 12 12 12 12 12  0\n",
      " 12 12 12 12 12 12 12 12 12 12 12 12 12 12  0 12 12 12 12 12 12  0 12 12\n",
      " 12 12 12 12 12 12 12 12 12 12 12 12  0 12 12 12 12 12 12 12 12 12 12 12\n",
      " 12 12 12  0 12 12 12 12 12 12  0 12 12 12 12 12 12 12  0 12 12 12 12 12\n",
      " 12 12 12 12]\n",
      "Robust accuracy at 12 pixels: 8.00%\n",
      "Maximum perturbation size: 1.00000\n",
      "Restart 1 - Robust accuracy: 0.09\n",
      "Pixels changed:  [13 13 13 13 13 13 13 13 13 13  0 13 13 13 13 13 13 13 13 13 13 13 13  0\n",
      " 13 13 13  0 13 13 13 13 13 13 13 13 13 13  0 13 13  0 13 13 13  0 13 13\n",
      " 13 13  0 13 13 13 13 13 13 13 13 13 13 13 13 13 13 13 13 13 13 13 13 13\n",
      " 13 13 13 13 13 13 13 13 13 13 13 13 13 13 13 13 13 13  0 13 13 13 13 13\n",
      " 13 13  0 13]\n",
      "Robust accuracy at 13 pixels: 9.00%\n",
      "Maximum perturbation size: 1.00000\n",
      "Restart 1 - Robust accuracy: 0.06\n",
      "Pixels changed:  [14 14 14 14 14 14 14 14 14 14 14  0 14 14 14 14 14 14 14 14 14 14 14  0\n",
      " 14 14 14 14 14 14 14 14 14 14 14 14 14 14  0 14 14 14 14 14 14 14 14 14\n",
      " 14 14  0 14 14 14 14 14 14 14 14 14 14 14 14 14 14 14 14 14 14 14 14 14\n",
      " 14 14 14 14 14 14 14 14 14 14 14 14 14 14 14 14 14 14  0 14 14 14 14 14\n",
      " 14 14  0 14]\n",
      "Robust accuracy at 14 pixels: 6.00%\n",
      "Maximum perturbation size: 1.00000\n",
      "Restart 1 - Robust accuracy: 0.05\n",
      "Pixels changed:  [15 15 15 15 15 15 15 15 15 15 15  0 15 15 15 15 15 15 15 15 15 15 15  0\n",
      " 15 15 15 15 15 15 15 15 15 15 15 15 15 15  0 15 15 15 15 15 15 15 15 15\n",
      " 15 15 15 15 15 15 15 15 15 15 15 15 15 15 15 15 15 15 15 15 15 15 15 15\n",
      " 15 15 15 15 15 15 15 15 15 15  0 15 15 15 15 15 15 15  0 15 15 15 15 15\n",
      " 15 15 15 15]\n",
      "Robust accuracy at 15 pixels: 5.00%\n",
      "Maximum perturbation size: 1.00000\n",
      "Restart 1 - Robust accuracy: 0.03\n",
      "Pixels changed:  [16 16 16 16 16 16 16 16 16 16 16 16 16 16 16 16 16 16 16 16 16 16 16  0\n",
      " 16 16 16 16 16 16 16 16 16 16 16 16 16 16  0 16 16 16 16 16 16  0 16 16\n",
      " 16 16 16 16 16 16 16 16 16 16 16 16 16 16 16 16 16 16 16 16 16 16 16 16\n",
      " 16 16 16 16 16 16 16 16 16 16 16 16 16 16 16 16 16 16 16 16 16 16 16 16\n",
      " 16 16 16 16]\n",
      "Robust accuracy at 16 pixels: 3.00%\n",
      "Maximum perturbation size: 1.00000\n",
      "Restart 1 - Robust accuracy: 0.03\n",
      "Pixels changed:  [17 17 17 17 17 17 17 17 17 17 17 17 17 17 17 17 17 17 17 17 17 17 17  0\n",
      " 17 17 17 17 17 17 17 17 17 17 17 17 17 17  0 17 17 17 17 17 17 17 17 17\n",
      " 17 17 17 17 17 17 17 17 17 17 17 17 17 17 17 17 17 17 17 17 17 17 17 17\n",
      " 17 17 17 17 17 17 17 17 17 17 17 17 17 17 17 17 17 17  0 17 17 17 17 17\n",
      " 17 17 17 17]\n",
      "Robust accuracy at 17 pixels: 3.00%\n",
      "Maximum perturbation size: 1.00000\n",
      "Restart 1 - Robust accuracy: 0.04\n",
      "Pixels changed:  [18 18 18 18 18 18 18 18 18 18  0 18 18 18 18 18 18 18 18 18 18 18 18  0\n",
      " 18 18 18 18 18 18 18 18 18 18 18 18 18 18  0 18 18 18 18 18 18 18 18 18\n",
      " 18 18 18 18 18 18 18 18 18 18 18 18 18 18 18 18 18 18 18 18 18 18 18 18\n",
      " 18 18 18 18 18 18 18 18 18 18 18 18 18 18 18 18 18 18  0 18 18 18 18 18\n",
      " 18 18 18 18]\n",
      "Robust accuracy at 18 pixels: 4.00%\n",
      "Maximum perturbation size: 1.00000\n",
      "Restart 1 - Robust accuracy: 0.02\n",
      "Pixels changed:  [19 19 19 19 19 19 19 19 19 19 19 19 19 19 19 19 19 19 19 19 19 19 19  0\n",
      " 19 19 19 19 19 19 19 19 19 19 19 19 19 19 19 19 19 19 19 19 19 19 19 19\n",
      " 19 19 19 19 19 19 19 19 19 19 19 19 19 19 19 19 19 19 19 19 19 19 19 19\n",
      " 19 19 19 19 19 19 19 19 19 19 19 19 19 19 19 19 19 19  0 19 19 19 19 19\n",
      " 19 19 19 19]\n",
      "Robust accuracy at 19 pixels: 2.00%\n",
      "Maximum perturbation size: 1.00000\n",
      "Restart 1 - Robust accuracy: 0.02\n",
      "Pixels changed:  [20 20 20 20 20 20 20 20 20 20 20 20 20 20 20 20 20 20 20 20 20 20 20  0\n",
      " 20 20 20 20 20 20 20 20 20 20 20 20 20 20 20 20 20 20 20 20 20 20 20 20\n",
      " 20 20 20 20 20 20 20 20 20 20 20 20 20 20 20 20 20 20 20 20 20 20 20 20\n",
      " 20 20 20 20 20 20 20 20 20 20 20 20 20 20 20 20 20 20  0 20 20 20 20 20\n",
      " 20 20 20 20]\n",
      "Robust accuracy at 20 pixels: 2.00%\n",
      "Maximum perturbation size: 1.00000\n",
      "Restart 1 - Robust accuracy: 0.01\n",
      "Pixels changed:  [21 21 21 21 21 21 21 21 21 21 21 21 21 21 21 21 21 21 21 21 21 21 21 21\n",
      " 21 21 21 21 21 21 21 21 21 21 21 21 21 21 21 21 21 21 21 21 21 21 21 21\n",
      " 21 21 21 21 21 21 21 21 21 21 21 21 21 21 21 21 21 21 21 21 21 21 21 21\n",
      " 21 21 21 21 21 21 21 21 21 21  0 21 21 21 21 21 21 21 21 21 21 21 21 21\n",
      " 21 21 21 21]\n",
      "Robust accuracy at 21 pixels: 1.00%\n",
      "Maximum perturbation size: 1.00000\n",
      "Restart 1 - Robust accuracy: 0.01\n",
      "Pixels changed:  [22 22 22 22 22 22 22 22 22 22 22 22 22 22 22 22 22 22 22 22 22 22 22 22\n",
      " 22 22 22 22 22 22 22 22 22 22 22 22 22 22 22 22 22 22 22 22 22 22 22 22\n",
      " 22 22 22 22 22 22 22 22 22 22 22 22 22 22 22 22 22 22 22 22 22 22 22 22\n",
      " 22 22 22 22 22 22 22 22 22 22 22 22 22 22 22 22 22 22  0 22 22 22 22 22\n",
      " 22 22 22 22]\n",
      "Robust accuracy at 22 pixels: 1.00%\n",
      "Maximum perturbation size: 1.00000\n",
      "Restart 1 - Robust accuracy: 0.02\n",
      "Pixels changed:  [23 23 23 23 23 23 23 23 23 23 23 23 23 23 23 23 23 23 23 23 23 23 23 23\n",
      " 23 23 23 23 23 23 23 23 23 23 23 23 23 23  0 23 23 23 23 23 23 23 23 23\n",
      " 23 23 23 23 23 23 23 23 23 23 23 23 23 23 23 23 23 23 23 23 23 23 23 23\n",
      " 23 23 23 23 23 23 23 23 23 23 23 23 23 23 23 23 23 23  0 23 23 23 23 23\n",
      " 23 23 23 23]\n",
      "Robust accuracy at 23 pixels: 2.00%\n",
      "Maximum perturbation size: 1.00000\n",
      "Restart 1 - Robust accuracy: 0.02\n",
      "Pixels changed:  [24 24 24 24 24 24 24 24 24 24 24  0 24 24 24 24 24 24 24 24 24 24 24 24\n",
      " 24 24 24 24 24 24 24 24 24 24 24 24 24 24 24 24 24 24 24 24 24 24 24 24\n",
      " 24 24 24 24 24 24 24 24 24 24 24 24 24 24 24 24 24 24 24 24 24 24 24 24\n",
      " 24 24 24 24 24 24 24 24 24 24 24 24 24 24 24 24 24 24  0 24 24 24 24 24\n",
      " 24 24 24 24]\n",
      "Robust accuracy at 24 pixels: 2.00%\n",
      "Maximum perturbation size: 1.00000\n",
      "Restart 1 - Robust accuracy: 0.01\n",
      "Pixels changed:  [25 25 25 25 25 25 25 25 25 25 25 25 25 25 25 25 25 25 25 25 25 25 25 25\n",
      " 25 25 25 25 25 25 25 25 25 25 25 25 25 25 25 25 25 25 25 25 25 25 25 25\n",
      " 25 25 25 25 25 25 25 25 25 25 25 25 25 25 25 25 25 25 25 25 25 25 25 25\n",
      " 25 25 25 25 25 25 25 25 25 25 25 25 25 25 25 25 25 25  0 25 25 25 25 25\n",
      " 25 25 25 25]\n",
      "Robust accuracy at 25 pixels: 1.00%\n",
      "Maximum perturbation size: 1.00000\n",
      "Restart 1 - Robust accuracy: 0.0\n",
      "Pixels changed:  [26 26 26 26 26 26 26 26 26 26 26 26 26 26 26 26 26 26 26 26 26 26 26 26\n",
      " 26 26 26 26 26 26 26 26 26 26 26 26 26 26 26 26 26 26 26 26 26 26 26 26\n",
      " 26 26 26 26 26 26 26 26 26 26 26 26 26 26 26 26 26 26 26 26 26 26 26 26\n",
      " 26 26 26 26 26 26 26 26 26 26 26 26 26 26 26 26 26 26 26 26 26 26 26 26\n",
      " 26 26 26 26]\n",
      "Robust accuracy at 26 pixels: 0.00%\n",
      "Maximum perturbation size: 1.00000\n",
      "Restart 1 - Robust accuracy: 0.01\n",
      "Pixels changed:  [27 27 27 27 27 27 27 27 27 27 27 27 27 27 27 27 27 27 27 27 27 27 27 27\n",
      " 27 27 27 27 27 27 27 27 27 27 27 27 27 27 27 27 27 27 27 27 27 27 27 27\n",
      " 27 27 27 27 27 27 27 27 27 27 27 27 27 27 27 27 27 27 27 27 27 27 27 27\n",
      " 27 27 27 27 27 27 27 27 27 27 27 27 27 27 27 27 27 27  0 27 27 27 27 27\n",
      " 27 27 27 27]\n",
      "Robust accuracy at 27 pixels: 1.00%\n",
      "Maximum perturbation size: 1.00000\n",
      "Restart 1 - Robust accuracy: 0.0\n",
      "Pixels changed:  [28 28 28 28 28 28 28 28 28 28 28 28 28 28 28 28 28 28 28 28 28 28 28 28\n",
      " 28 28 28 28 28 28 28 28 28 28 28 28 28 28 28 28 28 28 28 28 28 28 28 28\n",
      " 28 28 28 28 28 28 28 28 28 28 28 28 28 28 28 28 28 28 28 28 28 28 28 28\n",
      " 28 28 28 28 28 28 28 28 28 28 28 28 28 28 28 28 28 28 28 28 28 28 28 28\n",
      " 28 28 28 28]\n",
      "Robust accuracy at 28 pixels: 0.00%\n",
      "Maximum perturbation size: 1.00000\n",
      "Restart 1 - Robust accuracy: 0.0\n",
      "Pixels changed:  [29 29 29 29 29 29 29 29 29 29 29 29 29 29 29 29 29 29 29 29 29 29 29 29\n",
      " 29 29 29 29 29 29 29 29 29 29 29 29 29 29 29 29 29 29 29 29 29 29 29 29\n",
      " 29 29 29 29 29 29 29 29 29 29 29 29 29 29 29 29 29 29 29 29 29 29 29 29\n",
      " 29 29 29 29 29 29 29 29 29 29 29 29 29 29 29 29 29 29 29 29 29 29 29 29\n",
      " 29 29 29 29]\n",
      "Robust accuracy at 29 pixels: 0.00%\n",
      "Maximum perturbation size: 1.00000\n",
      "Restart 1 - Robust accuracy: 0.0\n",
      "Pixels changed:  [30 30 30 30 30 30 30 30 30 30 30 30 30 30 30 30 30 30 30 30 30 30 30 30\n",
      " 30 30 30 30 30 30 30 30 30 30 30 30 30 30 30 30 30 30 30 30 30 30 30 30\n",
      " 30 30 30 30 30 30 30 30 30 30 30 30 30 30 30 30 30 30 30 30 30 30 30 30\n",
      " 30 30 30 30 30 30 30 30 30 30 30 30 30 30 30 30 30 30 30 30 30 30 30 30\n",
      " 30 30 30 30]\n",
      "Robust accuracy at 30 pixels: 0.00%\n",
      "Maximum perturbation size: 1.00000\n",
      "Restart 1 - Robust accuracy: 0.0\n",
      "Pixels changed:  [31 31 31 31 31 31 31 31 31 31 31 31 31 31 31 31 31 31 31 31 31 31 31 31\n",
      " 31 31 31 31 31 31 31 31 31 31 31 31 31 31 31 31 31 31 31 31 31 31 31 31\n",
      " 31 31 31 31 31 31 31 31 31 31 31 31 31 31 31 31 31 31 31 31 31 31 31 31\n",
      " 31 31 31 31 31 31 31 31 31 31 31 31 31 31 31 31 31 31 31 31 31 31 31 31\n",
      " 31 31 31 31]\n",
      "Robust accuracy at 31 pixels: 0.00%\n",
      "Maximum perturbation size: 1.00000\n",
      "Restart 1 - Robust accuracy: 0.0\n",
      "Pixels changed:  [32 32 32 32 32 32 32 32 32 32 32 32 32 32 32 32 32 32 32 32 32 32 32 32\n",
      " 32 32 32 32 32 32 32 32 32 32 32 32 32 32 32 32 32 32 32 32 32 32 32 32\n",
      " 32 32 32 32 32 32 32 32 32 32 32 32 32 32 32 32 32 32 32 32 32 32 32 32\n",
      " 32 32 32 32 32 32 32 32 32 32 32 32 32 32 32 32 32 32 32 32 32 32 32 32\n",
      " 32 32 32 32]\n",
      "Robust accuracy at 32 pixels: 0.00%\n",
      "Maximum perturbation size: 1.00000\n",
      "Restart 1 - Robust accuracy: 0.0\n",
      "Pixels changed:  [33 33 33 33 33 33 33 33 33 33 33 33 33 33 33 33 33 33 33 33 33 33 33 33\n",
      " 33 33 33 33 33 33 33 33 33 33 33 33 33 33 33 33 33 33 33 33 33 33 33 33\n",
      " 33 33 33 33 33 33 33 33 33 33 33 33 33 33 33 33 33 33 33 33 33 33 33 33\n",
      " 33 33 33 33 33 33 33 33 33 33 33 33 33 33 33 33 33 33 33 33 33 33 33 33\n",
      " 33 33 33 33]\n",
      "Robust accuracy at 33 pixels: 0.00%\n",
      "Maximum perturbation size: 1.00000\n",
      "Restart 1 - Robust accuracy: 0.0\n",
      "Pixels changed:  [34 34 34 34 34 34 34 34 34 34 34 34 34 34 34 34 34 34 34 34 34 34 34 34\n",
      " 34 34 34 34 34 34 34 34 34 34 34 34 34 34 34 34 34 34 34 34 34 34 34 34\n",
      " 34 34 34 34 34 34 34 34 34 34 34 34 34 34 34 34 34 34 34 34 34 34 34 34\n",
      " 34 34 34 34 34 34 34 34 34 34 34 34 34 34 34 34 34 34 34 34 34 34 34 34\n",
      " 34 34 34 34]\n",
      "Robust accuracy at 34 pixels: 0.00%\n",
      "Maximum perturbation size: 1.00000\n",
      "Restart 1 - Robust accuracy: 0.0\n",
      "Pixels changed:  [35 35 35 35 35 35 35 35 35 35 35 35 35 35 35 35 35 35 35 35 35 35 35 35\n",
      " 35 35 35 35 35 35 35 35 35 35 35 35 35 35 35 35 35 35 35 35 35 35 35 35\n",
      " 35 35 35 35 35 35 35 35 35 35 35 35 35 35 35 35 35 35 35 35 35 35 35 35\n",
      " 35 35 35 35 35 35 35 35 35 35 35 35 35 35 35 35 35 35 35 35 35 35 35 35\n",
      " 35 35 35 35]\n",
      "Robust accuracy at 35 pixels: 0.00%\n",
      "Maximum perturbation size: 1.00000\n",
      "Restart 1 - Robust accuracy: 0.0\n",
      "Pixels changed:  [36 36 36 36 36 36 36 36 36 36 36 36 36 36 36 36 36 36 36 36 36 36 36 36\n",
      " 36 36 36 36 36 36 36 36 36 36 36 36 36 36 36 36 36 36 36 36 36 36 36 36\n",
      " 36 36 36 36 36 36 36 36 36 36 36 36 36 36 36 36 36 36 36 36 36 36 36 36\n",
      " 36 36 36 36 36 36 36 36 36 36 36 36 36 36 36 36 36 36 36 36 36 36 36 36\n",
      " 36 36 36 36]\n",
      "Robust accuracy at 36 pixels: 0.00%\n",
      "Maximum perturbation size: 1.00000\n",
      "Restart 1 - Robust accuracy: 0.0\n",
      "Pixels changed:  [37 37 37 37 37 37 37 37 37 37 37 37 37 37 37 37 37 37 37 37 37 37 37 37\n",
      " 37 37 37 37 37 37 37 37 37 37 37 37 37 37 37 37 37 37 37 37 37 37 37 37\n",
      " 37 37 37 37 37 37 37 37 37 37 37 37 37 37 37 37 37 37 37 37 37 37 37 37\n",
      " 37 37 37 37 37 37 37 37 37 37 37 37 37 37 37 37 37 37 37 37 37 37 37 37\n",
      " 37 37 37 37]\n",
      "Robust accuracy at 37 pixels: 0.00%\n",
      "Maximum perturbation size: 1.00000\n",
      "Restart 1 - Robust accuracy: 0.0\n",
      "Pixels changed:  [38 38 38 38 38 38 38 38 38 38 38 38 38 38 38 38 38 38 38 38 38 38 38 38\n",
      " 38 38 38 38 38 38 38 38 38 38 38 38 38 38 38 38 38 38 38 38 38 38 38 38\n",
      " 38 38 38 38 38 38 38 38 38 38 38 38 38 38 38 38 38 38 38 38 38 38 38 38\n",
      " 38 38 38 38 38 38 38 38 38 38 38 38 38 38 38 38 38 38 38 38 38 38 38 38\n",
      " 38 38 38 38]\n",
      "Robust accuracy at 38 pixels: 0.00%\n",
      "Maximum perturbation size: 1.00000\n",
      "Restart 1 - Robust accuracy: 0.0\n",
      "Pixels changed:  [39 39 39 39 39 39 39 39 39 39 39 39 39 39 39 39 39 39 39 39 39 39 39 39\n",
      " 39 39 39 39 39 39 39 39 39 39 39 39 39 39 39 39 39 39 39 39 39 39 39 39\n",
      " 39 39 39 39 39 39 39 39 39 39 39 39 39 39 39 39 39 39 39 39 39 39 39 39\n",
      " 39 39 39 39 39 39 39 39 39 39 39 39 39 39 39 39 39 39 39 39 39 39 39 39\n",
      " 39 39 39 39]\n",
      "Robust accuracy at 39 pixels: 0.00%\n",
      "Maximum perturbation size: 1.00000\n",
      "Restart 1 - Robust accuracy: 0.0\n",
      "Pixels changed:  [40 40 40 40 40 40 40 40 40 40 40 40 40 40 40 40 40 40 40 40 40 40 40 40\n",
      " 40 40 40 40 40 40 40 40 40 40 40 40 40 40 40 40 40 40 40 40 40 40 40 40\n",
      " 40 40 40 40 40 40 40 40 40 40 40 40 40 40 40 40 40 40 40 40 40 40 40 40\n",
      " 40 40 40 40 40 40 40 40 40 40 40 40 40 40 40 40 40 40 40 40 40 40 40 40\n",
      " 40 40 40 40]\n",
      "Robust accuracy at 40 pixels: 0.00%\n",
      "Maximum perturbation size: 1.00000\n",
      "Restart 1 - Robust accuracy: 0.0\n",
      "Pixels changed:  [41 41 41 41 41 41 41 41 41 41 41 41 41 41 41 41 41 41 41 41 41 41 41 41\n",
      " 41 41 41 41 41 41 41 41 41 41 41 41 41 41 41 41 41 41 41 41 41 41 41 41\n",
      " 41 41 41 41 41 41 41 41 41 41 41 41 41 41 41 41 41 41 41 41 41 41 41 41\n",
      " 41 41 41 41 41 41 41 41 41 41 41 41 41 41 41 41 41 41 41 41 41 41 41 41\n",
      " 41 41 41 41]\n",
      "Robust accuracy at 41 pixels: 0.00%\n",
      "Maximum perturbation size: 1.00000\n",
      "Restart 1 - Robust accuracy: 0.0\n",
      "Pixels changed:  [42 42 42 42 42 42 42 42 42 42 42 42 42 42 42 42 42 42 42 42 42 42 42 42\n",
      " 42 42 42 42 42 42 42 42 42 42 42 42 42 42 42 42 42 42 42 42 42 42 42 42\n",
      " 42 42 42 42 42 42 42 42 42 42 42 42 42 42 42 42 42 42 42 42 42 42 42 42\n",
      " 42 42 42 42 42 42 42 42 42 42 42 42 42 42 42 42 42 42 42 42 42 42 42 42\n",
      " 42 42 42 42]\n",
      "Robust accuracy at 42 pixels: 0.00%\n",
      "Maximum perturbation size: 1.00000\n",
      "Restart 1 - Robust accuracy: 0.0\n",
      "Pixels changed:  [43 43 43 43 43 43 43 43 43 43 43 43 43 43 43 43 43 43 43 43 43 43 43 43\n",
      " 43 43 43 43 43 43 43 43 43 43 43 43 43 43 43 43 43 43 43 43 43 43 43 43\n",
      " 43 43 43 43 43 43 43 43 43 43 43 43 43 43 43 43 43 43 43 43 43 43 43 43\n",
      " 43 43 43 43 43 43 43 43 43 43 43 43 43 43 43 43 43 43 43 43 43 43 43 43\n",
      " 43 43 43 43]\n",
      "Robust accuracy at 43 pixels: 0.00%\n",
      "Maximum perturbation size: 1.00000\n",
      "Restart 1 - Robust accuracy: 0.0\n",
      "Pixels changed:  [44 44 44 44 44 44 44 44 44 44 44 44 44 44 44 44 44 44 44 44 44 44 44 44\n",
      " 44 44 44 44 44 44 44 44 44 44 44 44 44 44 44 44 44 44 44 44 44 44 44 44\n",
      " 44 44 44 44 44 44 44 44 44 44 44 44 44 44 44 44 44 44 44 44 44 44 44 44\n",
      " 44 44 44 44 44 44 44 44 44 44 44 44 44 44 44 44 44 44 44 44 44 44 44 44\n",
      " 44 44 44 44]\n",
      "Robust accuracy at 44 pixels: 0.00%\n",
      "Maximum perturbation size: 1.00000\n",
      "Restart 1 - Robust accuracy: 0.0\n",
      "Pixels changed:  [45 45 45 45 45 45 45 45 45 45 45 45 45 45 45 45 45 45 45 45 45 45 45 45\n",
      " 45 45 45 45 45 45 45 45 45 45 45 45 45 45 45 45 45 45 45 45 45 45 45 45\n",
      " 45 45 45 45 45 45 45 45 45 45 45 45 45 45 45 45 45 45 45 45 45 45 45 45\n",
      " 45 45 45 45 45 45 45 45 45 45 45 45 45 45 45 45 45 45 45 45 45 45 45 45\n",
      " 45 45 45 45]\n",
      "Robust accuracy at 45 pixels: 0.00%\n",
      "Maximum perturbation size: 1.00000\n",
      "Restart 1 - Robust accuracy: 0.0\n",
      "Pixels changed:  [46 46 46 46 46 46 46 46 46 46 46 46 46 46 46 46 46 46 46 46 46 46 46 46\n",
      " 46 46 46 46 46 46 46 46 46 46 46 46 46 46 46 46 46 46 46 46 46 46 46 46\n",
      " 46 46 46 46 46 46 46 46 46 46 46 46 46 46 46 46 46 46 46 46 46 46 46 46\n",
      " 46 46 46 46 46 46 46 46 46 46 46 46 46 46 46 46 46 46 46 46 46 46 46 46\n",
      " 46 46 46 46]\n",
      "Robust accuracy at 46 pixels: 0.00%\n",
      "Maximum perturbation size: 1.00000\n",
      "Restart 1 - Robust accuracy: 0.0\n",
      "Pixels changed:  [47 47 47 47 47 47 47 47 47 47 47 47 47 47 47 47 47 47 47 47 47 47 47 47\n",
      " 47 47 47 47 47 47 47 47 47 47 47 47 47 47 47 47 47 47 47 47 47 47 47 47\n",
      " 47 47 47 47 47 47 47 47 47 47 47 47 47 47 47 47 47 47 47 47 47 47 47 47\n",
      " 47 47 47 47 47 47 47 47 47 47 47 47 47 47 47 47 47 47 47 47 47 47 47 47\n",
      " 47 47 47 47]\n",
      "Robust accuracy at 47 pixels: 0.00%\n",
      "Maximum perturbation size: 1.00000\n",
      "Restart 1 - Robust accuracy: 0.0\n",
      "Pixels changed:  [48 48 48 48 48 48 48 48 48 48 48 48 48 48 48 48 48 48 48 48 48 48 48 48\n",
      " 48 48 48 48 48 48 48 48 48 48 48 48 48 48 48 48 48 48 48 48 48 48 48 48\n",
      " 48 48 48 48 48 48 48 48 48 48 48 48 48 48 48 48 48 48 48 48 48 48 48 48\n",
      " 48 48 48 48 48 48 48 48 48 48 48 48 48 48 48 48 48 48 48 48 48 48 48 48\n",
      " 48 48 48 48]\n",
      "Robust accuracy at 48 pixels: 0.00%\n",
      "Maximum perturbation size: 1.00000\n",
      "Restart 1 - Robust accuracy: 0.0\n",
      "Pixels changed:  [49 49 49 49 49 49 49 49 49 49 49 49 49 49 49 49 49 49 49 49 49 49 49 49\n",
      " 49 49 49 49 49 49 49 49 49 49 49 49 49 49 49 49 49 49 49 49 49 49 49 49\n",
      " 49 49 49 49 49 49 49 49 49 49 49 49 49 49 49 49 49 49 49 49 49 49 49 49\n",
      " 49 49 49 49 49 49 49 49 49 49 49 49 49 49 49 49 49 49 49 49 49 49 49 49\n",
      " 49 49 49 49]\n",
      "Robust accuracy at 49 pixels: 0.00%\n",
      "Maximum perturbation size: 1.00000\n",
      "Restart 1 - Robust accuracy: 0.0\n",
      "Pixels changed:  [50 50 50 50 50 50 50 50 50 50 50 50 50 50 50 50 50 50 50 50 50 50 50 50\n",
      " 50 50 50 50 50 50 50 50 50 50 50 50 50 50 50 50 50 50 50 50 50 50 50 50\n",
      " 50 50 50 50 50 50 50 50 50 50 50 50 50 50 50 50 50 50 50 50 50 50 50 50\n",
      " 50 50 50 50 50 50 50 50 50 50 50 50 50 50 50 50 50 50 50 50 50 50 50 50\n",
      " 50 50 50 50]\n",
      "Robust accuracy at 50 pixels: 0.00%\n",
      "Maximum perturbation size: 1.00000\n"
     ]
    }
   ],
   "source": [
    "# PGD attack with L0 norm with changing pixels from 1-50 with n-restarts = 1\n",
    "robust_acc_pgd_l0 = []\n",
    "for k in range(1, 51):\n",
    "    args = {'type_attack': 'L0',\n",
    "                  'n_restarts': 1,\n",
    "                  'num_steps': 100,\n",
    "                  'step_size': 120000.0/255.0,\n",
    "                  'kappa': -1,\n",
    "                  'epsilon': -1,\n",
    "                  'sparsity': k}\n",
    "    attack = PGDattack(model, args)\n",
    "    adv_val, pixels_changed_PGD_val, pgd_adv_acc_PGD_val = attack.perturb(X_test, y_test)\n",
    "    robust_acc_pgd_l0.append((k, np.sum(pgd_adv_acc_PGD_val)/X_test.shape[0]))"
   ]
  },
  {
   "attachments": {},
   "cell_type": "markdown",
   "metadata": {},
   "source": [
    "### Plotting the robust accuracy vs number of pixels changed for PGD attack with L0 norm"
   ]
  },
  {
   "cell_type": "code",
   "execution_count": 282,
   "metadata": {},
   "outputs": [
    {
     "data": {
      "image/png": "[encoded data removed]",
      "text/plain": [
       "<Figure size 432x288 with 1 Axes>"
      ]
     },
     "metadata": {
      "needs_background": "light"
     },
     "output_type": "display_data"
    }
   ],
   "source": [
    "robust_acc_pgd_l0 = np.array(robust_acc_pgd_l0)\n",
    "plt.plot(robust_acc_pgd_l0[:,0], robust_acc_pgd_l0[:,1])\n",
    "plt.xlabel('Number of pixels changed')\n",
    "plt.ylabel('Robust accuracy')\n",
    "plt.title('Robust accuracy vs number of pixels changed for PGD attack with L0 norm')\n",
    "plt.show()"
   ]
  },
  {
   "cell_type": "code",
   "execution_count": 364,
   "metadata": {},
   "outputs": [],
   "source": [
    "modified_pixel_images_PGD = []\n",
    "modified_pixel_images_PGD = np.zeros((100, 32, 32, 3))\n",
    "for i in range(100):\n",
    "    modified_pixel_images_PGD[i] = X_test[i] * (1 - adv_PGD[i])"
   ]
  },
  {
   "cell_type": "code",
   "execution_count": 366,
   "metadata": {},
   "outputs": [
    {
     "name": "stderr",
     "output_type": "stream",
     "text": [
      "Clipping input data to the valid range for imshow with RGB data ([0..1] for floats or [0..255] for integers).\n"
     ]
    },
    {
     "name": "stdout",
     "output_type": "stream",
     "text": [
      "PGD attack with l0 norm (k=5)\n"
     ]
    },
    {
     "data": {
      "image/png": "[encoded data removed]",
      "text/plain": [
       "<Figure size 720x720 with 4 Axes>"
      ]
     },
     "metadata": {
      "needs_background": "light"
     },
     "output_type": "display_data"
    },
    {
     "name": "stderr",
     "output_type": "stream",
     "text": [
      "Clipping input data to the valid range for imshow with RGB data ([0..1] for floats or [0..255] for integers).\n"
     ]
    },
    {
     "data": {
      "image/png": "[encoded data removed]",
      "text/plain": [
       "<Figure size 720x720 with 4 Axes>"
      ]
     },
     "metadata": {
      "needs_background": "light"
     },
     "output_type": "display_data"
    },
    {
     "name": "stderr",
     "output_type": "stream",
     "text": [
      "Clipping input data to the valid range for imshow with RGB data ([0..1] for floats or [0..255] for integers).\n"
     ]
    },
    {
     "data": {
      "image/png": "[encoded data removed]",
      "text/plain": [
       "<Figure size 720x720 with 4 Axes>"
      ]
     },
     "metadata": {
      "needs_background": "light"
     },
     "output_type": "display_data"
    },
    {
     "name": "stderr",
     "output_type": "stream",
     "text": [
      "Clipping input data to the valid range for imshow with RGB data ([0..1] for floats or [0..255] for integers).\n"
     ]
    },
    {
     "data": {
      "image/png": "[encoded data removed]",
      "text/plain": [
       "<Figure size 720x720 with 4 Axes>"
      ]
     },
     "metadata": {
      "needs_background": "light"
     },
     "output_type": "display_data"
    },
    {
     "name": "stderr",
     "output_type": "stream",
     "text": [
      "Clipping input data to the valid range for imshow with RGB data ([0..1] for floats or [0..255] for integers).\n"
     ]
    },
    {
     "data": {
      "image/png": "[encoded data removed]",
      "text/plain": [
       "<Figure size 720x720 with 4 Axes>"
      ]
     },
     "metadata": {
      "needs_background": "light"
     },
     "output_type": "display_data"
    }
   ],
   "source": [
    "print('PGD attack with l0 norm (k=5)')\n",
    "for i in range(5):\n",
    "    plt.figure(figsize=(10,10))\n",
    "    plt.subplot(1,4,1)\n",
    "    plt.imshow(X_test[i])\n",
    "    plt.title('Original image')\n",
    "    plt.subplot(1,4,2)\n",
    "    plt.imshow(adv_PGD[i])\n",
    "    plt.title('l0 norm')\n",
    "    plt.subplot(1,4,3)\n",
    "    plt.imshow(adv_PGD[i]-X_test[i])\n",
    "    perturbation_percentage = np.sum(np.abs(adv_PGD[i]-X_test[i])>0.1)/np.sum(np.abs(X_test[i])>0.1)\n",
    "    plt.title('Perurbation = ' + '{:.2f}'.format(perturbation_percentage*100) + '%')\n",
    "    plt.subplot(1,4,4)\n",
    "    plt.imshow(modified_pixel_images_PGD[i])\n",
    "    plt.title('Modified pixels (Sparsity)')\n",
    "    plt.show()"
   ]
  },
  {
   "attachments": {},
   "cell_type": "markdown",
   "metadata": {},
   "source": [
    "### PGD attack with L0+Linf norm with k = 5 pixels"
   ]
  },
  {
   "cell_type": "code",
   "execution_count": 275,
   "metadata": {},
   "outputs": [
    {
     "name": "stdout",
     "output_type": "stream",
     "text": [
      "Restart 1 - Robust accuracy: 0.76\n",
      "Restart 2 - Robust accuracy: 0.76\n",
      "Restart 3 - Robust accuracy: 0.76\n",
      "Restart 4 - Robust accuracy: 0.74\n",
      "Restart 5 - Robust accuracy: 0.74\n",
      "Pixels changed:  [0 0 5 5 0 0 0 0 5 0 0 0 0 0 0 5 0 0 0 0 5 0 5 0 0 0 5 0 0 0 0 0 5 0 0 5 0\n",
      " 5 0 0 0 0 5 0 0 0 5 5 0 0 0 0 5 5 0 0 0 5 5 5 0 5 0 0 0 0 0 0 0 0 5 0 0 0\n",
      " 0 0 0 0 5 0 0 0 0 0 5 5 0 5 0 0 0 0 0 0 0 5 0 5 0 0]\n",
      "Robust accuracy at 5 pixels: 74.00%\n",
      "Maximum perturbation size: 0.10000\n"
     ]
    }
   ],
   "source": [
    "args = {'type_attack': 'L0+Linf',\n",
    "                'n_restarts': 5,\n",
    "                'num_steps': 100,\n",
    "                'step_size': 120000.0/255.0,\n",
    "                'kappa': -1,\n",
    "                'epsilon': 0.1,\n",
    "                'sparsity': 5}\n",
    "attack = PGDattack(model, args)\n",
    "adv_PGD_2, pixels_changed_PGD_2, pgd_adv_acc_PGD_2 = attack.perturb(X_test, y_test)\n",
    "\n",
    "# Save the results in the results folder\n",
    "np.save('./results/adv_PGD_2.npy', adv_PGD_2)"
   ]
  },
  {
   "attachments": {},
   "cell_type": "markdown",
   "metadata": {},
   "source": [
    "### PGD attack with L0+Linf norm with k = 10 pixels"
   ]
  },
  {
   "cell_type": "code",
   "execution_count": 283,
   "metadata": {},
   "outputs": [
    {
     "name": "stdout",
     "output_type": "stream",
     "text": [
      "Restart 1 - Robust accuracy: 0.66\n",
      "Restart 2 - Robust accuracy: 0.64\n",
      "Restart 3 - Robust accuracy: 0.64\n",
      "Restart 4 - Robust accuracy: 0.62\n",
      "Restart 5 - Robust accuracy: 0.6\n",
      "Pixels changed:  [10  0 10 10  0  0  0 10 10  0  0  0 10  0  0 10  0  0  0  0 10  0 10  0\n",
      " 10  0 10  0  0  0 10 10 10 10  0 10  0 10  0  0  0  0 10  0  0  0 10 10\n",
      "  0 10  0  0 10 10 10  0  0 10 10 10  0 10  0 10  0  0  0  0 10  0 10  0\n",
      "  0  0  0  0  0  0 10  0  0  0  0  0 10 10  0 10  0  0  0 10  0  0 10 10\n",
      " 10 10  0  0]\n",
      "Robust accuracy at 10 pixels: 60.00%\n",
      "Maximum perturbation size: 0.10000\n"
     ]
    }
   ],
   "source": [
    "args = {'type_attack': 'L0+Linf',\n",
    "                'n_restarts': 5,\n",
    "                'num_steps': 100,\n",
    "                'step_size': 120000.0/255.0,\n",
    "                'kappa': -1,\n",
    "                'epsilon': 0.1,\n",
    "                'sparsity': 10}\n",
    "attack = PGDattack(model, args)\n",
    "adv_PGD_2_k10, pixels_changed_PGD_2_k10, pgd_adv_acc_PGD_2_k10 = attack.perturb(X_test, y_test)\n",
    "\n",
    "# Save the results in the results folder\n",
    "np.save('./results/adv_PGD_2_k10.npy', adv_PGD_2_k10)"
   ]
  },
  {
   "attachments": {},
   "cell_type": "markdown",
   "metadata": {},
   "source": [
    "### PGD attack with L0+Linf norm with changing pixels from 1-50 with n-restarts = 1"
   ]
  },
  {
   "cell_type": "code",
   "execution_count": 284,
   "metadata": {},
   "outputs": [
    {
     "name": "stdout",
     "output_type": "stream",
     "text": [
      "Restart 1 - Robust accuracy: 0.88\n",
      "Pixels changed:  [0 0 0 0 0 0 0 0 0 0 0 0 0 0 0 0 0 0 0 0 0 0 1 0 0 0 0 0 0 0 0 0 0 0 0 1 0\n",
      " 1 0 0 0 0 0 0 0 0 0 1 0 0 0 0 1 1 0 0 0 1 1 1 0 1 0 0 0 0 0 0 0 0 0 0 0 0\n",
      " 0 0 0 0 1 0 0 0 0 0 0 0 0 1 0 0 0 0 0 0 0 0 0 0 0 0]\n",
      "Robust accuracy at 1 pixels: 88.00%\n",
      "Maximum perturbation size: 0.10000\n",
      "Restart 1 - Robust accuracy: 0.84\n",
      "Pixels changed:  [0 0 2 0 0 0 0 0 0 0 0 0 0 0 0 2 0 0 0 0 2 0 0 0 0 0 0 0 0 0 0 0 0 0 0 2 0\n",
      " 2 0 0 0 0 0 0 0 0 2 2 0 0 0 0 2 2 0 0 0 2 2 2 0 2 0 0 0 0 0 0 0 0 0 0 0 0\n",
      " 0 0 0 0 2 0 0 0 0 0 2 0 0 2 0 0 0 0 0 0 0 0 0 0 0 0]\n",
      "Robust accuracy at 2 pixels: 84.00%\n",
      "Maximum perturbation size: 0.10000\n",
      "Restart 1 - Robust accuracy: 0.83\n",
      "Pixels changed:  [0 0 3 0 0 0 0 0 0 0 0 0 0 0 0 3 0 0 0 0 3 0 3 0 0 0 0 0 0 0 0 0 0 0 0 3 0\n",
      " 3 0 0 0 0 3 0 0 0 0 3 0 0 0 0 3 3 0 0 0 3 3 3 0 3 0 0 0 0 0 0 0 0 3 0 0 0\n",
      " 0 0 0 0 3 0 0 0 0 0 0 0 0 3 0 0 0 0 0 0 0 0 0 0 0 0]\n",
      "Robust accuracy at 3 pixels: 83.00%\n",
      "Maximum perturbation size: 0.10000\n",
      "Restart 1 - Robust accuracy: 0.81\n",
      "Pixels changed:  [0 0 0 0 0 0 0 0 0 0 0 0 0 0 0 4 0 0 0 0 4 0 4 0 0 0 0 0 0 0 0 0 4 0 0 4 0\n",
      " 4 0 0 0 0 4 0 0 0 4 4 0 0 0 0 4 4 0 0 0 4 4 4 0 4 0 0 0 0 0 0 0 0 4 0 0 0\n",
      " 0 0 0 0 4 0 0 0 0 0 4 0 0 4 0 0 0 0 0 0 0 0 0 0 0 0]\n",
      "Robust accuracy at 4 pixels: 81.00%\n",
      "Maximum perturbation size: 0.10000\n",
      "Restart 1 - Robust accuracy: 0.76\n",
      "Pixels changed:  [0 0 5 5 0 0 0 0 5 0 0 0 0 0 0 5 0 0 0 0 5 0 5 0 0 0 5 0 0 0 0 5 5 0 0 5 0\n",
      " 5 0 0 0 0 5 0 0 0 5 5 0 0 0 0 5 5 0 0 0 5 5 5 0 5 0 0 0 0 0 0 0 0 5 0 0 0\n",
      " 0 0 0 0 5 0 0 0 0 0 5 0 0 5 0 0 0 0 0 0 0 0 0 0 0 0]\n",
      "Robust accuracy at 5 pixels: 76.00%\n",
      "Maximum perturbation size: 0.10000\n",
      "Restart 1 - Robust accuracy: 0.75\n",
      "Pixels changed:  [0 0 6 0 0 0 0 6 6 0 0 0 0 0 0 6 0 0 0 0 6 0 6 0 0 0 0 0 0 0 0 6 6 0 0 6 0\n",
      " 6 0 0 0 0 6 0 0 0 6 6 0 0 0 0 6 6 0 0 0 6 6 6 0 6 0 0 0 0 0 0 0 0 6 0 0 0\n",
      " 0 0 0 0 6 0 0 0 0 0 6 6 0 6 0 0 0 0 0 0 0 6 0 0 0 0]\n",
      "Robust accuracy at 6 pixels: 75.00%\n",
      "Maximum perturbation size: 0.10000\n",
      "Restart 1 - Robust accuracy: 0.72\n",
      "Pixels changed:  [0 0 7 0 0 0 0 7 7 0 0 0 0 0 0 7 0 0 0 0 7 0 7 0 7 0 7 0 0 0 0 7 7 0 0 7 0\n",
      " 7 0 0 0 0 7 0 0 0 7 7 0 0 0 0 7 7 7 0 0 7 7 7 0 7 0 0 0 0 0 0 0 0 7 0 0 0\n",
      " 0 0 0 0 7 0 0 0 0 0 7 7 0 7 0 0 0 0 0 0 0 7 0 0 0 0]\n",
      "Robust accuracy at 7 pixels: 72.00%\n",
      "Maximum perturbation size: 0.10000\n",
      "Restart 1 - Robust accuracy: 0.68\n",
      "Pixels changed:  [0 0 8 8 0 0 0 0 8 0 0 0 0 0 0 8 0 8 0 0 8 0 8 0 8 0 8 0 0 0 8 8 8 0 0 8 0\n",
      " 8 0 0 0 0 8 0 0 0 8 8 0 0 0 0 8 8 8 0 0 8 8 8 0 8 0 8 0 0 0 0 8 0 8 0 0 0\n",
      " 0 0 0 0 8 0 0 0 0 0 8 8 0 8 0 0 0 0 0 0 0 8 0 0 0 0]\n",
      "Robust accuracy at 8 pixels: 68.00%\n",
      "Maximum perturbation size: 0.10000\n",
      "Restart 1 - Robust accuracy: 0.67\n",
      "Pixels changed:  [0 0 9 0 0 0 0 9 9 0 0 0 0 0 0 9 0 0 0 0 9 0 9 0 9 0 9 0 0 0 9 9 9 9 0 9 0\n",
      " 9 0 0 0 0 9 0 0 0 9 9 0 0 0 0 9 9 9 0 0 9 9 9 0 9 0 9 0 0 0 0 9 0 9 0 0 0\n",
      " 0 0 0 0 9 0 0 0 0 0 9 9 0 9 0 0 0 9 0 0 0 9 0 0 0 0]\n",
      "Robust accuracy at 9 pixels: 67.00%\n",
      "Maximum perturbation size: 0.10000\n",
      "Restart 1 - Robust accuracy: 0.68\n",
      "Pixels changed:  [ 0  0 10  0  0  0  0 10 10  0  0  0  0  0  0 10  0  0  0  0 10  0 10  0\n",
      " 10  0 10  0  0  0 10 10 10  0  0 10  0 10  0  0  0  0 10  0  0  0 10 10\n",
      "  0  0  0  0 10 10 10  0  0 10 10 10  0 10  0 10  0  0  0  0 10  0 10  0\n",
      "  0  0  0  0  0  0 10  0  0  0  0  0 10 10  0 10  0  0  0  0  0  0 10 10\n",
      "  0  0  0  0]\n",
      "Robust accuracy at 10 pixels: 68.00%\n",
      "Maximum perturbation size: 0.10000\n",
      "Restart 1 - Robust accuracy: 0.62\n",
      "Pixels changed:  [ 0  0 11  0  0  0  0 11 11 11  0  0 11  0  0 11  0  0  0  0 11  0 11  0\n",
      " 11  0 11  0  0  0 11 11 11 11  0 11  0 11  0  0  0  0 11  0  0  0 11 11\n",
      "  0 11  0  0 11 11 11  0  0 11 11 11  0 11  0 11  0  0  0  0 11  0 11  0\n",
      "  0  0  0  0  0  0 11  0  0  0  0  0 11 11  0 11  0  0  0 11  0  0  0 11\n",
      " 11 11  0  0]\n",
      "Robust accuracy at 11 pixels: 62.00%\n",
      "Maximum perturbation size: 0.10000\n",
      "Restart 1 - Robust accuracy: 0.61\n",
      "Pixels changed:  [ 0  0 12 12  0  0  0 12 12  0  0  0 12  0  0 12  0  0  0  0 12  0 12  0\n",
      " 12  0 12  0  0  0 12 12 12 12  0 12  0 12  0  0  0  0 12  0  0  0 12 12\n",
      "  0 12  0  0 12 12 12 12  0 12 12 12  0 12  0 12  0  0  0  0 12  0 12  0\n",
      "  0  0  0  0  0  0 12  0  0  0  0  0 12 12  0 12  0  0  0 12  0  0 12 12\n",
      " 12  0  0  0]\n",
      "Robust accuracy at 12 pixels: 61.00%\n",
      "Maximum perturbation size: 0.10000\n",
      "Restart 1 - Robust accuracy: 0.59\n",
      "Pixels changed:  [13  0 13 13  0  0  0 13 13  0  0  0 13  0  0 13  0 13  0  0 13  0 13  0\n",
      " 13 13 13  0  0  0 13 13 13 13  0 13  0 13  0  0  0  0 13  0  0  0 13 13\n",
      "  0 13  0  0 13 13 13  0  0 13 13 13  0 13  0 13  0  0  0  0 13  0 13  0\n",
      "  0  0  0  0  0  0 13  0  0  0  0  0 13 13  0 13  0  0  0 13  0  0 13 13\n",
      " 13  0  0  0]\n",
      "Robust accuracy at 13 pixels: 59.00%\n",
      "Maximum perturbation size: 0.10000\n",
      "Restart 1 - Robust accuracy: 0.6\n",
      "Pixels changed:  [14  0 14 14  0  0 14 14 14  0  0  0 14  0  0 14  0  0  0  0 14  0 14  0\n",
      " 14  0 14  0  0  0 14 14 14 14  0 14  0 14  0  0  0  0 14  0  0  0 14 14\n",
      "  0  0  0  0 14 14 14  0  0 14 14 14  0 14  0 14  0  0  0  0 14  0 14 14\n",
      "  0  0  0  0  0  0 14  0  0  0  0  0 14 14 14 14  0  0  0 14  0  0  0 14\n",
      " 14  0  0  0]\n",
      "Robust accuracy at 14 pixels: 60.00%\n",
      "Maximum perturbation size: 0.10000\n",
      "Restart 1 - Robust accuracy: 0.54\n",
      "Pixels changed:  [15  0 15 15  0  0 15 15 15  0  0  0 15  0  0 15 15 15  0  0 15  0 15  0\n",
      " 15 15 15  0  0  0 15 15 15 15  0 15  0 15  0  0 15  0 15  0  0  0 15 15\n",
      "  0 15  0  0 15 15 15  0  0 15 15 15  0 15  0 15  0  0  0  0 15  0 15 15\n",
      "  0  0  0  0  0  0 15  0  0  0  0  0 15 15 15 15  0  0  0 15  0  0 15 15\n",
      " 15  0  0  0]\n",
      "Robust accuracy at 15 pixels: 54.00%\n",
      "Maximum perturbation size: 0.10000\n",
      "Restart 1 - Robust accuracy: 0.53\n",
      "Pixels changed:  [16  0 16  0  0  0 16 16 16 16  0  0 16  0  0 16  0 16  0  0 16  0 16  0\n",
      " 16 16 16  0  0  0 16 16 16 16  0 16  0 16  0  0 16  0 16  0  0  0 16 16\n",
      "  0 16  0  0 16 16 16 16  0 16 16 16  0 16  0 16  0  0  0  0 16  0 16 16\n",
      "  0  0  0  0 16  0 16  0  0  0  0  0 16 16  0 16  0  0  0 16  0  0 16 16\n",
      " 16 16  0  0]\n",
      "Robust accuracy at 16 pixels: 53.00%\n",
      "Maximum perturbation size: 0.10000\n",
      "Restart 1 - Robust accuracy: 0.55\n",
      "Pixels changed:  [17  0 17 17  0  0 17 17 17 17  0  0 17  0  0 17  0 17  0  0 17  0 17  0\n",
      " 17 17 17  0  0  0 17 17 17 17  0 17  0 17  0  0 17  0 17  0  0  0 17 17\n",
      "  0  0  0  0 17 17 17 17  0 17 17 17  0 17  0 17  0  0  0  0 17  0 17 17\n",
      "  0  0  0  0  0  0 17  0  0  0  0  0 17 17 17 17  0  0  0 17  0  0  0 17\n",
      " 17  0  0  0]\n",
      "Robust accuracy at 17 pixels: 55.00%\n",
      "Maximum perturbation size: 0.10000\n",
      "Restart 1 - Robust accuracy: 0.51\n",
      "Pixels changed:  [18  0 18 18  0  0 18 18 18 18  0  0 18  0  0 18 18 18  0  0 18  0 18  0\n",
      " 18 18 18  0  0  0 18 18 18 18  0 18  0 18  0  0  0  0 18  0  0  0 18 18\n",
      "  0 18  0  0 18 18 18 18  0 18 18 18  0 18  0 18 18 18  0  0 18  0 18 18\n",
      " 18  0  0  0  0  0 18  0  0  0  0  0 18 18  0 18  0  0  0 18  0  0 18 18\n",
      " 18  0  0  0]\n",
      "Robust accuracy at 18 pixels: 51.00%\n",
      "Maximum perturbation size: 0.10000\n",
      "Restart 1 - Robust accuracy: 0.51\n",
      "Pixels changed:  [19  0 19 19  0  0 19 19 19  0  0  0 19  0  0 19 19 19  0  0 19  0 19  0\n",
      " 19  0 19  0  0  0 19 19 19 19  0 19  0 19  0  0 19  0 19  0  0  0 19 19\n",
      "  0 19  0  0 19 19 19 19  0 19 19 19  0 19  0 19 19  0  0  0 19  0 19 19\n",
      "  0  0  0  0 19  0 19  0  0  0  0  0 19 19 19 19  0  0  0 19 19  0 19 19\n",
      " 19  0  0  0]\n",
      "Robust accuracy at 19 pixels: 51.00%\n",
      "Maximum perturbation size: 0.10000\n",
      "Restart 1 - Robust accuracy: 0.51\n",
      "Pixels changed:  [20  0 20 20  0  0 20 20 20 20  0  0 20  0  0 20 20 20  0  0 20  0 20  0\n",
      " 20  0 20  0  0  0 20 20 20 20  0 20  0 20  0  0 20  0 20  0  0  0 20 20\n",
      "  0 20  0  0 20 20 20 20  0 20 20 20  0 20  0 20  0  0 20  0 20  0 20 20\n",
      "  0  0  0  0 20  0 20  0  0  0  0  0 20 20 20 20  0  0  0 20  0  0 20 20\n",
      " 20  0  0  0]\n",
      "Robust accuracy at 20 pixels: 51.00%\n",
      "Maximum perturbation size: 0.10000\n",
      "Restart 1 - Robust accuracy: 0.5\n",
      "Pixels changed:  [21  0 21  0  0  0 21 21 21 21  0  0 21  0  0 21 21 21  0  0 21  0 21  0\n",
      " 21 21 21  0  0  0 21 21 21 21  0 21  0 21  0  0 21  0 21  0  0  0 21 21\n",
      "  0 21  0  0 21 21 21 21  0 21 21 21  0 21  0 21  0  0  0  0 21 21 21 21\n",
      "  0 21  0  0 21  0 21  0  0  0  0  0 21 21 21 21  0  0  0 21  0  0 21 21\n",
      " 21  0  0  0]\n",
      "Robust accuracy at 21 pixels: 50.00%\n",
      "Maximum perturbation size: 0.10000\n",
      "Restart 1 - Robust accuracy: 0.47\n",
      "Pixels changed:  [22  0 22 22  0  0 22 22 22 22  0  0 22  0  0 22 22 22  0  0 22  0 22  0\n",
      " 22 22 22  0  0  0 22 22 22 22  0 22  0 22  0  0 22  0 22  0  0  0 22 22\n",
      "  0 22  0 22 22 22 22 22  0 22 22 22  0 22 22 22 22 22  0  0 22 22 22 22\n",
      "  0  0  0  0 22  0 22  0  0  0  0  0 22 22 22 22  0  0  0 22  0  0  0 22\n",
      " 22  0  0  0]\n",
      "Robust accuracy at 22 pixels: 47.00%\n",
      "Maximum perturbation size: 0.10000\n",
      "Restart 1 - Robust accuracy: 0.45\n",
      "Pixels changed:  [23  0 23 23 23  0 23 23 23 23  0  0 23  0  0 23 23 23  0  0 23  0 23  0\n",
      " 23 23 23  0  0  0 23 23 23 23  0 23  0 23  0  0 23  0 23  0  0  0 23 23\n",
      "  0 23  0  0 23 23 23 23  0 23 23 23  0 23 23 23 23 23  0  0 23 23 23 23\n",
      "  0  0  0  0 23  0 23  0  0  0  0  0 23 23 23 23  0  0  0 23  0  0 23 23\n",
      " 23 23  0  0]\n",
      "Robust accuracy at 23 pixels: 45.00%\n",
      "Maximum perturbation size: 0.10000\n",
      "Restart 1 - Robust accuracy: 0.44\n",
      "Pixels changed:  [24  0 24 24  0  0 24 24 24 24  0  0 24  0  0 24 24 24  0  0 24  0 24  0\n",
      " 24 24 24  0  0 24 24 24 24 24  0 24  0 24  0  0 24  0 24  0  0  0 24 24\n",
      "  0 24  0  0 24 24 24 24  0 24 24 24  0 24 24 24  0 24  0  0 24 24 24 24\n",
      " 24 24  0  0 24  0 24  0  0  0  0 24 24 24 24 24  0  0  0 24  0  0 24 24\n",
      " 24  0  0  0]\n",
      "Robust accuracy at 24 pixels: 44.00%\n",
      "Maximum perturbation size: 0.10000\n",
      "Restart 1 - Robust accuracy: 0.42\n",
      "Pixels changed:  [25  0 25 25 25  0 25 25 25 25  0  0 25  0  0 25 25 25  0  0 25  0 25  0\n",
      " 25  0 25  0  0 25 25 25 25 25  0 25  0 25  0  0 25  0 25  0  0  0 25 25\n",
      "  0 25  0  0 25 25 25 25  0 25 25 25  0 25 25 25 25 25  0  0 25 25 25 25\n",
      " 25 25  0  0 25  0 25  0  0 25  0  0 25 25 25 25  0  0  0 25 25  0 25 25\n",
      " 25  0  0  0]\n",
      "Robust accuracy at 25 pixels: 42.00%\n",
      "Maximum perturbation size: 0.10000\n",
      "Restart 1 - Robust accuracy: 0.44\n",
      "Pixels changed:  [26  0 26 26  0  0 26 26 26 26  0  0 26  0  0 26 26 26  0  0 26  0 26  0\n",
      " 26 26 26  0  0  0 26 26 26 26  0 26  0 26  0  0 26  0 26  0  0  0 26 26\n",
      "  0 26  0 26 26 26 26 26  0 26 26 26  0 26 26 26  0 26 26  0 26 26 26 26\n",
      "  0  0 26  0 26  0 26  0  0  0  0 26 26 26 26 26  0  0  0 26  0  0 26 26\n",
      " 26  0  0  0]\n",
      "Robust accuracy at 26 pixels: 44.00%\n",
      "Maximum perturbation size: 0.10000\n",
      "Restart 1 - Robust accuracy: 0.38\n",
      "Pixels changed:  [27  0 27 27  0  0 27 27 27 27  0  0 27  0  0 27 27 27  0  0 27  0 27  0\n",
      " 27 27 27  0  0  0 27 27 27 27  0 27 27 27  0  0 27  0 27  0  0  0 27 27\n",
      " 27 27  0  0 27 27 27 27  0 27 27 27  0 27 27 27 27 27 27  0 27 27 27 27\n",
      " 27 27 27  0 27  0 27  0  0 27  0 27 27 27 27 27  0  0  0 27 27  0 27 27\n",
      " 27  0  0  0]\n",
      "Robust accuracy at 27 pixels: 38.00%\n",
      "Maximum perturbation size: 0.10000\n",
      "Restart 1 - Robust accuracy: 0.42\n",
      "Pixels changed:  [28  0 28 28 28  0 28 28 28 28  0  0 28  0  0 28 28 28  0  0 28  0 28  0\n",
      " 28 28 28  0 28  0 28 28 28 28  0 28  0 28  0  0 28  0 28  0  0  0 28 28\n",
      "  0 28  0  0 28 28 28 28  0 28 28 28  0 28 28 28 28 28  0  0 28 28 28 28\n",
      " 28  0  0  0 28  0 28  0  0  0  0  0 28 28 28 28  0 28  0 28 28  0 28 28\n",
      " 28  0  0  0]\n",
      "Robust accuracy at 28 pixels: 42.00%\n",
      "Maximum perturbation size: 0.10000\n",
      "Restart 1 - Robust accuracy: 0.37\n",
      "Pixels changed:  [29  0 29 29  0  0 29 29 29 29  0  0 29  0  0 29 29 29  0  0 29  0 29  0\n",
      " 29 29 29  0  0  0 29 29 29 29  0 29  0 29  0  0 29  0 29  0  0  0 29 29\n",
      "  0 29  0 29 29 29 29 29 29 29 29 29  0 29 29 29 29 29 29  0 29 29 29 29\n",
      " 29 29 29  0 29  0 29  0  0  0  0 29 29 29 29 29  0 29  0 29 29  0 29 29\n",
      " 29 29  0  0]\n",
      "Robust accuracy at 29 pixels: 37.00%\n",
      "Maximum perturbation size: 0.10000\n",
      "Restart 1 - Robust accuracy: 0.4\n",
      "Pixels changed:  [30  0 30 30  0  0 30 30 30 30  0  0 30  0  0 30 30 30  0  0 30  0 30  0\n",
      " 30 30 30  0 30  0 30 30 30 30  0 30 30 30  0  0 30  0 30  0  0  0 30 30\n",
      "  0 30  0 30 30 30 30 30  0 30 30 30  0 30 30 30 30 30 30  0 30 30 30 30\n",
      "  0 30  0  0 30  0 30  0  0  0  0  0 30 30 30 30  0 30  0 30 30  0 30 30\n",
      " 30  0  0  0]\n",
      "Robust accuracy at 30 pixels: 40.00%\n",
      "Maximum perturbation size: 0.10000\n",
      "Restart 1 - Robust accuracy: 0.38\n",
      "Pixels changed:  [31  0 31 31 31  0 31 31 31 31  0  0 31  0  0 31 31 31  0  0 31  0 31  0\n",
      " 31 31 31  0  0  0 31 31 31 31  0 31  0 31  0  0 31  0 31  0  0  0 31 31\n",
      "  0 31  0  0 31 31 31 31  0 31 31 31  0 31 31 31 31 31 31  0 31 31 31 31\n",
      " 31 31 31  0 31  0 31  0  0 31  0 31 31 31 31 31  0  0  0 31 31  0 31 31\n",
      " 31 31  0  0]\n",
      "Robust accuracy at 31 pixels: 38.00%\n",
      "Maximum perturbation size: 0.10000\n",
      "Restart 1 - Robust accuracy: 0.34\n",
      "Pixels changed:  [32 32 32 32 32  0 32 32 32 32  0  0 32  0  0 32 32 32  0  0 32  0 32  0\n",
      " 32 32 32  0 32  0 32 32 32 32  0 32 32 32  0  0 32  0 32  0  0  0 32 32\n",
      "  0 32  0 32 32 32 32 32  0 32 32 32  0 32 32 32 32 32 32  0 32 32 32 32\n",
      " 32 32 32  0 32  0 32  0  0  0  0 32 32 32 32 32  0 32  0 32 32  0 32 32\n",
      " 32  0  0 32]\n",
      "Robust accuracy at 32 pixels: 34.00%\n",
      "Maximum perturbation size: 0.10000\n",
      "Restart 1 - Robust accuracy: 0.35\n",
      "Pixels changed:  [33  0 33 33 33  0 33 33 33 33  0  0 33  0  0 33 33 33  0  0 33  0 33  0\n",
      " 33 33 33  0 33 33 33 33 33 33  0 33 33 33  0 33 33  0 33  0  0  0 33 33\n",
      " 33 33  0 33 33 33 33 33  0 33 33 33  0 33 33 33 33 33  0  0 33 33 33 33\n",
      "  0 33 33  0 33  0 33  0  0  0  0 33 33 33 33 33  0  0  0 33 33  0 33 33\n",
      " 33 33  0  0]\n",
      "Robust accuracy at 33 pixels: 35.00%\n",
      "Maximum perturbation size: 0.10000\n",
      "Restart 1 - Robust accuracy: 0.37\n",
      "Pixels changed:  [34  0 34 34 34  0 34 34 34 34  0  0 34  0  0 34 34 34  0  0 34  0 34  0\n",
      " 34 34 34  0 34 34 34 34 34 34  0 34 34 34  0  0 34  0 34  0  0  0 34 34\n",
      "  0 34  0 34 34 34 34 34  0 34 34 34  0 34 34 34 34 34  0  0 34 34 34 34\n",
      "  0 34 34  0 34  0 34  0  0 34  0 34 34 34 34 34  0  0  0 34 34  0 34 34\n",
      " 34  0  0  0]\n",
      "Robust accuracy at 34 pixels: 37.00%\n",
      "Maximum perturbation size: 0.10000\n",
      "Restart 1 - Robust accuracy: 0.34\n",
      "Pixels changed:  [35 35 35 35 35  0 35 35 35 35  0  0 35  0  0 35 35 35  0  0 35  0 35  0\n",
      " 35 35 35  0 35 35 35 35 35 35  0 35 35 35  0  0 35  0 35  0  0  0 35 35\n",
      "  0 35  0  0 35 35 35 35 35 35 35 35  0 35 35 35 35 35 35  0 35 35 35 35\n",
      " 35 35 35  0 35  0 35  0  0  0  0 35 35 35 35 35  0 35  0 35 35  0 35 35\n",
      " 35  0  0  0]\n",
      "Robust accuracy at 35 pixels: 34.00%\n",
      "Maximum perturbation size: 0.10000\n",
      "Restart 1 - Robust accuracy: 0.34\n",
      "Pixels changed:  [36 36 36 36 36  0 36 36 36 36  0  0 36  0  0 36 36 36  0  0 36  0 36  0\n",
      " 36 36 36  0 36 36 36 36 36 36  0 36 36 36  0  0 36  0 36  0  0  0 36 36\n",
      "  0 36  0  0 36 36 36 36 36 36 36 36  0 36 36 36 36 36 36  0 36 36 36 36\n",
      " 36 36  0  0 36  0 36  0  0 36  0 36 36 36 36 36  0 36  0 36 36  0 36 36\n",
      " 36  0  0  0]\n",
      "Robust accuracy at 36 pixels: 34.00%\n",
      "Maximum perturbation size: 0.10000\n",
      "Restart 1 - Robust accuracy: 0.31\n",
      "Pixels changed:  [37 37 37 37 37  0 37 37 37 37  0  0 37  0  0 37 37 37  0  0 37  0 37  0\n",
      " 37 37 37  0 37 37 37 37 37 37  0 37 37 37  0 37 37  0 37  0  0  0 37 37\n",
      "  0 37  0 37 37 37 37 37 37 37 37 37  0 37 37 37 37 37 37  0 37 37 37 37\n",
      " 37 37 37  0 37  0 37  0  0 37  0 37 37 37 37 37  0  0  0 37 37  0 37 37\n",
      " 37 37  0  0]\n",
      "Robust accuracy at 37 pixels: 31.00%\n",
      "Maximum perturbation size: 0.10000\n",
      "Restart 1 - Robust accuracy: 0.32\n",
      "Pixels changed:  [38  0 38 38 38  0 38 38 38 38  0  0 38  0  0 38 38 38  0  0 38  0 38  0\n",
      " 38 38 38  0 38 38 38 38 38 38  0 38 38 38  0  0 38  0 38  0  0  0 38 38\n",
      "  0 38  0 38 38 38 38 38 38 38 38 38  0 38 38 38 38 38 38  0 38 38 38 38\n",
      " 38 38 38  0 38  0 38  0  0 38  0 38 38 38 38 38  0 38  0 38 38  0 38 38\n",
      " 38  0  0 38]\n",
      "Robust accuracy at 38 pixels: 32.00%\n",
      "Maximum perturbation size: 0.10000\n",
      "Restart 1 - Robust accuracy: 0.31\n",
      "Pixels changed:  [39 39 39 39 39  0 39 39 39 39  0  0 39  0  0 39 39 39  0  0 39 39 39  0\n",
      " 39 39 39  0 39  0 39 39 39 39  0 39 39 39  0  0 39  0 39  0  0  0 39 39\n",
      "  0 39  0 39 39 39 39 39 39 39 39 39  0 39 39 39 39 39 39 39 39 39 39 39\n",
      " 39 39 39  0 39  0 39  0  0 39  0 39 39 39 39 39  0 39  0 39 39  0 39 39\n",
      " 39  0  0  0]\n",
      "Robust accuracy at 39 pixels: 31.00%\n",
      "Maximum perturbation size: 0.10000\n",
      "Restart 1 - Robust accuracy: 0.28\n",
      "Pixels changed:  [40 40 40 40 40  0 40 40 40 40  0  0 40  0  0 40 40 40  0  0 40  0 40  0\n",
      " 40 40 40  0 40 40 40 40 40 40  0 40 40 40  0 40 40  0 40  0  0  0 40 40\n",
      "  0 40  0 40 40 40 40 40 40 40 40 40  0 40 40 40 40 40 40 40 40 40 40 40\n",
      " 40 40  0  0 40  0 40  0 40 40  0 40 40 40 40 40  0 40 40 40 40  0 40 40\n",
      " 40  0  0 40]\n",
      "Robust accuracy at 40 pixels: 28.00%\n",
      "Maximum perturbation size: 0.10000\n",
      "Restart 1 - Robust accuracy: 0.3\n",
      "Pixels changed:  [41 41 41 41 41  0 41 41 41 41  0  0 41  0  0 41 41 41  0  0 41  0 41  0\n",
      " 41 41 41  0 41 41 41 41 41 41  0 41 41 41  0 41 41  0 41  0  0  0 41 41\n",
      "  0 41  0 41 41 41 41 41 41 41 41 41  0 41 41 41 41 41 41 41 41 41 41 41\n",
      " 41 41 41  0 41  0 41  0  0 41  0 41 41 41 41 41  0 41  0 41 41  0 41 41\n",
      " 41  0  0  0]\n",
      "Robust accuracy at 41 pixels: 30.00%\n",
      "Maximum perturbation size: 0.10000\n",
      "Restart 1 - Robust accuracy: 0.29\n",
      "Pixels changed:  [42 42 42 42 42  0 42 42 42 42  0  0 42  0  0 42 42 42  0  0 42  0 42  0\n",
      " 42 42 42  0 42 42 42 42 42 42  0 42 42 42  0 42 42  0 42  0  0  0 42 42\n",
      " 42 42  0 42 42 42 42 42 42 42 42 42  0 42 42 42 42 42 42 42 42 42 42 42\n",
      " 42 42 42  0 42  0 42  0  0 42  0  0 42 42 42 42  0 42  0 42 42  0 42 42\n",
      " 42  0  0 42]\n",
      "Robust accuracy at 42 pixels: 29.00%\n",
      "Maximum perturbation size: 0.10000\n",
      "Restart 1 - Robust accuracy: 0.29\n",
      "Pixels changed:  [43 43 43 43 43  0 43 43 43 43  0  0 43  0  0 43 43 43  0  0 43  0 43  0\n",
      " 43 43 43  0 43 43 43 43 43 43  0 43 43 43  0 43 43  0 43  0  0  0 43 43\n",
      "  0 43  0 43 43 43 43 43 43 43 43 43 43 43 43 43 43 43 43 43 43 43 43 43\n",
      " 43 43 43  0 43  0 43  0  0 43  0 43 43 43 43 43  0 43  0 43 43  0 43 43\n",
      " 43  0  0  0]\n",
      "Robust accuracy at 43 pixels: 29.00%\n",
      "Maximum perturbation size: 0.10000\n",
      "Restart 1 - Robust accuracy: 0.27\n",
      "Pixels changed:  [44 44 44 44 44  0 44 44 44 44  0  0 44 44  0 44 44 44  0  0 44  0 44  0\n",
      " 44 44 44  0 44 44 44 44 44 44  0 44 44 44  0 44 44  0 44  0  0  0 44 44\n",
      "  0 44  0 44 44 44 44 44 44 44 44 44 44 44 44 44 44 44 44 44 44 44 44 44\n",
      " 44 44 44  0 44  0 44  0  0 44  0 44 44 44 44 44  0 44  0 44 44  0 44 44\n",
      " 44  0  0 44]\n",
      "Robust accuracy at 44 pixels: 27.00%\n",
      "Maximum perturbation size: 0.10000\n",
      "Restart 1 - Robust accuracy: 0.3\n",
      "Pixels changed:  [45 45 45 45 45  0 45 45 45 45  0  0 45  0  0 45 45 45  0  0 45  0 45  0\n",
      " 45 45 45  0 45 45 45 45 45 45  0 45 45 45  0 45 45  0 45  0  0  0 45 45\n",
      "  0 45  0 45 45 45 45 45 45 45 45 45  0 45 45 45 45 45 45 45 45 45 45 45\n",
      " 45 45 45  0 45  0 45  0  0 45  0 45 45 45 45 45  0 45  0 45 45  0 45 45\n",
      " 45  0  0  0]\n",
      "Robust accuracy at 45 pixels: 30.00%\n",
      "Maximum perturbation size: 0.10000\n",
      "Restart 1 - Robust accuracy: 0.25\n",
      "Pixels changed:  [46 46 46 46 46  0 46 46 46 46  0  0 46  0  0 46 46 46  0  0 46  0 46  0\n",
      " 46 46 46  0 46 46 46 46 46 46  0 46 46 46  0 46 46  0 46  0  0  0 46 46\n",
      " 46 46  0 46 46 46 46 46 46 46 46 46 46 46 46 46 46 46 46 46 46 46 46 46\n",
      " 46 46 46  0 46  0 46  0 46 46  0 46 46 46 46 46  0 46  0 46 46  0 46 46\n",
      " 46 46  0 46]\n",
      "Robust accuracy at 46 pixels: 25.00%\n",
      "Maximum perturbation size: 0.10000\n",
      "Restart 1 - Robust accuracy: 0.26\n",
      "Pixels changed:  [47 47 47 47 47  0 47 47 47 47  0  0 47  0  0 47 47 47  0  0 47  0 47  0\n",
      " 47 47 47  0 47 47 47 47 47 47 47 47 47 47  0 47 47  0 47  0  0  0 47 47\n",
      "  0 47  0 47 47 47 47 47 47 47 47 47  0 47 47 47 47 47 47 47 47 47 47 47\n",
      " 47 47 47  0 47  0 47  0 47 47  0 47 47 47 47 47  0 47 47 47 47  0 47 47\n",
      " 47  0  0 47]\n",
      "Robust accuracy at 47 pixels: 26.00%\n",
      "Maximum perturbation size: 0.10000\n",
      "Restart 1 - Robust accuracy: 0.26\n",
      "Pixels changed:  [48 48 48 48 48  0 48 48 48 48  0  0 48 48  0 48 48 48  0  0 48  0 48  0\n",
      " 48 48 48  0 48 48 48 48 48 48  0 48 48 48  0 48 48 48 48  0  0  0 48 48\n",
      "  0 48  0 48 48 48 48 48 48 48 48 48  0 48 48 48 48 48 48 48 48 48 48 48\n",
      " 48 48 48  0 48  0 48  0  0 48  0 48 48 48 48 48  0 48  0 48 48  0 48 48\n",
      " 48 48  0 48]\n",
      "Robust accuracy at 48 pixels: 26.00%\n",
      "Maximum perturbation size: 0.10000\n",
      "Restart 1 - Robust accuracy: 0.25\n",
      "Pixels changed:  [49 49 49 49 49  0 49 49 49 49  0  0 49 49  0 49 49 49  0  0 49 49 49  0\n",
      " 49 49 49  0 49 49 49 49 49 49  0 49 49 49  0 49 49  0 49  0  0  0 49 49\n",
      " 49 49  0 49 49 49 49 49 49 49 49 49 49 49 49 49 49 49 49 49 49 49 49 49\n",
      " 49 49 49  0 49  0 49  0  0 49  0 49 49 49 49 49  0 49  0 49 49  0 49 49\n",
      " 49  0  0 49]\n",
      "Robust accuracy at 49 pixels: 25.00%\n",
      "Maximum perturbation size: 0.10000\n",
      "Restart 1 - Robust accuracy: 0.28\n",
      "Pixels changed:  [50 50 50 50 50  0 50 50 50 50  0  0 50  0  0 50 50 50  0  0 50 50 50  0\n",
      " 50 50 50  0 50 50 50 50 50 50  0 50 50 50  0 50 50  0 50  0  0  0 50 50\n",
      "  0 50  0 50 50 50 50 50 50 50 50 50 50 50 50 50 50 50 50 50 50 50 50 50\n",
      " 50 50 50  0 50  0 50  0  0 50  0 50 50 50 50 50  0 50  0 50 50  0  0 50\n",
      " 50  0  0 50]\n",
      "Robust accuracy at 50 pixels: 28.00%\n",
      "Maximum perturbation size: 0.10000\n"
     ]
    }
   ],
   "source": [
    "robust_acc_pgd_l0_linf = []\n",
    "for k in range(1, 51):\n",
    "    args = {'type_attack': 'L0+Linf',\n",
    "                  'n_restarts': 1,\n",
    "                  'num_steps': 100,\n",
    "                  'step_size': 120000.0/255.0,\n",
    "                  'kappa': -1,\n",
    "                  'epsilon': 0.1,\n",
    "                  'sparsity': k}\n",
    "    attack = PGDattack(model, args)\n",
    "    adv_val, pixels_changed_PGD_val, pgd_adv_acc_PGD_val = attack.perturb(X_test, y_test)\n",
    "    robust_acc_pgd_l0_linf.append((k, np.sum(pgd_adv_acc_PGD_val)/X_test.shape[0]))"
   ]
  },
  {
   "attachments": {},
   "cell_type": "markdown",
   "metadata": {},
   "source": [
    "### Plotting the robust accuracy vs number of pixels changed for PGD attack with L0+Linf norm"
   ]
  },
  {
   "cell_type": "code",
   "execution_count": 285,
   "metadata": {},
   "outputs": [
    {
     "data": {
      "image/png": "[encoded data removed]",
      "text/plain": [
       "<Figure size 432x288 with 1 Axes>"
      ]
     },
     "metadata": {
      "needs_background": "light"
     },
     "output_type": "display_data"
    }
   ],
   "source": [
    "robust_acc_pgd_l0_linf = np.array(robust_acc_pgd_l0_linf)\n",
    "plt.plot(robust_acc_pgd_l0_linf[:,0], robust_acc_pgd_l0_linf[:,1])\n",
    "plt.xlabel('Number of pixels changed')\n",
    "plt.ylabel('Robust accuracy')\n",
    "plt.title('Robust accuracy vs number of pixels changed for PGD attack with L0+Linf norm')\n",
    "plt.show()"
   ]
  },
  {
   "cell_type": "code",
   "execution_count": 367,
   "metadata": {},
   "outputs": [],
   "source": [
    "modified_pixel_images_PGD_2_k10 = []\n",
    "modified_pixel_images_PGD_2_k10 = np.zeros((100, 32, 32, 3))\n",
    "for i in range(100):\n",
    "    modified_pixel_images_PGD_2_k10[i] = X_test[i] * (1 - adv_PGD_2_k10[i])"
   ]
  },
  {
   "cell_type": "code",
   "execution_count": 368,
   "metadata": {},
   "outputs": [
    {
     "name": "stderr",
     "output_type": "stream",
     "text": [
      "Clipping input data to the valid range for imshow with RGB data ([0..1] for floats or [0..255] for integers).\n"
     ]
    },
    {
     "name": "stdout",
     "output_type": "stream",
     "text": [
      "PGD attack with l0+linf norm (k=10)\n"
     ]
    },
    {
     "data": {
      "image/png": "[encoded data removed]",
      "text/plain": [
       "<Figure size 720x720 with 4 Axes>"
      ]
     },
     "metadata": {
      "needs_background": "light"
     },
     "output_type": "display_data"
    },
    {
     "data": {
      "image/png": "[encoded data removed]",
      "text/plain": [
       "<Figure size 720x720 with 4 Axes>"
      ]
     },
     "metadata": {
      "needs_background": "light"
     },
     "output_type": "display_data"
    },
    {
     "name": "stderr",
     "output_type": "stream",
     "text": [
      "Clipping input data to the valid range for imshow with RGB data ([0..1] for floats or [0..255] for integers).\n"
     ]
    },
    {
     "data": {
      "image/png": "[encoded data removed]",
      "text/plain": [
       "<Figure size 720x720 with 4 Axes>"
      ]
     },
     "metadata": {
      "needs_background": "light"
     },
     "output_type": "display_data"
    },
    {
     "name": "stderr",
     "output_type": "stream",
     "text": [
      "Clipping input data to the valid range for imshow with RGB data ([0..1] for floats or [0..255] for integers).\n"
     ]
    },
    {
     "data": {
      "image/png": "[encoded data removed]",
      "text/plain": [
       "<Figure size 720x720 with 4 Axes>"
      ]
     },
     "metadata": {
      "needs_background": "light"
     },
     "output_type": "display_data"
    },
    {
     "data": {
      "image/png": "[encoded data removed]",
      "text/plain": [
       "<Figure size 720x720 with 4 Axes>"
      ]
     },
     "metadata": {
      "needs_background": "light"
     },
     "output_type": "display_data"
    }
   ],
   "source": [
    "print('PGD attack with l0+linf norm (k=10)')\n",
    "\n",
    "for i in range(5):\n",
    "    plt.figure(figsize=(10,10))\n",
    "    plt.subplot(1,4,1)\n",
    "    plt.imshow(X_test[i])\n",
    "    plt.title('Original image')\n",
    "    plt.subplot(1,4,2)\n",
    "    plt.imshow(adv_PGD_2_k10[i])\n",
    "    plt.title('l0+linf norm')\n",
    "    plt.subplot(1,4,3)\n",
    "    plt.imshow(adv_PGD_2_k10[i]-X_test[i], cmap='Blues')\n",
    "    perturbation_percentage = np.sum(np.abs(adv_PGD_2_k10[i]-X_test[i])>0.1)/np.sum(np.abs(X_test[i])>0.1)\n",
    "    plt.title('Perurbation = ' + '{:.2f}'.format(perturbation_percentage*100) + '%')\n",
    "    plt.subplot(1,4,4)\n",
    "    plt.imshow(modified_pixel_images_PGD_2_k10[i])\n",
    "    plt.title('Modified pixels (Sparsity)')\n",
    "    plt.show()"
   ]
  },
  {
   "attachments": {},
   "cell_type": "markdown",
   "metadata": {},
   "source": [
    "### PGD attack with L0+sigma norm with k = 5 pixels"
   ]
  },
  {
   "cell_type": "code",
   "execution_count": 277,
   "metadata": {},
   "outputs": [
    {
     "name": "stdout",
     "output_type": "stream",
     "text": [
      "Restart 1 - Robust accuracy: 0.81\n",
      "Restart 2 - Robust accuracy: 0.8\n",
      "Restart 3 - Robust accuracy: 0.78\n",
      "Restart 4 - Robust accuracy: 0.77\n",
      "Restart 5 - Robust accuracy: 0.77\n",
      "Pixels changed:  [0 0 5 0 0 0 0 0 0 0 0 0 0 0 0 5 0 0 0 0 0 0 5 0 0 0 5 0 0 0 0 0 5 0 0 5 0\n",
      " 5 0 0 0 0 5 0 0 0 5 5 0 0 0 0 5 5 0 0 0 5 5 5 0 5 0 0 0 0 0 0 0 0 5 0 0 0\n",
      " 0 0 0 0 5 0 0 0 0 0 5 5 5 5 0 0 0 0 0 0 0 5 0 0 0 0]\n",
      "Robust accuracy at 5 pixels: 77.00%\n",
      "Maximum perturbation size: 0.30313\n"
     ]
    }
   ],
   "source": [
    "args = {'type_attack': 'L0+sigma',\n",
    "                'n_restarts': 5,\n",
    "                'num_steps': 100,\n",
    "                'step_size': 120000.0/255.0,\n",
    "                'kappa': 1,\n",
    "                'epsilon': -1,\n",
    "                'sparsity': 5}\n",
    "attack = PGDattack(model, args)\n",
    "adv_PGD_3, pixels_changed_PGD_3, pgd_adv_acc_PGD_3 = attack.perturb(X_test, y_test)\n",
    "\n",
    "# Save the results in the results folder\n",
    "np.save('./results/adv_PGD_3.npy', adv_PGD_3)"
   ]
  },
  {
   "attachments": {},
   "cell_type": "markdown",
   "metadata": {},
   "source": [
    "### PGD attack with L0+sigma norm with k = 10 pixels"
   ]
  },
  {
   "cell_type": "code",
   "execution_count": 286,
   "metadata": {},
   "outputs": [
    {
     "name": "stdout",
     "output_type": "stream",
     "text": [
      "Restart 1 - Robust accuracy: 0.61\n",
      "Restart 2 - Robust accuracy: 0.61\n",
      "Restart 3 - Robust accuracy: 0.6\n",
      "Restart 4 - Robust accuracy: 0.6\n",
      "Restart 5 - Robust accuracy: 0.6\n",
      "Pixels changed:  [10  0 10 10  0  0  0 10  0 10  0  0 10  0  0 10 10  0  0  0 10  0 10  0\n",
      " 10  0 10  0  0  0  0  0 10  0  0 10  0 10  0  0  0  0 10  0  0  0 10 10\n",
      "  0 10  0  0 10 10  0  0  0 10 10 10  0 10  0 10  0  0  0  0 10 10 10 10\n",
      "  0  0  0  0  0  0 10  0  0  0  0 10 10 10 10 10  0  0  0 10  0  0 10 10\n",
      " 10  0  0  0]\n",
      "Robust accuracy at 10 pixels: 60.00%\n",
      "Maximum perturbation size: 0.32860\n"
     ]
    }
   ],
   "source": [
    "args = {'type_attack': 'L0+sigma',\n",
    "                'n_restarts': 5,\n",
    "                'num_steps': 100,\n",
    "                'step_size': 120000.0/255.0,\n",
    "                'kappa': 1,\n",
    "                'epsilon': -1,\n",
    "                'sparsity': 10}\n",
    "attack = PGDattack(model, args)\n",
    "adv_PGD_3_k10, pixels_changed_PGD_3_k10, pgd_adv_acc_PGD_3_k10 = attack.perturb(X_test, y_test)\n",
    "\n",
    "# Save the results in the results folder\n",
    "np.save('./results/adv_PGD_3_k10.npy', adv_PGD_3_k10)"
   ]
  },
  {
   "attachments": {},
   "cell_type": "markdown",
   "metadata": {},
   "source": [
    "### PGD attack with L0+sigma norm with changing pixels from 1-50 with n-restarts = 1"
   ]
  },
  {
   "cell_type": "code",
   "execution_count": 287,
   "metadata": {},
   "outputs": [
    {
     "name": "stdout",
     "output_type": "stream",
     "text": [
      "Restart 1 - Robust accuracy: 0.89\n",
      "Pixels changed:  [0 0 0 0 0 0 0 0 0 0 0 0 0 0 0 1 0 0 0 0 0 0 0 0 0 0 0 0 0 0 0 0 0 0 0 0 0\n",
      " 1 0 0 0 0 0 0 0 0 0 1 0 0 0 0 1 1 0 0 0 1 1 1 0 1 0 0 0 0 0 0 0 0 0 0 0 0\n",
      " 0 0 0 0 0 0 0 0 0 0 1 0 0 1 0 0 0 0 0 0 0 0 0 0 0 0]\n",
      "Robust accuracy at 1 pixels: 89.00%\n",
      "Maximum perturbation size: 0.24093\n",
      "Restart 1 - Robust accuracy: 0.86\n",
      "Pixels changed:  [0 0 0 0 0 0 0 0 0 0 0 0 0 0 0 2 0 0 0 0 0 0 2 0 0 0 0 0 0 0 0 0 0 0 0 2 0\n",
      " 2 0 0 0 0 0 0 0 0 0 2 0 0 0 0 2 2 0 0 0 2 2 2 0 2 0 0 0 0 0 0 0 0 0 0 0 0\n",
      " 0 0 0 0 2 0 0 0 0 0 2 0 0 2 0 0 0 0 0 0 0 0 0 0 0 0]\n",
      "Robust accuracy at 2 pixels: 86.00%\n",
      "Maximum perturbation size: 0.26136\n",
      "Restart 1 - Robust accuracy: 0.85\n",
      "Pixels changed:  [0 0 0 0 0 0 0 0 0 0 0 0 0 0 0 3 0 0 0 0 0 0 0 0 0 0 0 0 0 0 0 0 0 0 0 3 0\n",
      " 3 0 0 0 0 0 0 0 0 0 3 0 0 0 0 3 3 0 0 0 3 3 3 0 3 0 0 0 0 0 0 0 0 3 0 0 0\n",
      " 0 0 0 0 3 0 0 0 0 0 3 0 0 3 0 0 0 0 0 0 0 3 0 0 0 0]\n",
      "Robust accuracy at 3 pixels: 85.00%\n",
      "Maximum perturbation size: 0.37001\n",
      "Restart 1 - Robust accuracy: 0.8\n",
      "Pixels changed:  [0 0 0 0 0 0 0 0 0 0 0 0 0 0 0 4 0 0 0 0 0 0 4 0 0 0 0 0 0 0 0 0 4 0 0 4 0\n",
      " 4 0 0 0 0 4 0 0 0 4 4 0 0 0 0 4 4 0 0 0 4 4 4 0 4 0 0 0 0 0 0 0 0 4 0 0 0\n",
      " 0 0 0 0 4 0 0 0 0 0 4 4 0 4 0 0 0 0 0 0 0 4 0 0 0 0]\n",
      "Robust accuracy at 4 pixels: 80.00%\n",
      "Maximum perturbation size: 0.37001\n",
      "Restart 1 - Robust accuracy: 0.78\n",
      "Pixels changed:  [0 0 5 0 0 0 0 0 0 0 0 0 0 0 0 5 0 0 0 0 0 0 5 0 0 0 5 0 0 0 0 0 5 0 0 5 0\n",
      " 5 0 0 0 0 5 0 0 0 5 5 0 0 0 0 5 5 0 0 0 5 5 5 0 5 0 0 0 0 0 0 0 0 5 0 0 0\n",
      " 0 0 0 0 5 0 0 0 0 0 5 5 0 5 0 0 0 0 0 0 0 5 0 0 0 0]\n",
      "Robust accuracy at 5 pixels: 78.00%\n",
      "Maximum perturbation size: 0.37001\n",
      "Restart 1 - Robust accuracy: 0.78\n",
      "Pixels changed:  [0 0 6 0 0 0 0 0 0 0 0 0 0 0 0 6 0 0 0 0 0 0 6 0 0 0 6 0 0 0 0 0 6 0 0 6 0\n",
      " 6 0 0 0 0 6 0 0 0 0 6 0 0 0 0 6 6 0 0 0 6 6 6 0 6 0 0 0 0 0 0 0 0 6 0 0 0\n",
      " 0 0 0 0 6 0 0 0 0 0 6 6 6 6 0 0 0 0 0 0 0 6 0 0 0 0]\n",
      "Robust accuracy at 6 pixels: 78.00%\n",
      "Maximum perturbation size: 0.28654\n",
      "Restart 1 - Robust accuracy: 0.74\n",
      "Pixels changed:  [0 0 7 0 0 0 0 0 0 0 0 0 0 0 0 7 0 0 0 0 0 0 7 0 7 0 7 0 0 0 0 0 7 0 0 7 0\n",
      " 7 0 0 0 0 7 0 0 0 7 7 0 0 0 0 7 7 0 0 0 7 7 7 0 7 0 0 0 0 0 0 7 0 7 0 0 0\n",
      " 0 0 0 0 7 0 0 0 0 0 7 7 7 7 0 0 0 7 0 0 0 7 0 0 0 0]\n",
      "Robust accuracy at 7 pixels: 74.00%\n",
      "Maximum perturbation size: 0.38196\n",
      "Restart 1 - Robust accuracy: 0.73\n",
      "Pixels changed:  [0 0 8 0 0 0 0 0 0 0 0 0 8 0 0 8 8 0 0 0 8 0 8 0 0 0 8 0 0 0 0 0 8 0 0 8 0\n",
      " 8 0 0 0 0 8 0 0 0 8 8 0 0 0 0 8 8 0 0 0 8 8 8 0 8 0 0 0 0 0 0 0 0 8 0 0 0\n",
      " 0 0 0 0 8 0 0 0 0 0 8 8 8 8 0 0 0 0 0 0 0 8 8 0 0 0]\n",
      "Robust accuracy at 8 pixels: 73.00%\n",
      "Maximum perturbation size: 0.39899\n",
      "Restart 1 - Robust accuracy: 0.68\n",
      "Pixels changed:  [0 0 9 9 0 0 0 0 9 0 0 0 9 0 0 9 0 0 0 0 9 0 9 0 9 0 9 0 0 0 0 0 9 0 0 9 0\n",
      " 9 0 0 0 0 9 0 0 0 9 9 0 9 0 0 9 9 0 0 0 9 9 9 0 9 0 0 0 0 0 0 9 9 9 0 0 0\n",
      " 0 0 0 0 9 0 0 0 0 0 9 9 0 9 0 0 0 0 0 0 9 9 9 0 0 0]\n",
      "Robust accuracy at 9 pixels: 68.00%\n",
      "Maximum perturbation size: 0.39555\n",
      "Restart 1 - Robust accuracy: 0.65\n",
      "Pixels changed:  [ 0  0 10 10  0  0 10  0  0  0  0  0 10  0  0 10 10  0  0  0 10  0 10  0\n",
      " 10  0 10  0  0  0  0  0 10  0  0 10  0 10  0  0  0  0 10  0  0  0 10 10\n",
      "  0 10  0  0 10 10  0  0  0 10 10 10  0 10  0 10  0  0  0  0 10  0 10 10\n",
      "  0  0 10  0  0  0 10  0  0  0  0  0 10 10 10 10  0  0  0 10  0  0  0 10\n",
      "  0  0  0  0]\n",
      "Robust accuracy at 10 pixels: 65.00%\n",
      "Maximum perturbation size: 0.36790\n",
      "Restart 1 - Robust accuracy: 0.63\n",
      "Pixels changed:  [ 0  0 11 11  0  0 11 11  0 11  0  0 11  0  0 11  0  0  0  0 11  0 11  0\n",
      " 11  0 11  0  0  0  0  0 11  0  0 11  0 11  0  0  0  0 11  0  0  0 11 11\n",
      "  0 11  0  0 11 11  0  0  0 11 11 11  0 11  0  0  0  0  0  0 11 11 11 11\n",
      "  0  0  0  0  0  0 11  0  0  0  0 11 11 11 11 11  0  0  0 11  0  0 11 11\n",
      "  0  0  0  0]\n",
      "Robust accuracy at 11 pixels: 63.00%\n",
      "Maximum perturbation size: 0.37001\n",
      "Restart 1 - Robust accuracy: 0.58\n",
      "Pixels changed:  [ 0  0 12 12  0  0  0 12  0 12  0  0 12  0  0 12 12  0  0  0 12  0 12  0\n",
      " 12  0 12  0  0  0  0 12 12 12  0 12  0 12  0  0  0  0 12  0  0  0 12 12\n",
      "  0 12  0  0 12 12  0  0  0 12 12 12  0 12  0 12  0  0  0  0 12 12 12 12\n",
      "  0  0  0  0 12  0 12  0  0  0  0 12 12 12 12 12  0  0  0 12  0  0 12 12\n",
      " 12  0  0  0]\n",
      "Robust accuracy at 12 pixels: 58.00%\n",
      "Maximum perturbation size: 0.36267\n",
      "Restart 1 - Robust accuracy: 0.56\n",
      "Pixels changed:  [ 0  0 13 13  0  0 13 13  0 13  0  0 13  0  0 13 13  0  0  0 13  0 13  0\n",
      " 13  0 13  0  0  0 13 13 13 13  0 13  0 13  0  0  0  0 13  0  0  0 13 13\n",
      "  0 13  0  0 13 13  0  0  0 13 13 13  0 13  0 13  0  0  0  0 13 13 13 13\n",
      "  0  0 13  0  0  0 13  0  0  0  0 13 13 13 13 13  0  0  0 13  0  0 13 13\n",
      " 13  0  0  0]\n",
      "Robust accuracy at 13 pixels: 56.00%\n",
      "Maximum perturbation size: 0.38196\n",
      "Restart 1 - Robust accuracy: 0.57\n",
      "Pixels changed:  [ 0  0 14 14  0  0 14 14  0 14  0  0 14  0  0 14 14  0  0  0 14  0 14  0\n",
      " 14  0 14  0  0  0  0 14 14 14  0 14  0 14  0  0  0  0 14  0  0  0 14 14\n",
      "  0 14  0  0 14 14  0  0  0 14 14 14  0 14  0 14  0  0  0  0 14 14 14 14\n",
      "  0  0 14  0 14  0 14  0  0  0  0 14 14 14 14 14  0  0  0 14  0  0 14 14\n",
      "  0  0  0  0]\n",
      "Robust accuracy at 14 pixels: 57.00%\n",
      "Maximum perturbation size: 0.37320\n",
      "Restart 1 - Robust accuracy: 0.54\n",
      "Pixels changed:  [15  0 15 15  0  0 15 15  0 15  0  0 15  0  0 15 15  0  0  0 15 15 15  0\n",
      " 15  0 15  0  0  0 15 15 15 15  0 15  0 15  0  0  0  0 15  0  0  0 15 15\n",
      "  0 15  0  0 15 15  0  0  0 15 15 15  0 15  0 15  0  0  0  0 15 15 15 15\n",
      "  0  0 15  0  0  0 15  0  0  0  0 15 15 15 15 15  0  0  0 15  0  0 15 15\n",
      " 15  0  0  0]\n",
      "Robust accuracy at 15 pixels: 54.00%\n",
      "Maximum perturbation size: 0.37234\n",
      "Restart 1 - Robust accuracy: 0.52\n",
      "Pixels changed:  [16  0 16 16  0  0 16 16  0 16  0  0 16  0  0 16 16  0  0  0 16  0 16  0\n",
      " 16  0 16  0  0  0 16 16 16 16  0 16  0 16  0  0 16  0 16  0  0  0 16 16\n",
      "  0 16  0  0 16 16  0  0  0 16 16 16  0 16  0 16  0  0  0  0 16 16 16 16\n",
      " 16  0 16  0 16  0 16  0  0  0  0 16 16 16 16 16  0  0  0 16  0  0 16 16\n",
      " 16  0  0  0]\n",
      "Robust accuracy at 16 pixels: 52.00%\n",
      "Maximum perturbation size: 0.39555\n",
      "Restart 1 - Robust accuracy: 0.51\n",
      "Pixels changed:  [ 0  0 17 17 17  0 17 17  0 17  0  0 17  0  0 17 17  0  0  0 17  0 17  0\n",
      " 17  0 17  0 17  0 17 17 17 17  0 17 17 17  0  0 17  0 17  0  0  0 17 17\n",
      "  0 17  0  0 17 17  0  0  0 17 17 17  0 17  0 17  0  0  0  0 17 17 17 17\n",
      "  0  0 17  0 17  0 17  0  0  0  0 17 17 17 17 17  0  0  0 17  0  0 17 17\n",
      " 17  0  0  0]\n",
      "Robust accuracy at 17 pixels: 51.00%\n",
      "Maximum perturbation size: 0.36989\n",
      "Restart 1 - Robust accuracy: 0.51\n",
      "Pixels changed:  [ 0  0 18 18  0  0 18 18  0 18  0  0 18  0  0 18 18  0  0  0 18 18 18  0\n",
      " 18  0 18  0 18  0 18 18 18 18  0 18  0 18  0  0 18  0 18  0  0  0 18 18\n",
      "  0 18  0  0 18 18  0  0  0 18 18 18  0 18  0 18  0  0  0 18 18 18 18 18\n",
      "  0  0 18  0 18  0 18  0  0  0  0 18 18 18 18 18  0  0  0 18  0  0 18 18\n",
      " 18  0  0  0]\n",
      "Robust accuracy at 18 pixels: 51.00%\n",
      "Maximum perturbation size: 0.37866\n",
      "Restart 1 - Robust accuracy: 0.45\n",
      "Pixels changed:  [19  0 19 19 19  0 19 19  0 19  0  0 19  0  0 19 19  0  0  0 19 19 19  0\n",
      " 19  0 19  0 19  0 19 19 19 19  0 19 19 19  0 19 19  0 19  0  0  0 19 19\n",
      "  0 19  0  0 19 19 19  0  0 19 19 19  0 19 19 19  0  0  0 19 19 19 19 19\n",
      "  0  0 19  0 19  0 19  0  0  0  0 19 19 19 19 19  0  0  0 19  0  0 19 19\n",
      " 19  0  0  0]\n",
      "Robust accuracy at 19 pixels: 45.00%\n",
      "Maximum perturbation size: 0.39899\n",
      "Restart 1 - Robust accuracy: 0.46\n",
      "Pixels changed:  [20  0 20 20 20  0 20 20  0 20  0  0 20  0  0 20 20  0  0  0 20 20 20  0\n",
      " 20  0 20  0 20  0 20 20 20 20  0 20  0 20  0 20 20  0 20  0  0  0 20 20\n",
      "  0 20  0  0 20 20  0  0  0 20 20 20  0 20 20 20  0  0  0 20 20 20 20 20\n",
      " 20  0 20  0 20  0 20  0  0  0  0 20 20 20 20 20  0  0  0 20  0  0 20 20\n",
      " 20  0  0  0]\n",
      "Robust accuracy at 20 pixels: 46.00%\n",
      "Maximum perturbation size: 0.37866\n",
      "Restart 1 - Robust accuracy: 0.46\n",
      "Pixels changed:  [21  0 21 21  0  0 21 21 21 21  0  0 21  0  0 21 21  0  0  0 21 21 21  0\n",
      " 21  0 21  0 21  0 21 21 21 21  0 21  0 21  0 21 21  0 21  0  0  0 21 21\n",
      "  0 21  0  0 21 21 21  0  0 21 21 21  0 21 21 21  0  0  0 21 21 21 21 21\n",
      "  0  0 21  0 21  0 21  0  0  0  0 21 21 21 21 21  0  0  0 21  0  0 21 21\n",
      " 21  0  0  0]\n",
      "Robust accuracy at 21 pixels: 46.00%\n",
      "Maximum perturbation size: 0.39899\n",
      "Restart 1 - Robust accuracy: 0.47\n",
      "Pixels changed:  [22  0 22 22  0  0 22 22  0 22  0  0 22  0  0 22 22  0  0  0 22  0 22  0\n",
      " 22  0 22  0 22  0 22 22 22 22  0 22  0 22  0 22 22  0 22  0  0  0 22 22\n",
      "  0 22  0  0 22 22 22  0  0 22 22 22  0 22 22 22  0  0  0 22 22 22 22 22\n",
      " 22  0 22  0 22  0 22  0  0  0  0 22 22 22 22 22  0  0  0 22  0  0 22 22\n",
      " 22  0  0  0]\n",
      "Robust accuracy at 22 pixels: 47.00%\n",
      "Maximum perturbation size: 0.38962\n",
      "Restart 1 - Robust accuracy: 0.43\n",
      "Pixels changed:  [23  0 23 23 23  0 23 23 23 23  0  0 23  0  0 23 23 23  0  0 23 23 23  0\n",
      " 23  0 23  0 23  0 23 23 23 23  0 23 23 23  0 23 23  0 23  0  0  0 23 23\n",
      "  0 23  0  0 23 23 23  0  0 23 23 23  0 23 23 23  0  0  0 23 23 23 23 23\n",
      "  0  0 23  0 23  0 23  0  0  0  0 23 23 23 23 23  0  0  0 23  0  0 23 23\n",
      " 23  0  0  0]\n",
      "Robust accuracy at 23 pixels: 43.00%\n",
      "Maximum perturbation size: 0.39555\n",
      "Restart 1 - Robust accuracy: 0.45\n",
      "Pixels changed:  [24  0 24 24 24  0 24 24  0 24  0  0 24  0  0 24 24  0  0  0 24 24 24  0\n",
      " 24  0 24  0 24 24 24 24 24 24  0 24  0 24  0 24 24  0 24  0  0  0 24 24\n",
      "  0 24  0  0 24 24  0  0  0 24 24 24  0 24 24 24  0  0  0 24 24 24 24 24\n",
      " 24  0 24  0 24  0 24  0  0  0  0 24 24 24 24 24  0  0  0 24  0  0 24 24\n",
      " 24  0  0  0]\n",
      "Robust accuracy at 24 pixels: 45.00%\n",
      "Maximum perturbation size: 0.40048\n",
      "Restart 1 - Robust accuracy: 0.42\n",
      "Pixels changed:  [25  0 25 25 25  0 25 25 25 25  0  0 25  0  0 25 25  0  0  0 25 25 25  0\n",
      " 25  0 25  0 25  0 25 25 25 25  0 25  0 25  0 25 25  0 25  0  0  0 25 25\n",
      "  0 25  0  0 25 25 25  0  0 25 25 25  0 25 25 25  0  0  0 25 25 25 25 25\n",
      " 25  0 25  0 25  0 25  0 25 25  0 25 25 25 25 25  0  0  0 25  0  0 25 25\n",
      " 25  0  0  0]\n",
      "Robust accuracy at 25 pixels: 42.00%\n",
      "Maximum perturbation size: 0.44155\n",
      "Restart 1 - Robust accuracy: 0.39\n",
      "Pixels changed:  [26  0 26 26 26  0 26 26 26 26  0  0 26  0  0 26 26 26  0  0 26 26 26  0\n",
      " 26  0 26  0 26 26 26 26 26 26  0 26  0 26  0 26 26  0 26  0  0  0 26 26\n",
      "  0 26  0  0 26 26 26  0  0 26 26 26  0 26 26 26  0  0  0 26 26 26 26 26\n",
      " 26  0 26  0 26  0 26  0  0 26  0 26 26 26 26 26  0  0  0 26  0  0 26 26\n",
      " 26 26  0 26]\n",
      "Robust accuracy at 26 pixels: 39.00%\n",
      "Maximum perturbation size: 0.39555\n",
      "Restart 1 - Robust accuracy: 0.39\n",
      "Pixels changed:  [27  0 27 27 27  0 27 27  0 27  0  0 27  0  0 27 27 27  0  0 27 27 27  0\n",
      " 27  0 27  0 27 27 27 27 27 27  0 27 27 27  0 27 27  0 27  0  0  0 27 27\n",
      "  0 27  0  0 27 27 27  0 27 27 27 27  0 27 27 27  0  0  0 27 27 27 27 27\n",
      " 27  0 27  0 27  0 27  0 27 27  0 27 27 27 27 27  0  0  0 27  0  0 27 27\n",
      " 27  0  0  0]\n",
      "Robust accuracy at 27 pixels: 39.00%\n",
      "Maximum perturbation size: 0.37866\n",
      "Restart 1 - Robust accuracy: 0.4\n",
      "Pixels changed:  [28  0 28 28 28  0 28 28 28 28  0  0 28  0  0 28 28 28  0  0 28 28 28  0\n",
      " 28  0 28  0 28  0 28 28 28 28  0 28  0 28  0 28 28  0 28  0  0  0 28 28\n",
      "  0 28  0  0 28 28 28  0 28 28 28 28  0 28 28 28  0  0  0 28 28 28 28 28\n",
      " 28  0 28  0 28  0 28  0 28 28  0 28 28 28 28 28  0  0  0 28  0  0 28 28\n",
      " 28  0  0  0]\n",
      "Robust accuracy at 28 pixels: 40.00%\n",
      "Maximum perturbation size: 0.39555\n",
      "Restart 1 - Robust accuracy: 0.4\n",
      "Pixels changed:  [29  0 29 29 29  0 29 29 29 29  0  0 29  0  0 29 29 29  0  0 29 29 29  0\n",
      " 29  0 29  0 29 29 29 29 29 29  0 29  0 29  0 29 29  0 29  0  0  0 29 29\n",
      "  0 29  0  0 29 29 29  0  0 29 29 29  0 29 29 29  0  0  0 29 29 29 29 29\n",
      " 29  0 29  0 29  0 29  0 29 29  0 29 29 29 29 29  0  0  0 29  0  0 29 29\n",
      " 29  0  0  0]\n",
      "Robust accuracy at 29 pixels: 40.00%\n",
      "Maximum perturbation size: 0.44155\n",
      "Restart 1 - Robust accuracy: 0.34\n",
      "Pixels changed:  [30  0 30 30 30  0 30 30 30 30 30  0 30  0  0 30 30 30  0  0 30 30 30  0\n",
      " 30  0 30  0 30  0 30 30 30 30  0 30 30 30  0 30 30  0 30  0  0 30 30 30\n",
      "  0 30  0  0 30 30 30  0 30 30 30 30  0 30 30 30  0  0 30 30 30 30 30 30\n",
      " 30  0 30  0 30  0 30  0 30 30  0 30 30 30 30 30  0  0  0 30  0  0 30 30\n",
      " 30  0 30 30]\n",
      "Robust accuracy at 30 pixels: 34.00%\n",
      "Maximum perturbation size: 0.40450\n",
      "Restart 1 - Robust accuracy: 0.35\n",
      "Pixels changed:  [31  0 31 31 31  0 31 31 31 31  0  0 31  0  0 31 31 31 31  0 31 31 31  0\n",
      " 31 31 31  0 31  0 31 31 31 31  0 31 31 31  0 31 31  0 31  0  0  0 31 31\n",
      "  0 31  0  0 31 31 31  0 31 31 31 31  0 31 31 31  0  0  0 31 31 31 31 31\n",
      " 31  0 31  0 31  0 31  0 31 31  0 31 31 31 31 31  0  0 31 31  0  0 31 31\n",
      " 31  0  0 31]\n",
      "Robust accuracy at 31 pixels: 35.00%\n",
      "Maximum perturbation size: 0.45053\n",
      "Restart 1 - Robust accuracy: 0.29\n",
      "Pixels changed:  [32  0 32 32 32  0 32 32 32 32  0  0 32  0 32 32 32 32  0  0 32 32 32  0\n",
      " 32 32 32  0 32  0 32 32 32 32  0 32 32 32  0 32 32  0 32  0  0  0 32 32\n",
      "  0 32  0  0 32 32 32  0 32 32 32 32  0 32 32 32  0  0 32 32 32 32 32 32\n",
      " 32 32 32  0 32  0 32 32 32 32  0 32 32 32 32 32  0  0 32 32 32  0 32 32\n",
      " 32 32 32 32]\n",
      "Robust accuracy at 32 pixels: 29.00%\n",
      "Maximum perturbation size: 0.45053\n",
      "Restart 1 - Robust accuracy: 0.34\n",
      "Pixels changed:  [33  0 33 33 33  0 33 33 33 33  0  0 33  0  0 33 33 33  0  0 33 33 33  0\n",
      " 33 33 33  0 33 33 33 33 33 33  0 33  0 33  0 33 33  0 33  0  0 33 33 33\n",
      "  0 33  0  0 33 33  0  0 33 33 33 33 33 33 33 33  0  0 33 33 33 33 33 33\n",
      " 33 33 33  0 33  0 33  0 33 33  0 33 33 33 33 33  0  0  0 33  0  0 33 33\n",
      " 33  0  0 33]\n",
      "Robust accuracy at 33 pixels: 34.00%\n",
      "Maximum perturbation size: 0.39555\n",
      "Restart 1 - Robust accuracy: 0.31\n",
      "Pixels changed:  [34  0 34 34 34  0 34 34 34 34  0  0 34 34  0 34 34 34  0  0 34 34 34  0\n",
      " 34 34 34  0 34 34 34 34 34 34  0 34 34 34  0 34 34  0 34  0  0 34 34 34\n",
      "  0 34  0  0 34 34 34  0 34 34 34 34  0 34 34 34  0  0 34 34 34 34 34 34\n",
      " 34  0 34  0 34  0 34  0 34 34  0 34 34 34 34 34  0 34  0 34 34  0 34 34\n",
      " 34  0  0 34]\n",
      "Robust accuracy at 34 pixels: 31.00%\n",
      "Maximum perturbation size: 0.39899\n",
      "Restart 1 - Robust accuracy: 0.29\n",
      "Pixels changed:  [35  0 35 35 35  0 35 35 35 35  0  0 35 35  0 35 35 35 35  0 35 35 35  0\n",
      " 35 35 35  0 35 35 35 35 35 35  0 35 35 35  0 35 35  0 35  0  0 35 35 35\n",
      "  0 35  0  0 35 35 35  0 35 35 35 35 35 35 35 35  0  0 35 35 35 35 35 35\n",
      " 35  0 35  0 35  0 35  0 35 35  0 35 35 35 35 35  0 35  0 35 35  0 35 35\n",
      " 35  0  0 35]\n",
      "Robust accuracy at 35 pixels: 29.00%\n",
      "Maximum perturbation size: 0.38496\n",
      "Restart 1 - Robust accuracy: 0.27\n",
      "Pixels changed:  [36  0 36 36 36  0 36 36 36 36  0  0 36 36  0 36 36 36 36  0 36 36 36  0\n",
      " 36 36 36  0 36 36 36 36 36 36  0 36 36 36  0 36 36 36 36  0  0 36 36 36\n",
      "  0 36  0  0 36 36 36  0 36 36 36 36 36 36 36 36  0  0  0 36 36 36 36 36\n",
      " 36 36 36  0 36  0 36  0 36 36  0 36 36 36 36 36  0 36 36 36 36  0 36 36\n",
      " 36  0  0 36]\n",
      "Robust accuracy at 36 pixels: 27.00%\n",
      "Maximum perturbation size: 0.44155\n",
      "Restart 1 - Robust accuracy: 0.28\n",
      "Pixels changed:  [37  0 37 37 37  0 37 37 37 37  0  0 37 37 37 37 37 37 37  0 37 37 37  0\n",
      " 37  0 37  0 37 37 37 37 37 37 37 37 37 37  0 37 37  0 37  0  0 37 37 37\n",
      "  0 37  0  0 37 37 37  0 37 37 37 37  0 37 37 37  0  0 37 37 37 37 37 37\n",
      " 37 37 37  0 37 37 37  0 37 37  0 37 37 37 37 37  0 37 37 37  0  0 37 37\n",
      " 37  0  0  0]\n",
      "Robust accuracy at 37 pixels: 28.00%\n",
      "Maximum perturbation size: 0.46468\n",
      "Restart 1 - Robust accuracy: 0.26\n",
      "Pixels changed:  [38  0 38 38 38  0 38 38 38 38  0  0 38 38 38 38 38 38  0  0 38 38 38  0\n",
      " 38 38 38  0 38 38 38 38 38 38 38 38 38 38  0 38 38  0 38  0  0 38 38 38\n",
      "  0 38  0  0 38 38 38  0 38 38 38 38  0 38 38 38 38  0 38 38 38 38 38 38\n",
      " 38 38 38  0 38 38 38  0 38 38  0 38 38 38 38 38  0 38 38 38 38  0 38 38\n",
      " 38  0  0  0]\n",
      "Robust accuracy at 38 pixels: 26.00%\n",
      "Maximum perturbation size: 0.46468\n",
      "Restart 1 - Robust accuracy: 0.21\n",
      "Pixels changed:  [39  0 39 39 39  0 39 39 39 39  0  0 39 39 39 39 39 39 39  0 39 39 39  0\n",
      " 39 39 39  0 39 39 39 39 39 39  0 39 39 39  0 39 39 39 39  0  0 39 39 39\n",
      "  0 39  0 39 39 39 39  0 39 39 39 39 39 39 39 39 39 39 39 39 39 39 39 39\n",
      " 39 39 39  0 39  0 39  0 39 39  0 39 39 39 39 39  0 39 39 39 39  0 39 39\n",
      " 39  0 39 39]\n",
      "Robust accuracy at 39 pixels: 21.00%\n",
      "Maximum perturbation size: 0.42155\n",
      "Restart 1 - Robust accuracy: 0.22\n",
      "Pixels changed:  [40  0 40 40 40  0 40 40 40 40  0  0 40 40 40 40 40 40 40  0 40 40 40  0\n",
      " 40 40 40  0 40 40 40 40 40 40 40 40 40 40  0 40 40 40 40  0  0 40 40 40\n",
      "  0 40  0  0 40 40 40 40 40 40 40 40 40 40 40 40 40  0 40 40 40 40 40 40\n",
      " 40  0 40  0 40  0 40  0 40 40  0 40 40 40 40 40  0 40 40 40 40  0 40 40\n",
      " 40  0 40 40]\n",
      "Robust accuracy at 40 pixels: 22.00%\n",
      "Maximum perturbation size: 0.40596\n",
      "Restart 1 - Robust accuracy: 0.22\n",
      "Pixels changed:  [41  0 41 41 41  0 41 41 41 41  0  0 41 41 41 41 41 41 41  0 41 41 41  0\n",
      " 41 41 41  0 41 41 41 41 41 41 41 41 41 41  0 41 41 41 41  0  0 41 41 41\n",
      "  0 41  0 41 41 41 41  0 41 41 41 41 41 41 41 41 41  0 41 41 41 41 41 41\n",
      " 41 41 41  0 41 41 41  0 41 41  0 41 41 41 41 41  0 41 41 41  0  0 41 41\n",
      " 41  0  0 41]\n",
      "Robust accuracy at 41 pixels: 22.00%\n",
      "Maximum perturbation size: 0.45053\n",
      "Restart 1 - Robust accuracy: 0.22\n",
      "Pixels changed:  [42  0 42 42 42  0 42 42 42 42  0  0 42 42 42 42 42 42 42  0 42 42 42  0\n",
      " 42 42 42  0 42 42 42 42 42 42 42 42 42 42  0 42 42 42 42  0  0 42 42 42\n",
      "  0 42  0  0 42 42 42  0 42 42 42 42 42 42 42 42 42 42 42 42 42 42 42 42\n",
      " 42 42 42  0 42  0 42  0 42 42  0 42 42 42 42 42  0 42 42 42 42  0 42 42\n",
      " 42  0  0 42]\n",
      "Robust accuracy at 42 pixels: 22.00%\n",
      "Maximum perturbation size: 0.46220\n",
      "Restart 1 - Robust accuracy: 0.18\n",
      "Pixels changed:  [43  0 43 43 43  0 43 43 43 43  0  0 43 43 43 43 43 43 43  0 43 43 43  0\n",
      " 43 43 43  0 43 43 43 43 43 43 43 43 43 43  0 43 43 43 43 43  0 43 43 43\n",
      "  0 43  0  0 43 43 43 43 43 43 43 43 43 43 43 43 43 43 43 43 43 43 43 43\n",
      " 43 43 43  0 43  0 43 43 43 43  0 43 43 43 43 43  0 43 43 43 43  0 43 43\n",
      " 43  0 43 43]\n",
      "Robust accuracy at 43 pixels: 18.00%\n",
      "Maximum perturbation size: 0.44155\n",
      "Restart 1 - Robust accuracy: 0.18\n",
      "Pixels changed:  [44  0 44 44 44 44 44 44 44 44  0  0 44 44 44 44 44 44 44  0 44 44 44  0\n",
      " 44 44 44  0 44 44 44 44 44 44 44 44 44 44  0 44 44 44 44  0  0 44 44 44\n",
      "  0 44  0  0 44 44 44 44 44 44 44 44 44 44 44 44 44 44 44 44 44 44 44 44\n",
      " 44 44 44 44 44 44 44  0 44 44  0 44 44 44 44 44  0 44 44 44  0  0 44 44\n",
      " 44 44  0 44]\n",
      "Robust accuracy at 44 pixels: 18.00%\n",
      "Maximum perturbation size: 0.40048\n",
      "Restart 1 - Robust accuracy: 0.19\n",
      "Pixels changed:  [45  0 45 45 45  0 45 45 45 45  0  0 45 45 45 45 45 45 45  0 45 45 45  0\n",
      " 45 45 45  0 45 45 45 45 45 45 45 45 45 45  0 45 45 45 45  0  0 45 45 45\n",
      "  0 45  0 45 45 45 45 45 45 45 45 45 45 45 45 45 45 45 45 45 45 45 45 45\n",
      " 45 45 45  0 45  0 45 45 45 45  0 45 45 45 45 45  0 45 45 45 45  0 45 45\n",
      " 45  0  0 45]\n",
      "Robust accuracy at 45 pixels: 19.00%\n",
      "Maximum perturbation size: 0.40114\n",
      "Restart 1 - Robust accuracy: 0.2\n",
      "Pixels changed:  [46  0 46 46 46  0 46 46 46 46  0  0 46 46 46 46 46 46 46  0 46 46 46  0\n",
      " 46 46 46  0 46 46 46 46 46 46  0 46 46 46  0 46 46 46 46  0  0 46 46 46\n",
      "  0 46 46 46 46 46 46  0 46 46 46 46 46 46 46 46 46  0 46 46 46 46 46 46\n",
      " 46 46 46  0 46 46 46 46 46 46  0 46 46 46 46 46  0 46 46 46 46  0 46 46\n",
      " 46  0  0 46]\n",
      "Robust accuracy at 46 pixels: 20.00%\n",
      "Maximum perturbation size: 0.44155\n",
      "Restart 1 - Robust accuracy: 0.18\n",
      "Pixels changed:  [47  0 47 47 47  0 47 47 47 47  0  0 47 47 47 47 47 47 47  0 47 47 47  0\n",
      " 47 47 47  0 47 47 47 47 47 47 47 47 47 47  0 47 47 47 47  0  0 47 47 47\n",
      "  0 47  0  0 47 47 47 47 47 47 47 47 47 47 47 47 47 47 47 47 47 47 47 47\n",
      " 47 47 47  0 47 47 47 47 47 47  0 47 47 47 47 47  0 47 47 47 47  0 47 47\n",
      " 47  0 47 47]\n",
      "Robust accuracy at 47 pixels: 18.00%\n",
      "Maximum perturbation size: 0.44155\n",
      "Restart 1 - Robust accuracy: 0.19\n",
      "Pixels changed:  [48  0 48 48 48  0 48 48 48 48  0 48 48 48 48 48 48 48 48  0 48 48 48  0\n",
      " 48 48 48  0 48 48 48 48 48 48 48 48 48 48  0 48 48 48 48  0  0 48 48 48\n",
      "  0 48 48 48 48 48 48 48 48 48 48 48 48 48 48 48 48  0 48 48 48 48 48 48\n",
      " 48 48 48  0 48  0 48  0 48 48  0 48 48 48 48 48  0 48 48 48 48  0 48 48\n",
      " 48  0  0 48]\n",
      "Robust accuracy at 48 pixels: 19.00%\n",
      "Maximum perturbation size: 0.46468\n",
      "Restart 1 - Robust accuracy: 0.15\n",
      "Pixels changed:  [49  0 49 49 49  0 49 49 49 49  0  0 49 49 49 49 49 49 49  0 49 49 49  0\n",
      " 49 49 49  0 49 49 49 49 49 49 49 49 49 49  0 49 49 49 49  0 49 49 49 49\n",
      "  0 49 49 49 49 49 49 49 49 49 49 49 49 49 49 49 49 49 49 49 49 49 49 49\n",
      " 49 49 49 49 49 49 49 49 49 49  0 49 49 49 49 49  0 49 49 49 49  0 49 49\n",
      " 49  0  0 49]\n",
      "Robust accuracy at 49 pixels: 15.00%\n",
      "Maximum perturbation size: 0.44155\n",
      "Restart 1 - Robust accuracy: 0.18\n",
      "Pixels changed:  [50  0 50 50 50  0 50 50 50 50  0  0 50 50 50 50 50 50 50  0 50 50 50  0\n",
      " 50 50 50  0 50 50 50 50 50 50 50 50 50 50  0 50 50 50 50  0  0 50 50 50\n",
      "  0 50  0 50 50 50 50  0 50 50 50 50 50 50 50 50 50 50 50 50 50 50 50 50\n",
      " 50 50 50 50 50  0 50 50 50 50  0 50 50 50 50 50  0 50 50 50 50 50 50 50\n",
      " 50  0  0 50]\n",
      "Robust accuracy at 50 pixels: 18.00%\n",
      "Maximum perturbation size: 0.40048\n"
     ]
    }
   ],
   "source": [
    "robust_acc_pgd_l0_sigma = []\n",
    "for k in range(1, 51):\n",
    "    args = {'type_attack': 'L0+sigma',\n",
    "                  'n_restarts': 1,\n",
    "                  'num_steps': 100,\n",
    "                  'step_size': 120000.0/255.0,\n",
    "                  'kappa': 1,\n",
    "                  'epsilon': -1,\n",
    "                  'sparsity': k}\n",
    "    attack = PGDattack(model, args)\n",
    "    adv_val, pixels_changed_PGD_val, pgd_adv_acc_PGD_val = attack.perturb(X_test, y_test)\n",
    "    robust_acc_pgd_l0_sigma.append((k, np.sum(pgd_adv_acc_PGD_val)/X_test.shape[0]))"
   ]
  },
  {
   "attachments": {},
   "cell_type": "markdown",
   "metadata": {},
   "source": [
    "### Plotting the robust accuracy vs number of pixels changed for PGD attack with L0+sigma norm"
   ]
  },
  {
   "cell_type": "code",
   "execution_count": 288,
   "metadata": {},
   "outputs": [
    {
     "data": {
      "image/png": "[encoded data removed]",
      "text/plain": [
       "<Figure size 432x288 with 1 Axes>"
      ]
     },
     "metadata": {
      "needs_background": "light"
     },
     "output_type": "display_data"
    }
   ],
   "source": [
    "robust_acc_pgd_l0_sigma = np.array(robust_acc_pgd_l0_sigma)\n",
    "plt.plot(robust_acc_pgd_l0_sigma[:,0], robust_acc_pgd_l0_sigma[:,1])\n",
    "plt.xlabel('Number of pixels changed')\n",
    "plt.ylabel('Robust accuracy')\n",
    "plt.title('Robust accuracy vs number of pixels changed for PGD attack with L0+sigma norm')\n",
    "plt.show()"
   ]
  },
  {
   "cell_type": "code",
   "execution_count": 369,
   "metadata": {},
   "outputs": [],
   "source": [
    "modified_pixel_images_PGD_3_k10 = []\n",
    "modified_pixel_images_PGD_3_k10 = np.zeros((100, 32, 32, 3))\n",
    "\n",
    "for i in range(100):\n",
    "    modified_pixel_images_PGD_3_k10[i] = X_test[i] * (1 - adv_PGD_3_k10[i])"
   ]
  },
  {
   "cell_type": "code",
   "execution_count": 370,
   "metadata": {},
   "outputs": [
    {
     "name": "stderr",
     "output_type": "stream",
     "text": [
      "Clipping input data to the valid range for imshow with RGB data ([0..1] for floats or [0..255] for integers).\n"
     ]
    },
    {
     "name": "stdout",
     "output_type": "stream",
     "text": [
      "PGD attack with l0+sigma norm (k=10)\n"
     ]
    },
    {
     "data": {
      "image/png": "[encoded data removed]",
      "text/plain": [
       "<Figure size 720x720 with 4 Axes>"
      ]
     },
     "metadata": {
      "needs_background": "light"
     },
     "output_type": "display_data"
    },
    {
     "data": {
      "image/png": "[encoded data removed]",
      "text/plain": [
       "<Figure size 720x720 with 4 Axes>"
      ]
     },
     "metadata": {
      "needs_background": "light"
     },
     "output_type": "display_data"
    },
    {
     "name": "stderr",
     "output_type": "stream",
     "text": [
      "Clipping input data to the valid range for imshow with RGB data ([0..1] for floats or [0..255] for integers).\n"
     ]
    },
    {
     "data": {
      "image/png": "[encoded data removed]",
      "text/plain": [
       "<Figure size 720x720 with 4 Axes>"
      ]
     },
     "metadata": {
      "needs_background": "light"
     },
     "output_type": "display_data"
    },
    {
     "name": "stderr",
     "output_type": "stream",
     "text": [
      "Clipping input data to the valid range for imshow with RGB data ([0..1] for floats or [0..255] for integers).\n"
     ]
    },
    {
     "data": {
      "image/png": "[encoded data removed]",
      "text/plain": [
       "<Figure size 720x720 with 4 Axes>"
      ]
     },
     "metadata": {
      "needs_background": "light"
     },
     "output_type": "display_data"
    },
    {
     "data": {
      "image/png": "[encoded data removed]",
      "text/plain": [
       "<Figure size 720x720 with 4 Axes>"
      ]
     },
     "metadata": {
      "needs_background": "light"
     },
     "output_type": "display_data"
    }
   ],
   "source": [
    "print('PGD attack with l0+sigma norm (k=10)')\n",
    "\n",
    "for i in range(5):\n",
    "    plt.figure(figsize=(10,10))\n",
    "    plt.subplot(1,4,1)\n",
    "    plt.imshow(X_test[i])\n",
    "    plt.title('Original image')\n",
    "    plt.subplot(1,4,2)\n",
    "    plt.imshow(adv_PGD_3_k10[i])\n",
    "    plt.title('l0+sigma norm')\n",
    "    plt.subplot(1,4,3)\n",
    "    plt.imshow(adv_PGD_3_k10[i]-X_test[i])\n",
    "    perturbation_percentage = np.sum(np.abs(adv_PGD_3_k10[i]-X_test[i])>0.1)/np.sum(np.abs(X_test[i])>0.1)\n",
    "    plt.title('Perurbation = ' + '{:.2f}'.format(perturbation_percentage*100) + '%')\n",
    "    plt.subplot(1,4,4)\n",
    "    plt.imshow(modified_pixel_images_PGD_3_k10[i])\n",
    "    plt.title('Modified pixels (Sparsity)')\n",
    "    plt.show()"
   ]
  },
  {
   "attachments": {},
   "cell_type": "markdown",
   "metadata": {},
   "source": [
    "### Clearing the GPU cache"
   ]
  },
  {
   "cell_type": "code",
   "execution_count": 278,
   "metadata": {},
   "outputs": [],
   "source": [
    "torch.cuda.empty_cache() "
   ]
  },
  {
   "attachments": {},
   "cell_type": "markdown",
   "metadata": {},
   "source": [
    "### CornerSearch attack with L0 norm with k = 10 pixels"
   ]
  },
  {
   "cell_type": "code",
   "execution_count": 251,
   "metadata": {},
   "outputs": [
    {
     "name": "stdout",
     "output_type": "stream",
     "text": [
      "Point 0 - adversarial example found changing 2 pixels\n",
      "Point 1 - adversarial example found changing 3 pixels\n",
      "Point 2 - adversarial example found changing 1 pixel\n",
      "Point 3 - adversarial example found changing 2 pixels\n",
      "Point 4 - adversarial example found changing 2 pixels\n",
      "Point 5 - adversarial example found changing 2 pixels\n",
      "Point 6 - adversarial example found changing 2 pixels\n",
      "Point 7 - adversarial example found changing 1 pixel\n",
      "Point 8 - adversarial example found changing 1 pixel\n",
      "Point 9 - adversarial example found changing 2 pixels\n",
      "Point 10 - adversarial example found changing 2 pixels\n",
      "Point 11 - adversarial example not found\n",
      "Point 12 - adversarial example found changing 2 pixels\n",
      "Point 13 - adversarial example found changing 3 pixels\n",
      "Point 14 - adversarial example found changing 5 pixels\n",
      "Point 15 - adversarial example found changing 1 pixel\n",
      "Point 16 - adversarial example found changing 2 pixels\n",
      "Point 17 - adversarial example found changing 2 pixels\n",
      "Point 18 - adversarial example found changing 2 pixels\n",
      "Point 19 - adversarial example found changing 3 pixels\n",
      "Point 20 - adversarial example found changing 1 pixel\n",
      "Point 21 - adversarial example found changing 2 pixels\n",
      "Point 22 - adversarial example found changing 1 pixel\n",
      "Point 23 - adversarial example not found\n",
      "Point 24 - adversarial example found changing 2 pixels\n",
      "Point 25 - adversarial example found changing 2 pixels\n",
      "Point 26 - adversarial example found changing 1 pixel\n",
      "Point 27 - adversarial example found changing 3 pixels\n",
      "Point 28 - adversarial example found changing 3 pixels\n",
      "Point 29 - adversarial example found changing 3 pixels\n",
      "Point 30 - adversarial example found changing 1 pixel\n",
      "Point 31 - adversarial example found changing 2 pixels\n",
      "Point 32 - adversarial example found changing 1 pixel\n",
      "Point 33 - adversarial example found changing 2 pixels\n",
      "Point 34 - adversarial example found changing 3 pixels\n",
      "Point 35 - adversarial example found changing 1 pixel\n",
      "Point 36 - adversarial example found changing 1 pixel\n",
      "Point 37 - misclassified\n",
      "Point 38 - adversarial example not found\n",
      "Point 39 - adversarial example found changing 3 pixels\n",
      "Point 40 - adversarial example found changing 2 pixels\n",
      "Point 41 - adversarial example found changing 2 pixels\n",
      "Point 42 - adversarial example found changing 1 pixel\n",
      "Point 43 - adversarial example found changing 2 pixels\n",
      "Point 44 - adversarial example found changing 3 pixels\n",
      "Point 45 - adversarial example found changing 7 pixels\n",
      "Point 46 - adversarial example found changing 1 pixel\n",
      "Point 47 - misclassified\n",
      "Point 48 - adversarial example not found\n",
      "Point 49 - adversarial example found changing 1 pixel\n",
      "Point 50 - adversarial example found changing 4 pixels\n",
      "Point 51 - adversarial example found changing 3 pixels\n",
      "Point 52 - misclassified\n",
      "Point 53 - adversarial example found changing 1 pixel\n",
      "Point 54 - adversarial example found changing 1 pixel\n",
      "Point 55 - adversarial example found changing 2 pixels\n",
      "Point 56 - adversarial example found changing 4 pixels\n",
      "Point 57 - adversarial example found changing 1 pixel\n",
      "Point 58 - misclassified\n",
      "Point 59 - misclassified\n",
      "Point 60 - adversarial example found changing 4 pixels\n",
      "Point 61 - adversarial example found changing 1 pixel\n",
      "Point 62 - adversarial example found changing 1 pixel\n",
      "Point 63 - adversarial example found changing 2 pixels\n",
      "Point 64 - adversarial example found changing 2 pixels\n",
      "Point 65 - adversarial example found changing 5 pixels\n",
      "Point 66 - adversarial example found changing 2 pixels\n",
      "Point 67 - adversarial example found changing 3 pixels\n",
      "Point 68 - adversarial example found changing 2 pixels\n",
      "Point 69 - adversarial example found changing 2 pixels\n",
      "Point 70 - adversarial example found changing 1 pixel\n",
      "Point 71 - adversarial example found changing 2 pixels\n",
      "Point 72 - adversarial example found changing 2 pixels\n",
      "Point 73 - adversarial example found changing 2 pixels\n",
      "Point 74 - adversarial example found changing 2 pixels\n",
      "Point 75 - adversarial example found changing 6 pixels\n",
      "Point 76 - adversarial example found changing 2 pixels\n",
      "Point 77 - adversarial example found changing 1 pixel\n",
      "Point 78 - adversarial example found changing 1 pixel\n",
      "Point 79 - adversarial example found changing 2 pixels\n",
      "Point 80 - adversarial example found changing 2 pixels\n",
      "Point 81 - adversarial example found changing 2 pixels\n",
      "Point 82 - adversarial example found changing 4 pixels\n",
      "Point 83 - adversarial example found changing 2 pixels\n",
      "Point 84 - adversarial example found changing 1 pixel\n",
      "Point 85 - adversarial example found changing 1 pixel\n",
      "Point 86 - adversarial example found changing 1 pixel\n",
      "Point 87 - misclassified\n",
      "Point 88 - adversarial example found changing 3 pixels\n",
      "Point 89 - adversarial example found changing 3 pixels\n",
      "Point 90 - adversarial example found changing 4 pixels\n",
      "Point 91 - adversarial example found changing 2 pixels\n",
      "Point 92 - adversarial example found changing 2 pixels\n",
      "Point 93 - adversarial example found changing 2 pixels\n",
      "Point 94 - adversarial example found changing 2 pixels\n",
      "Point 95 - adversarial example found changing 1 pixel\n",
      "Point 96 - adversarial example found changing 1 pixel\n",
      "Point 97 - adversarial example found changing 2 pixels\n",
      "Point 98 - adversarial example found changing 6 pixels\n",
      "Point 99 - adversarial example found changing 2 pixels\n",
      "Pixels changed:  [2 3 1 2 2 2 2 1 1 2 2 0 2 3 5 1 2 2 2 3 1 2 1 0 2 2 1 3 3 3 1 2 1 2 3 1 1\n",
      " 0 0 3 2 2 1 2 3 7 1 0 0 1 4 3 0 1 1 2 4 1 0 0 4 1 1 2 2 5 2 3 2 2 1 2 2 2\n",
      " 2 6 2 1 1 2 2 2 4 2 1 1 1 0 3 3 4 2 2 2 2 1 1 2 6 2]\n",
      "Robust accuracy at 10 pixels: 4.00%\n",
      "Maximum perturbation size: 1.00000\n"
     ]
    }
   ],
   "source": [
    "args = {'type_attack': 'L0',\n",
    "            'n_iter': 1000,\n",
    "            'n_max': 100,\n",
    "            'kappa': -1,\n",
    "            'epsilon': -1,\n",
    "            'sparsity': 10,\n",
    "            'size_incr': 1}\n",
    "\n",
    "attack = CSattack(model, args)\n",
    "adv_CS, pixel_changed_CS, fl_success_CS = attack.perturb(X_test, y_test)\n",
    "\n",
    "# Save the results in the results folder\n",
    "np.save('./results/adv_CS.npy', adv_CS)"
   ]
  },
  {
   "cell_type": "code",
   "execution_count": 371,
   "metadata": {},
   "outputs": [],
   "source": [
    "modified_pixel_images_CS = []\n",
    "modified_pixel_images_CS = np.zeros((100, 32, 32, 3))\n",
    "\n",
    "for i in range(100):\n",
    "    modified_pixel_images_CS[i] = X_test[i] * (1 - adv_CS[i])"
   ]
  },
  {
   "cell_type": "code",
   "execution_count": 372,
   "metadata": {},
   "outputs": [
    {
     "name": "stderr",
     "output_type": "stream",
     "text": [
      "Clipping input data to the valid range for imshow with RGB data ([0..1] for floats or [0..255] for integers).\n"
     ]
    },
    {
     "name": "stdout",
     "output_type": "stream",
     "text": [
      "CS attack with l0 norm (k=10)\n"
     ]
    },
    {
     "data": {
      "image/png": "[encoded data removed]",
      "text/plain": [
       "<Figure size 720x720 with 4 Axes>"
      ]
     },
     "metadata": {
      "needs_background": "light"
     },
     "output_type": "display_data"
    },
    {
     "name": "stderr",
     "output_type": "stream",
     "text": [
      "Clipping input data to the valid range for imshow with RGB data ([0..1] for floats or [0..255] for integers).\n"
     ]
    },
    {
     "data": {
      "image/png": "[encoded data removed]",
      "text/plain": [
       "<Figure size 720x720 with 4 Axes>"
      ]
     },
     "metadata": {
      "needs_background": "light"
     },
     "output_type": "display_data"
    },
    {
     "name": "stderr",
     "output_type": "stream",
     "text": [
      "Clipping input data to the valid range for imshow with RGB data ([0..1] for floats or [0..255] for integers).\n"
     ]
    },
    {
     "data": {
      "image/png": "[encoded data removed]",
      "text/plain": [
       "<Figure size 720x720 with 4 Axes>"
      ]
     },
     "metadata": {
      "needs_background": "light"
     },
     "output_type": "display_data"
    },
    {
     "data": {
      "image/png": "[encoded data removed]",
      "text/plain": [
       "<Figure size 720x720 with 4 Axes>"
      ]
     },
     "metadata": {
      "needs_background": "light"
     },
     "output_type": "display_data"
    },
    {
     "name": "stderr",
     "output_type": "stream",
     "text": [
      "Clipping input data to the valid range for imshow with RGB data ([0..1] for floats or [0..255] for integers).\n"
     ]
    },
    {
     "data": {
      "image/png": "[encoded data removed]",
      "text/plain": [
       "<Figure size 720x720 with 4 Axes>"
      ]
     },
     "metadata": {
      "needs_background": "light"
     },
     "output_type": "display_data"
    }
   ],
   "source": [
    "print('CS attack with l0 norm (k=10)')\n",
    "\n",
    "for i in range(5):\n",
    "    plt.figure(figsize=(10,10))\n",
    "    plt.subplot(1,4,1)\n",
    "    plt.imshow(X_test[i])\n",
    "    plt.title('Original image')\n",
    "    plt.subplot(1,4,2)\n",
    "    plt.imshow(adv_CS[i])\n",
    "    plt.title('l0 norm')\n",
    "    plt.subplot(1,4,3)\n",
    "    plt.imshow(adv_CS[i]-X_test[i])\n",
    "    perturbation_percentage = np.sum(np.abs(adv_CS[i]-X_test[i])>0.1)/np.sum(np.abs(X_test[i])>0.1)\n",
    "    plt.title('Perurbation = ' + '{:.2f}'.format(perturbation_percentage*100) + '%')\n",
    "    plt.subplot(1,4,4)\n",
    "    plt.imshow(modified_pixel_images_CS[i])\n",
    "    plt.title('Modified pixels (Sparsity)')\n",
    "    plt.show()"
   ]
  },
  {
   "attachments": {},
   "cell_type": "markdown",
   "metadata": {},
   "source": [
    "### CornerSearch attack with L0+inf norm"
   ]
  },
  {
   "cell_type": "code",
   "execution_count": 256,
   "metadata": {},
   "outputs": [
    {
     "name": "stdout",
     "output_type": "stream",
     "text": [
      "Point 0 - adversarial example found changing 2 pixels\n",
      "Point 1 - adversarial example found changing 3 pixels\n",
      "Point 2 - adversarial example found changing 1 pixel\n",
      "Point 3 - adversarial example found changing 2 pixels\n",
      "Point 4 - adversarial example found changing 2 pixels\n",
      "Point 5 - adversarial example found changing 2 pixels\n",
      "Point 6 - adversarial example found changing 2 pixels\n",
      "Point 7 - adversarial example found changing 1 pixel\n",
      "Point 8 - adversarial example found changing 1 pixel\n",
      "Point 9 - adversarial example found changing 2 pixels\n",
      "Point 10 - adversarial example found changing 2 pixels\n",
      "Point 11 - adversarial example not found\n",
      "Point 12 - adversarial example found changing 2 pixels\n",
      "Point 13 - adversarial example found changing 3 pixels\n",
      "Point 14 - adversarial example found changing 5 pixels\n",
      "Point 15 - adversarial example found changing 1 pixel\n",
      "Point 16 - adversarial example found changing 2 pixels\n",
      "Point 17 - adversarial example found changing 2 pixels\n",
      "Point 18 - adversarial example found changing 2 pixels\n",
      "Point 19 - adversarial example found changing 3 pixels\n",
      "Point 20 - adversarial example found changing 1 pixel\n",
      "Point 21 - adversarial example found changing 2 pixels\n",
      "Point 22 - adversarial example found changing 1 pixel\n",
      "Point 23 - adversarial example not found\n",
      "Point 24 - adversarial example found changing 2 pixels\n",
      "Point 25 - adversarial example found changing 2 pixels\n",
      "Point 26 - adversarial example found changing 1 pixel\n",
      "Point 27 - adversarial example found changing 3 pixels\n",
      "Point 28 - adversarial example found changing 3 pixels\n",
      "Point 29 - adversarial example found changing 3 pixels\n",
      "Point 30 - adversarial example found changing 1 pixel\n",
      "Point 31 - adversarial example found changing 2 pixels\n",
      "Point 32 - adversarial example found changing 1 pixel\n",
      "Point 33 - adversarial example found changing 2 pixels\n",
      "Point 34 - adversarial example found changing 3 pixels\n",
      "Point 35 - adversarial example found changing 1 pixel\n",
      "Point 36 - adversarial example found changing 1 pixel\n",
      "Point 37 - misclassified\n",
      "Point 38 - adversarial example not found\n",
      "Point 39 - adversarial example found changing 3 pixels\n",
      "Point 40 - adversarial example found changing 2 pixels\n",
      "Point 41 - adversarial example found changing 2 pixels\n",
      "Point 42 - adversarial example found changing 1 pixel\n",
      "Point 43 - adversarial example found changing 2 pixels\n",
      "Point 44 - adversarial example found changing 3 pixels\n",
      "Point 45 - adversarial example found changing 8 pixels\n",
      "Point 46 - adversarial example found changing 1 pixel\n",
      "Point 47 - misclassified\n",
      "Point 48 - adversarial example found changing 8 pixels\n",
      "Point 49 - adversarial example found changing 1 pixel\n",
      "Point 50 - adversarial example found changing 4 pixels\n",
      "Point 51 - adversarial example found changing 3 pixels\n",
      "Point 52 - misclassified\n",
      "Point 53 - adversarial example found changing 1 pixel\n",
      "Point 54 - adversarial example found changing 1 pixel\n",
      "Point 55 - adversarial example found changing 2 pixels\n",
      "Point 56 - adversarial example found changing 4 pixels\n",
      "Point 57 - adversarial example found changing 1 pixel\n",
      "Point 58 - misclassified\n",
      "Point 59 - misclassified\n",
      "Point 60 - adversarial example found changing 4 pixels\n",
      "Point 61 - adversarial example found changing 1 pixel\n",
      "Point 62 - adversarial example found changing 1 pixel\n",
      "Point 63 - adversarial example found changing 2 pixels\n",
      "Point 64 - adversarial example found changing 2 pixels\n",
      "Point 65 - adversarial example found changing 4 pixels\n",
      "Point 66 - adversarial example found changing 2 pixels\n",
      "Point 67 - adversarial example found changing 3 pixels\n",
      "Point 68 - adversarial example found changing 2 pixels\n",
      "Point 69 - adversarial example found changing 2 pixels\n",
      "Point 70 - adversarial example found changing 1 pixel\n",
      "Point 71 - adversarial example found changing 2 pixels\n",
      "Point 72 - adversarial example found changing 2 pixels\n",
      "Point 73 - adversarial example found changing 2 pixels\n",
      "Point 74 - adversarial example found changing 2 pixels\n",
      "Point 75 - adversarial example found changing 5 pixels\n",
      "Point 76 - adversarial example found changing 2 pixels\n",
      "Point 77 - adversarial example found changing 1 pixel\n",
      "Point 78 - adversarial example found changing 1 pixel\n",
      "Point 79 - adversarial example found changing 2 pixels\n",
      "Point 80 - adversarial example found changing 2 pixels\n",
      "Point 81 - adversarial example found changing 2 pixels\n",
      "Point 82 - adversarial example found changing 5 pixels\n",
      "Point 83 - adversarial example found changing 2 pixels\n",
      "Point 84 - adversarial example found changing 1 pixel\n",
      "Point 85 - adversarial example found changing 1 pixel\n",
      "Point 86 - adversarial example found changing 1 pixel\n",
      "Point 87 - misclassified\n",
      "Point 88 - adversarial example found changing 3 pixels\n",
      "Point 89 - adversarial example found changing 3 pixels\n",
      "Point 90 - adversarial example found changing 5 pixels\n",
      "Point 91 - adversarial example found changing 2 pixels\n",
      "Point 92 - adversarial example found changing 2 pixels\n",
      "Point 93 - adversarial example found changing 2 pixels\n",
      "Point 94 - adversarial example found changing 2 pixels\n",
      "Point 95 - adversarial example found changing 1 pixel\n",
      "Point 96 - adversarial example found changing 1 pixel\n",
      "Point 97 - adversarial example found changing 2 pixels\n",
      "Point 98 - adversarial example found changing 6 pixels\n",
      "Point 99 - adversarial example found changing 2 pixels\n",
      "Pixels changed:  [2 3 1 2 2 2 2 1 1 2 2 0 2 3 5 1 2 2 2 3 1 2 1 0 2 2 1 3 3 3 1 2 1 2 3 1 1\n",
      " 0 0 3 2 2 1 2 3 8 1 0 8 1 4 3 0 1 1 2 4 1 0 0 4 1 1 2 2 4 2 3 2 2 1 2 2 2\n",
      " 2 5 2 1 1 2 2 2 5 2 1 1 1 0 3 3 5 2 2 2 2 1 1 2 6 2]\n",
      "Robust accuracy at 10 pixels: 3.00%\n",
      "Maximum perturbation size: 1.00000\n"
     ]
    }
   ],
   "source": [
    "args = {'type_attack': 'L0+Linf',\n",
    "            'n_iter': 1000,\n",
    "            'n_max': 100,\n",
    "            'kappa': -1,\n",
    "            'epsilon': -1,\n",
    "            'sparsity': 10,\n",
    "            'size_incr': 1}\n",
    "\n",
    "attack = CSattack(model, args)\n",
    "adv_CS_2, pixel_changed_CS_2, fl_success_CS_2 = attack.perturb(X_test, y_test)\n",
    "\n",
    "# Save the results in the results folder\n",
    "np.save('./results/adv_CS_2.npy', adv_CS_2)"
   ]
  },
  {
   "cell_type": "code",
   "execution_count": 373,
   "metadata": {},
   "outputs": [],
   "source": [
    "modified_pixel_images_CS_2 = []\n",
    "modified_pixel_images_CS_2 = np.zeros((100, 32, 32, 3))\n",
    "\n",
    "for i in range(100):\n",
    "    modified_pixel_images_CS_2[i] = X_test[i] * (1 - adv_CS_2[i])"
   ]
  },
  {
   "cell_type": "code",
   "execution_count": 374,
   "metadata": {},
   "outputs": [
    {
     "name": "stderr",
     "output_type": "stream",
     "text": [
      "Clipping input data to the valid range for imshow with RGB data ([0..1] for floats or [0..255] for integers).\n"
     ]
    },
    {
     "name": "stdout",
     "output_type": "stream",
     "text": [
      "CS attack with l0+Linf norm (k=10)\n"
     ]
    },
    {
     "data": {
      "image/png": "[encoded data removed]",
      "text/plain": [
       "<Figure size 720x720 with 4 Axes>"
      ]
     },
     "metadata": {
      "needs_background": "light"
     },
     "output_type": "display_data"
    },
    {
     "name": "stderr",
     "output_type": "stream",
     "text": [
      "Clipping input data to the valid range for imshow with RGB data ([0..1] for floats or [0..255] for integers).\n"
     ]
    },
    {
     "data": {
      "image/png": "[encoded data removed]",
      "text/plain": [
       "<Figure size 720x720 with 4 Axes>"
      ]
     },
     "metadata": {
      "needs_background": "light"
     },
     "output_type": "display_data"
    },
    {
     "name": "stderr",
     "output_type": "stream",
     "text": [
      "Clipping input data to the valid range for imshow with RGB data ([0..1] for floats or [0..255] for integers).\n"
     ]
    },
    {
     "data": {
      "image/png": "[encoded data removed]",
      "text/plain": [
       "<Figure size 720x720 with 4 Axes>"
      ]
     },
     "metadata": {
      "needs_background": "light"
     },
     "output_type": "display_data"
    },
    {
     "data": {
      "image/png": "[encoded data removed]",
      "text/plain": [
       "<Figure size 720x720 with 4 Axes>"
      ]
     },
     "metadata": {
      "needs_background": "light"
     },
     "output_type": "display_data"
    },
    {
     "name": "stderr",
     "output_type": "stream",
     "text": [
      "Clipping input data to the valid range for imshow with RGB data ([0..1] for floats or [0..255] for integers).\n"
     ]
    },
    {
     "data": {
      "image/png": "[encoded data removed]",
      "text/plain": [
       "<Figure size 720x720 with 4 Axes>"
      ]
     },
     "metadata": {
      "needs_background": "light"
     },
     "output_type": "display_data"
    }
   ],
   "source": [
    "print('CS attack with l0+Linf norm (k=10)')\n",
    "\n",
    "for i in range(5):\n",
    "    plt.figure(figsize=(10,10))\n",
    "    plt.subplot(1,4,1)\n",
    "    plt.imshow(X_test[i])\n",
    "    plt.title('Original image')\n",
    "    plt.subplot(1,4,2)\n",
    "    plt.imshow(adv_CS_2[i])\n",
    "    plt.title('l0+Linf norm')\n",
    "    plt.subplot(1,4,3)\n",
    "    plt.imshow(adv_CS_2[i]-X_test[i])\n",
    "    perturbation_percentage = np.sum(np.abs(adv_CS_2[i]-X_test[i])>0.1)/np.sum(np.abs(X_test[i])>0.1)\n",
    "    plt.title('Perurbation = ' + '{:.2f}'.format(perturbation_percentage*100) + '%')\n",
    "    plt.subplot(1,4,4)\n",
    "    plt.imshow(modified_pixel_images_CS_2[i])\n",
    "    plt.title('Modified pixels (Sparsity)')\n",
    "    plt.show()"
   ]
  },
  {
   "attachments": {},
   "cell_type": "markdown",
   "metadata": {},
   "source": [
    "### CornerSearch attack with L0+sigma norm"
   ]
  },
  {
   "cell_type": "code",
   "execution_count": 258,
   "metadata": {},
   "outputs": [
    {
     "name": "stdout",
     "output_type": "stream",
     "text": [
      "Point 0 - adversarial example found changing 3 pixels\n",
      "Point 1 - adversarial example found changing 10 pixels\n",
      "Point 2 - adversarial example found changing 2 pixels\n",
      "Point 3 - adversarial example found changing 6 pixels\n",
      "Point 4 - adversarial example not found\n",
      "Point 5 - adversarial example found changing 10 pixels\n",
      "Point 6 - adversarial example found changing 6 pixels\n",
      "Point 7 - adversarial example found changing 2 pixels\n",
      "Point 8 - adversarial example found changing 2 pixels\n",
      "Point 9 - adversarial example found changing 5 pixels\n",
      "Point 10 - adversarial example found changing 6 pixels\n",
      "Point 11 - adversarial example not found\n",
      "Point 12 - adversarial example found changing 3 pixels\n",
      "Point 13 - adversarial example not found\n",
      "Point 14 - adversarial example not found\n",
      "Point 15 - adversarial example found changing 1 pixel\n",
      "Point 16 - adversarial example found changing 6 pixels\n",
      "Point 17 - adversarial example found changing 4 pixels\n",
      "Point 18 - adversarial example not found\n",
      "Point 19 - adversarial example not found\n",
      "Point 20 - adversarial example found changing 2 pixels\n",
      "Point 21 - adversarial example not found\n",
      "Point 22 - adversarial example found changing 1 pixel\n",
      "Point 23 - adversarial example not found\n",
      "Point 24 - adversarial example found changing 3 pixels\n",
      "Point 25 - adversarial example found changing 8 pixels\n",
      "Point 26 - adversarial example found changing 2 pixels\n",
      "Point 27 - adversarial example not found\n",
      "Point 28 - adversarial example found changing 7 pixels\n",
      "Point 29 - adversarial example not found\n",
      "Point 30 - adversarial example found changing 5 pixels\n",
      "Point 31 - adversarial example found changing 4 pixels\n",
      "Point 32 - adversarial example found changing 3 pixels\n",
      "Point 33 - adversarial example found changing 4 pixels\n",
      "Point 34 - adversarial example not found\n",
      "Point 35 - adversarial example found changing 1 pixel\n",
      "Point 36 - adversarial example found changing 6 pixels\n",
      "Point 37 - misclassified\n",
      "Point 38 - adversarial example not found\n",
      "Point 39 - adversarial example not found\n",
      "Point 40 - adversarial example found changing 10 pixels\n",
      "Point 41 - adversarial example not found\n",
      "Point 42 - adversarial example found changing 2 pixels\n",
      "Point 43 - adversarial example not found\n",
      "Point 44 - adversarial example not found\n",
      "Point 45 - adversarial example not found\n",
      "Point 46 - adversarial example found changing 2 pixels\n",
      "Point 47 - misclassified\n",
      "Point 48 - adversarial example not found\n",
      "Point 49 - adversarial example found changing 3 pixels\n",
      "Point 50 - adversarial example not found\n",
      "Point 51 - adversarial example not found\n",
      "Point 52 - misclassified\n",
      "Point 53 - adversarial example found changing 1 pixel\n",
      "Point 54 - adversarial example found changing 3 pixels\n",
      "Point 55 - adversarial example found changing 8 pixels\n",
      "Point 56 - adversarial example not found\n",
      "Point 57 - adversarial example found changing 1 pixel\n",
      "Point 58 - misclassified\n",
      "Point 59 - misclassified\n",
      "Point 60 - adversarial example not found\n",
      "Point 61 - adversarial example found changing 1 pixel\n",
      "Point 62 - adversarial example not found\n",
      "Point 63 - adversarial example found changing 3 pixels\n",
      "Point 64 - adversarial example not found\n",
      "Point 65 - adversarial example not found\n",
      "Point 66 - adversarial example not found\n",
      "Point 67 - adversarial example not found\n",
      "Point 68 - adversarial example found changing 3 pixels\n",
      "Point 69 - adversarial example found changing 7 pixels\n",
      "Point 70 - adversarial example found changing 2 pixels\n",
      "Point 71 - adversarial example found changing 5 pixels\n",
      "Point 72 - adversarial example found changing 4 pixels\n",
      "Point 73 - adversarial example found changing 9 pixels\n",
      "Point 74 - adversarial example found changing 9 pixels\n",
      "Point 75 - adversarial example not found\n",
      "Point 76 - adversarial example found changing 5 pixels\n",
      "Point 77 - adversarial example not found\n",
      "Point 78 - adversarial example found changing 1 pixel\n",
      "Point 79 - adversarial example found changing 10 pixels\n",
      "Point 80 - adversarial example found changing 9 pixels\n",
      "Point 81 - adversarial example found changing 7 pixels\n",
      "Point 82 - adversarial example not found\n",
      "Point 83 - adversarial example found changing 5 pixels\n",
      "Point 84 - adversarial example found changing 1 pixel\n",
      "Point 85 - adversarial example found changing 2 pixels\n",
      "Point 86 - adversarial example found changing 3 pixels\n",
      "Point 87 - misclassified\n",
      "Point 88 - adversarial example not found\n",
      "Point 89 - adversarial example not found\n",
      "Point 90 - adversarial example not found\n",
      "Point 91 - adversarial example found changing 3 pixels\n",
      "Point 92 - adversarial example not found\n",
      "Point 93 - adversarial example not found\n",
      "Point 94 - adversarial example found changing 3 pixels\n",
      "Point 95 - adversarial example found changing 2 pixels\n",
      "Point 96 - adversarial example found changing 3 pixels\n",
      "Point 97 - adversarial example not found\n",
      "Point 98 - adversarial example not found\n",
      "Point 99 - adversarial example not found\n",
      "Pixels changed:  [ 3 10  2  6  0 10  6  2  2  5  6  0  3  0  0  1  6  4  0  0  2  0  1  0\n",
      "  3  8  2  0  7  0  5  4  3  4  0  1  6  0  0  0 10  0  2  0  0  0  2  0\n",
      "  0  3  0  0  0  1  3  8  0  1  0  0  0  1  0  3  0  0  0  0  3  7  2  5\n",
      "  4  9  9  0  5  0  1 10  9  7  0  5  1  2  3  0  0  0  0  3  0  0  3  2\n",
      "  3  0  0  0]\n",
      "Robust accuracy at 10 pixels: 38.00%\n",
      "Maximum perturbation size: 0.49077\n"
     ]
    }
   ],
   "source": [
    "args = {'type_attack': 'L0+sigma',\n",
    "            'n_iter': 1000,\n",
    "            'n_max': 100,\n",
    "            'kappa': 1,\n",
    "            'epsilon': -1,\n",
    "            'sparsity': 10,\n",
    "            'size_incr': 1}\n",
    "\n",
    "attack = CSattack(model, args)\n",
    "adv_CS_3, pixel_changed_CS_3, fl_success_CS_3 = attack.perturb(X_test, y_test)\n",
    "\n",
    "# Save the results in the results folder\n",
    "np.save('./results/adv_CS_3.npy', adv_CS_3)"
   ]
  },
  {
   "cell_type": "code",
   "execution_count": 375,
   "metadata": {},
   "outputs": [],
   "source": [
    "modified_pixel_images_CS_3 = []\n",
    "modified_pixel_images_CS_3 = np.zeros((100, 32, 32, 3))\n",
    "\n",
    "for i in range(100):\n",
    "    modified_pixel_images_CS_3[i] = X_test[i] * (1 - adv_CS_3[i])"
   ]
  },
  {
   "cell_type": "code",
   "execution_count": 376,
   "metadata": {},
   "outputs": [
    {
     "name": "stderr",
     "output_type": "stream",
     "text": [
      "Clipping input data to the valid range for imshow with RGB data ([0..1] for floats or [0..255] for integers).\n"
     ]
    },
    {
     "name": "stdout",
     "output_type": "stream",
     "text": [
      "CS attack with l0+sigma norm (k=10)\n"
     ]
    },
    {
     "data": {
      "image/png": "[encoded data removed]",
      "text/plain": [
       "<Figure size 720x720 with 4 Axes>"
      ]
     },
     "metadata": {
      "needs_background": "light"
     },
     "output_type": "display_data"
    },
    {
     "name": "stderr",
     "output_type": "stream",
     "text": [
      "Clipping input data to the valid range for imshow with RGB data ([0..1] for floats or [0..255] for integers).\n"
     ]
    },
    {
     "data": {
      "image/png": "[encoded data removed]",
      "text/plain": [
       "<Figure size 720x720 with 4 Axes>"
      ]
     },
     "metadata": {
      "needs_background": "light"
     },
     "output_type": "display_data"
    },
    {
     "name": "stderr",
     "output_type": "stream",
     "text": [
      "Clipping input data to the valid range for imshow with RGB data ([0..1] for floats or [0..255] for integers).\n"
     ]
    },
    {
     "data": {
      "image/png": "[encoded data removed]",
      "text/plain": [
       "<Figure size 720x720 with 4 Axes>"
      ]
     },
     "metadata": {
      "needs_background": "light"
     },
     "output_type": "display_data"
    },
    {
     "name": "stderr",
     "output_type": "stream",
     "text": [
      "Clipping input data to the valid range for imshow with RGB data ([0..1] for floats or [0..255] for integers).\n"
     ]
    },
    {
     "data": {
      "image/png": "[encoded data removed]",
      "text/plain": [
       "<Figure size 720x720 with 4 Axes>"
      ]
     },
     "metadata": {
      "needs_background": "light"
     },
     "output_type": "display_data"
    },
    {
     "data": {
      "image/png": "[encoded data removed]",
      "text/plain": [
       "<Figure size 720x720 with 4 Axes>"
      ]
     },
     "metadata": {
      "needs_background": "light"
     },
     "output_type": "display_data"
    }
   ],
   "source": [
    "print('CS attack with l0+sigma norm (k=10)')\n",
    "\n",
    "for i in range(5):\n",
    "    plt.figure(figsize=(10,10))\n",
    "    plt.subplot(1,4,1)\n",
    "    plt.imshow(X_test[i])\n",
    "    plt.title('Original image')\n",
    "    plt.subplot(1,4,2)\n",
    "    plt.imshow(adv_CS_3[i])\n",
    "    plt.title('l0+sigma norm')\n",
    "    plt.subplot(1,4,3)\n",
    "    plt.imshow(adv_CS_3[i]-X_test[i])\n",
    "    perturbation_percentage = np.sum(np.abs(adv_CS_3[i]-X_test[i])>0.1)/np.sum(np.abs(X_test[i])>0.1)\n",
    "    plt.title('Perurbation = ' + '{:.2f}'.format(perturbation_percentage*100) + '%')\n",
    "    plt.subplot(1,4,4)\n",
    "    plt.imshow(modified_pixel_images_CS_3[i])\n",
    "    plt.title('Modified pixels (Sparsity)')\n",
    "    plt.show()"
   ]
  },
  {
   "attachments": {},
   "cell_type": "markdown",
   "metadata": {},
   "source": [
    "---"
   ]
  },
  {
   "attachments": {},
   "cell_type": "markdown",
   "metadata": {},
   "source": [
    "### Running attacks on the models with FashionMNIST dataset and evaluating the results with with 1000 test samples."
   ]
  },
  {
   "cell_type": "code",
   "execution_count": 57,
   "metadata": {},
   "outputs": [],
   "source": [
    "train_loader = torch.utils.data.DataLoader(datasets.FashionMNIST('data', train=True, download=True, transform=transforms.ToTensor()), batch_size=128, shuffle=True)"
   ]
  },
  {
   "cell_type": "code",
   "execution_count": 58,
   "metadata": {},
   "outputs": [
    {
     "name": "stdout",
     "output_type": "stream",
     "text": [
      "Train data shape:  torch.Size([60000, 28, 28])\n",
      "Train labels shape:  torch.Size([60000])\n"
     ]
    }
   ],
   "source": [
    "print(\"Train data shape: \", train_loader.dataset.train_data.shape)\n",
    "print(\"Train labels shape: \", train_loader.dataset.train_labels.shape)"
   ]
  },
  {
   "cell_type": "code",
   "execution_count": 53,
   "metadata": {},
   "outputs": [
    {
     "name": "stdout",
     "output_type": "stream",
     "text": [
      "X_test_Fashion shape:  (1000, 28, 28, 3)\n",
      "y_test_Fashion shape:  (1000,)\n"
     ]
    }
   ],
   "source": [
    "X_test_Fashion, y_test_Fashion = load_data(dataset = 'FashionMNIST', data_dir = 'data', n_examples=1000)\n",
    "\n",
    "print('X_test_Fashion shape: ', X_test_Fashion.shape)\n",
    "print('y_test_Fashion shape: ', y_test_Fashion.shape)"
   ]
  },
  {
   "cell_type": "code",
   "execution_count": 54,
   "metadata": {},
   "outputs": [],
   "source": [
    "class FashionCNN(nn.Module):\n",
    "    def __init__(self):\n",
    "        super(FashionCNN, self).__init__()\n",
    "        self.conv1 = nn.Conv2d(\n",
    "            in_channels=1, out_channels=10, kernel_size=5, padding=1) # Number of filters in the first convolutional layer = 10\n",
    "        nn.init.kaiming_normal_(self.conv1.weight) # Initializing the weights of the first convolutional layer using Kaiming Normal Initialization also known as He Normal Initialization\n",
    "        self.pool = nn.MaxPool2d(kernel_size=2, stride=2)\n",
    "        self.conv2 = nn.Conv2d(\n",
    "            in_channels=10, out_channels=20, kernel_size=5, padding=1)\n",
    "        nn.init.kaiming_normal_(self.conv2.weight)\n",
    "        self.conv3 = nn.Conv2d(\n",
    "            in_channels=20, out_channels=40, kernel_size=5, padding=1)\n",
    "        nn.init.kaiming_normal_(self.conv3.weight)\n",
    "        self.conv4 = nn.Conv2d(\n",
    "            in_channels=40, out_channels=64, kernel_size=5, padding=1)\n",
    "        nn.init.kaiming_normal_(self.conv4.weight)\n",
    "        \n",
    "        self.fc = nn.Linear(in_features=64 * 10 * 10, out_features=256)\n",
    "        nn.init.kaiming_normal_(self.fc.weight)\n",
    "        self.fc_out = nn.Linear(in_features=256, out_features=10)\n",
    "        nn.init.kaiming_normal_(self.fc_out.weight)\n",
    "\n",
    "    def forward(self, x):\n",
    "        x = F.relu(self.conv1(x)) # Applying ReLU activation function\n",
    "        x = F.relu(self.conv2(x))\n",
    "        x = F.relu(self.conv3(x))\n",
    "        x = F.relu(self.conv4(x))\n",
    "        x = self.pool(x)\n",
    "        x = x.view(-1, 64 * 10 * 10)\n",
    "        x = F.relu(self.fc(x))\n",
    "        x = self.fc_out(x) \n",
    "        return x"
   ]
  },
  {
   "cell_type": "code",
   "execution_count": 55,
   "metadata": {},
   "outputs": [],
   "source": [
    "model_Fashion = FashionCNN().to(device)\n",
    "criterion = nn.CrossEntropyLoss()\n",
    "optimizer = optim.Adam(model_Fashion.parameters(), lr=0.001)"
   ]
  },
  {
   "cell_type": "code",
   "execution_count": 59,
   "metadata": {},
   "outputs": [],
   "source": [
    "def train_model(model, optimizer, epochs, train_loss, train_accuracy):\n",
    "    for epoch in range(epochs):\n",
    "        running_loss = 0.0\n",
    "        correct = 0\n",
    "        for data in train_loader:\n",
    "            inputs, labels = data\n",
    "            inputs, labels = inputs.to(device), labels.to(device)\n",
    "        \n",
    "            optimizer.zero_grad()\n",
    "            outputs = model(inputs)\n",
    "            loss = criterion(outputs, labels.long())\n",
    "            loss.backward()\n",
    "            optimizer.step()\n",
    "\n",
    "            running_loss += loss.item()\n",
    "            _, predicted = torch.max(outputs, 1)\n",
    "            correct += (predicted == labels).sum().item()\n",
    "        avg_loss = running_loss/len(train_loader)\n",
    "        avg_accuracy = correct/len(train_loader.dataset)\n",
    "        train_loss.append(avg_loss)\n",
    "        train_accuracy.append(avg_accuracy)\n",
    "        print(\"Epoch:\", epoch+1, \"Training Loss: \", avg_loss, \"\\t Training Accuracy: \", avg_accuracy)\n",
    "    print(\"Training complete!\")\n",
    "    return train_loss, train_accuracy"
   ]
  },
  {
   "cell_type": "code",
   "execution_count": 60,
   "metadata": {},
   "outputs": [
    {
     "name": "stdout",
     "output_type": "stream",
     "text": [
      "Epoch: 1 Training Loss:  0.4045677246378937 \t Training Accuracy:  0.8556833333333334\n",
      "Epoch: 2 Training Loss:  0.24917818224633426 \t Training Accuracy:  0.9097166666666666\n",
      "Epoch: 3 Training Loss:  0.19884255785804822 \t Training Accuracy:  0.9258333333333333\n",
      "Epoch: 4 Training Loss:  0.16027844257986368 \t Training Accuracy:  0.9413333333333334\n",
      "Epoch: 5 Training Loss:  0.12473825990422957 \t Training Accuracy:  0.9546166666666667\n",
      "Epoch: 6 Training Loss:  0.09953737123084984 \t Training Accuracy:  0.9628666666666666\n",
      "Epoch: 7 Training Loss:  0.07603272894171001 \t Training Accuracy:  0.9714833333333334\n",
      "Epoch: 8 Training Loss:  0.0576640961459403 \t Training Accuracy:  0.9794166666666667\n",
      "Epoch: 9 Training Loss:  0.04605048209397015 \t Training Accuracy:  0.9828333333333333\n",
      "Epoch: 10 Training Loss:  0.03901981207718854 \t Training Accuracy:  0.9852666666666666\n",
      "Epoch: 11 Training Loss:  0.03305907384492457 \t Training Accuracy:  0.9876166666666667\n",
      "Epoch: 12 Training Loss:  0.031000574929580124 \t Training Accuracy:  0.9888\n",
      "Epoch: 13 Training Loss:  0.027154326701272668 \t Training Accuracy:  0.9907833333333333\n",
      "Epoch: 14 Training Loss:  0.024588500657158573 \t Training Accuracy:  0.9910333333333333\n",
      "Epoch: 15 Training Loss:  0.02328602891252277 \t Training Accuracy:  0.9917\n",
      "Training complete!\n"
     ]
    }
   ],
   "source": [
    "train_loss = []\n",
    "train_accuracy = []\n",
    "train_loss, train_accuracy = train_model(model_Fashion, optimizer, 15, train_loss, train_accuracy)"
   ]
  },
  {
   "attachments": {},
   "cell_type": "markdown",
   "metadata": {},
   "source": [
    "### PGD attack with L0 norm with k = 5 pixels"
   ]
  },
  {
   "cell_type": "code",
   "execution_count": 63,
   "metadata": {},
   "outputs": [],
   "source": [
    "args = {'type_attack': 'L0',\n",
    "                'n_restarts': 5,\n",
    "                'num_steps': 100,\n",
    "                'step_size': 120000.0/255.0,\n",
    "                'kappa': -1,\n",
    "                'epsilon': -1,\n",
    "                'sparsity': 5}\n",
    "\n",
    "attack = PGDattack(model_Fashion, args)\n",
    "\n",
    "adv_PGD_Fashion = attack.perturb(X_test_Fashion, y_test_Fashion)\n",
    "\n",
    "np.save('./results/adv_PGD_Fashion.npy', adv_PGD_Fashion)"
   ]
  },
  {
   "attachments": {},
   "cell_type": "markdown",
   "metadata": {},
   "source": [
    "### PGD attack with L0 norm with k = 10 pixels"
   ]
  },
  {
   "cell_type": "code",
   "execution_count": null,
   "metadata": {},
   "outputs": [],
   "source": [
    "args = {'type_attack': 'L0',\n",
    "                'n_restarts': 5,\n",
    "                'num_steps': 100,\n",
    "                'step_size': 120000.0/255.0,\n",
    "                'kappa': -1,\n",
    "                'epsilon': -1,\n",
    "                'sparsity': 10}\n",
    "\n",
    "attack = PGDattack(model_Fashion, args)\n",
    "\n",
    "adv_PGD_Fashion_10 = attack.perturb(X_test_Fashion, y_test_Fashion)\n",
    "\n",
    "np.save('./results/adv_PGD_Fashion_10.npy', adv_PGD_Fashion_10)"
   ]
  },
  {
   "attachments": {},
   "cell_type": "markdown",
   "metadata": {},
   "source": [
    "### PGD attack with L0 norm with changing pixels from 1-50 with n-restarts = 1"
   ]
  },
  {
   "cell_type": "code",
   "execution_count": null,
   "metadata": {},
   "outputs": [],
   "source": [
    "robust_acc_pgd_l0_Fashion = []\n",
    "for i in range(1, 51):\n",
    "    args = {'type_attack': 'L0',\n",
    "                'n_restarts': 1,\n",
    "                'num_steps': 100,\n",
    "                'step_size': 120000.0/255.0,\n",
    "                'kappa': -1,\n",
    "                'epsilon': -1,\n",
    "                'sparsity': i}\n",
    "    attack = PGDattack(model_Fashion, args)\n",
    "    adv_val, pixels_changed_PGD_val, pgd_adv_acc_PGD_val = attack.perturb(X_test_Fashion, y_test_Fashion)\n",
    "    robust_acc_pgd_l0_Fashion.append((k, np.sum(pgd_adv_acc_PGD_val)/X_test_Fashion.shape[0]))"
   ]
  },
  {
   "attachments": {},
   "cell_type": "markdown",
   "metadata": {},
   "source": [
    "### PGD attack with L0+Linf norm with k = 5 pixels"
   ]
  },
  {
   "cell_type": "code",
   "execution_count": null,
   "metadata": {},
   "outputs": [],
   "source": [
    "args = {'type_attack': 'L0+Linf',\n",
    "                'n_restarts': 5,\n",
    "                'num_steps': 100,\n",
    "                'step_size': 120000.0/255.0,\n",
    "                'kappa': -1,\n",
    "                'epsilon': 0.3,\n",
    "                'sparsity': 5}\n",
    "\n",
    "attack = PGDattack(model_Fashion, args)\n",
    "adv_PGD_l0_linf_Fashion, pixels_changed_PGD_l0_linf_Fashion, pgd_adv_acc_PGD_l0_linf_Fashion = attack.perturb(X_test_Fashion, y_test_Fashion)\n",
    "\n",
    "np.save('./results/adv_PGD_l0_linf_Fashion.npy', adv_PGD_l0_linf_Fashion)"
   ]
  },
  {
   "attachments": {},
   "cell_type": "markdown",
   "metadata": {},
   "source": [
    "### PGD attack with L0+Linf norm with k = 10 pixels"
   ]
  },
  {
   "cell_type": "code",
   "execution_count": null,
   "metadata": {},
   "outputs": [],
   "source": [
    "args = {'type_attack': 'L0+Linf',\n",
    "                'n_restarts': 5,\n",
    "                'num_steps': 100,\n",
    "                'step_size': 120000.0/255.0,\n",
    "                'kappa': -1,\n",
    "                'epsilon': 0.3,\n",
    "                'sparsity': 10}\n",
    "\n",
    "attack = PGDattack(model_Fashion, args)\n",
    "adv_PGD_l0_linf_Fashion_10, pixels_changed_PGD_l0_linf_Fashion_10, pgd_adv_acc_PGD_l0_linf_Fashion_10 = attack.perturb(X_test_Fashion, y_test_Fashion)\n",
    "\n",
    "np.save('./results/adv_PGD_l0_linf_Fashion_10.npy', adv_PGD_l0_linf_Fashion_10)"
   ]
  },
  {
   "attachments": {},
   "cell_type": "markdown",
   "metadata": {},
   "source": [
    "### PGD attack with L0+Linf norm with changing pixels from 1-50 with n-restarts = 1"
   ]
  },
  {
   "cell_type": "code",
   "execution_count": null,
   "metadata": {},
   "outputs": [],
   "source": [
    "robust_acc_pgd_l0_linf_Fashion = []\n",
    "for i in range(1, 51):\n",
    "    args = {'type_attack': 'L0+Linf',\n",
    "                'n_restarts': 1,\n",
    "                'num_steps': 100,\n",
    "                'step_size': 120000.0/255.0,\n",
    "                'kappa': -1,\n",
    "                'epsilon': 0.3,\n",
    "                'sparsity': i}\n",
    "    attack = PGDattack(model_Fashion, args)\n",
    "    adv_val, pixels_changed_PGD_val, pgd_adv_acc_PGD_val = attack.perturb(X_test_Fashion, y_test_Fashion)\n",
    "    robust_acc_pgd_l0_linf_Fashion.append((k, np.sum(pgd_adv_acc_PGD_val)/X_test_Fashion.shape[0]))"
   ]
  },
  {
   "attachments": {},
   "cell_type": "markdown",
   "metadata": {},
   "source": [
    "### PGD attack with L0+sigma norm with k = 5 pixels"
   ]
  },
  {
   "cell_type": "code",
   "execution_count": null,
   "metadata": {},
   "outputs": [],
   "source": [
    "args = {'type_attack': 'L0+sigma',\n",
    "                'n_restarts': 5,\n",
    "                'num_steps': 100,\n",
    "                'step_size': 120000.0/255.0,\n",
    "                'kappa': -1,\n",
    "                'epsilon': 0.3,\n",
    "                'sparsity': 5}\n",
    "\n",
    "attack = PGDattack(model_Fashion, args)\n",
    "adv_PGD_l0_sigma_Fashion, pixels_changed_PGD_l0_sigma_Fashion, pgd_adv_acc_PGD_l0_sigma_Fashion = attack.perturb(X_test_Fashion, y_test_Fashion)\n",
    "\n",
    "np.save('./results/adv_PGD_l0_sigma_Fashion.npy', adv_PGD_l0_sigma_Fashion)"
   ]
  },
  {
   "attachments": {},
   "cell_type": "markdown",
   "metadata": {},
   "source": [
    "### PGD attack with L0+sigma norm with k = 10 pixels"
   ]
  },
  {
   "cell_type": "code",
   "execution_count": null,
   "metadata": {},
   "outputs": [],
   "source": [
    "args = {'type_attack': 'L0+sigma',\n",
    "                'n_restarts': 5,\n",
    "                'num_steps': 100,\n",
    "                'step_size': 120000.0/255.0,\n",
    "                'kappa': -1,\n",
    "                'epsilon': 0.3,\n",
    "                'sparsity': 10}\n",
    "\n",
    "attack = PGDattack(model_Fashion, args)\n",
    "adv_PGD_l0_sigma_Fashion_10, pixels_changed_PGD_l0_sigma_Fashion_10, pgd_adv_acc_PGD_l0_sigma_Fashion_10 = attack.perturb(X_test_Fashion, y_test_Fashion)\n",
    "\n",
    "np.save('./results/adv_PGD_l0_sigma_Fashion_10.npy', adv_PGD_l0_sigma_Fashion_10)"
   ]
  },
  {
   "attachments": {},
   "cell_type": "markdown",
   "metadata": {},
   "source": [
    "### PGD attack with L0+sigma norm with changing pixels from 1-50 with n-restarts = 1"
   ]
  },
  {
   "cell_type": "code",
   "execution_count": null,
   "metadata": {},
   "outputs": [],
   "source": [
    "robust_acc_pgd_l0_sigma_Fashion = []\n",
    "for i in range(1, 51):\n",
    "    args = {'type_attack': 'L0+sigma',\n",
    "                'n_restarts': 1,\n",
    "                'num_steps': 100,\n",
    "                'step_size': 120000.0/255.0,\n",
    "                'kappa': -1,\n",
    "                'epsilon': 0.3,\n",
    "                'sparsity': i}\n",
    "    attack = PGDattack(model_Fashion, args)\n",
    "    adv_val, pixels_changed_PGD_val, pgd_adv_acc_PGD_val = attack.perturb(X_test_Fashion, y_test_Fashion)\n",
    "    robust_acc_pgd_l0_sigma_Fashion.append((k, np.sum(pgd_adv_acc_PGD_val)/X_test_Fashion.shape[0]))"
   ]
  },
  {
   "attachments": {},
   "cell_type": "markdown",
   "metadata": {},
   "source": [
    "### Clearing the GPU cache"
   ]
  },
  {
   "cell_type": "code",
   "execution_count": 64,
   "metadata": {},
   "outputs": [],
   "source": [
    "torch.cuda.empty_cache()"
   ]
  },
  {
   "attachments": {},
   "cell_type": "markdown",
   "metadata": {},
   "source": [
    "### CornerSearch attack with L0 norm with k = 10 pixels"
   ]
  },
  {
   "cell_type": "code",
   "execution_count": null,
   "metadata": {},
   "outputs": [],
   "source": [
    "args = {'type_attack': 'L0',\n",
    "            'n_iter': 1000,\n",
    "            'n_max': 100,\n",
    "            'kappa': -1,\n",
    "            'epsilon': -1,\n",
    "            'sparsity': 10,\n",
    "            'size_incr': 1}\n",
    "\n",
    "attack = CSattack(model_Fashion, args)\n",
    "adv_CS_l0_Fashion, pixels_changed_CS_l0_Fashion, cs_adv_acc_CS_l0_Fashion = attack.perturb(X_test_Fashion, y_test_Fashion)\n",
    "\n",
    "np.save('./results/adv_CS_l0_Fashion.npy', adv_CS_l0_Fashion)"
   ]
  },
  {
   "attachments": {},
   "cell_type": "markdown",
   "metadata": {},
   "source": [
    "### CornerSearch attack with L0+inf norm"
   ]
  },
  {
   "cell_type": "code",
   "execution_count": null,
   "metadata": {},
   "outputs": [],
   "source": [
    "args = {'type_attack': 'L0+Linf',\n",
    "            'n_iter': 1000,\n",
    "            'n_max': 100,\n",
    "            'kappa': -1,\n",
    "            'epsilon': -1,\n",
    "            'sparsity': 10,\n",
    "            'size_incr': 1}\n",
    "\n",
    "attack = CSattack(model_Fashion, args)\n",
    "adv_CS_l0_linf_Fashion, pixels_changed_CS_l0_linf_Fashion, cs_adv_acc_CS_l0_linf_Fashion = attack.perturb(X_test_Fashion, y_test_Fashion)\n",
    "\n",
    "np.save('./results/adv_CS_l0_linf_Fashion.npy', adv_CS_l0_linf_Fashion)"
   ]
  },
  {
   "attachments": {},
   "cell_type": "markdown",
   "metadata": {},
   "source": [
    "### CornerSearch attack with L0+sigma norm"
   ]
  },
  {
   "cell_type": "code",
   "execution_count": null,
   "metadata": {},
   "outputs": [],
   "source": [
    "args = {'type_attack': 'L0+sigma',\n",
    "            'n_iter': 1000,\n",
    "            'n_max': 100,\n",
    "            'kappa': 1,\n",
    "            'epsilon': -1,\n",
    "            'sparsity': 10,\n",
    "            'size_incr': 1}\n",
    "\n",
    "attack = CSattack(model_Fashion, args)\n",
    "adv_CS_l0_sigma_Fashion, pixels_changed_CS_l0_sigma_Fashion, cs_adv_acc_CS_l0_sigma_Fashion = attack.perturb(X_test_Fashion, y_test_Fashion)\n",
    "\n",
    "np.save('./results/adv_CS_l0_sigma_Fashion.npy', adv_CS_l0_sigma_Fashion)"
   ]
  },
  {
   "attachments": {},
   "cell_type": "markdown",
   "metadata": {},
   "source": [
    "---"
   ]
  }
 ],
 "metadata": {
  "kernelspec": {
   "display_name": "Python 3",
   "language": "python",
   "name": "python3"
  },
  "language_info": {
   "codemirror_mode": {
    "name": "ipython",
    "version": 3
   },
   "file_extension": ".py",
   "mimetype": "text/x-python",
   "name": "python",
   "nbconvert_exporter": "python",
   "pygments_lexer": "ipython3",
   "version": "3.7.8"
  },
  "orig_nbformat": 4,
  "vscode": {
   "interpreter": {
    "hash": "944b8a8c947819cdcd92dbaefd7d7c651f3b60be70c70fd1986d9bc9e4beb4c9"
   }
  }
 },
 "nbformat": 4,
 "nbformat_minor": 2
}
